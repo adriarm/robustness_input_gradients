{
 "cells": [
  {
   "cell_type": "code",
   "execution_count": 1,
   "id": "65a5dc59-663b-4a6e-b272-297e25490f5e",
   "metadata": {},
   "outputs": [
    {
     "name": "stderr",
     "output_type": "stream",
     "text": [
      "/data/vision/torralba/naturally_robust_models/.local/lib/python3.10/site-packages/matplotlib/projections/__init__.py:63: UserWarning: Unable to import Axes3D. This may be due to multiple versions of Matplotlib being installed (e.g. as a system package and as a pip package). As a result, the 3D projection is not available.\n",
      "  warnings.warn(\"Unable to import Axes3D. This may be due to multiple versions of \"\n"
     ]
    }
   ],
   "source": [
    "%matplotlib inline"
   ]
  },
  {
   "cell_type": "code",
   "execution_count": 2,
   "id": "8c949049-a5a2-49cd-840e-3b4177655a29",
   "metadata": {},
   "outputs": [
    {
     "name": "stderr",
     "output_type": "stream",
     "text": [
      "/data/vision/torralba/naturally_robust_models/.local/lib/python3.10/site-packages/tqdm/auto.py:21: TqdmWarning: IProgress not found. Please update jupyter and ipywidgets. See https://ipywidgets.readthedocs.io/en/stable/user_install.html\n",
      "  from .autonotebook import tqdm as notebook_tqdm\n"
     ]
    }
   ],
   "source": [
    "import torch\n",
    "import torch.nn as nn\n",
    "import timm\n",
    "import numpy as np\n",
    "import torchvision\n",
    "import seaborn as sns\n",
    "import matplotlib.pyplot as plt\n",
    "import pandas as pd\n",
    "import robustbench\n",
    "\n",
    "device = torch.device('cuda', 4)"
   ]
  },
  {
   "cell_type": "markdown",
   "id": "6c2c5962",
   "metadata": {},
   "source": [
    "## Utils"
   ]
  },
  {
   "cell_type": "code",
   "execution_count": 3,
   "id": "47afd44f",
   "metadata": {},
   "outputs": [],
   "source": [
    "def abs_normalize(x, q=None, start_dim=-3):\n",
    "  s = torch.quantile(x.abs().flatten(start_dim=start_dim), q=max(q, 1-q), dim=-1, keepdim=False)\n",
    "  x = 0.5 + 0.5 * x/s[(..., ) + (None,)*(-start_dim)]\n",
    "\n",
    "  x = torch.clamp(x, 0., 1.)\n",
    "  return x\n",
    "  \n",
    "def plot_side_by_side_normalize(*images, normalize):\n",
    "  plt.figure(figsize=(20,20))\n",
    "  assert len(images) == len(normalize)\n",
    "  columns = len(images)\n",
    "  for i, image in enumerate(images):\n",
    "      plt.subplot(len(images) // columns + 1, columns, i + 1)\n",
    "      image = image.detach()\n",
    "      with torch.no_grad():\n",
    "        if image.shape[-1] > 3:\n",
    "          image = image.permute(1, 2, 0)\n",
    "        if normalize[i]:\n",
    "          image = abs_normalize(image, q=0.01)\n",
    "        plt.imshow(image, cmap='gray')"
   ]
  },
  {
   "cell_type": "code",
   "execution_count": 4,
   "id": "6a8e1033",
   "metadata": {},
   "outputs": [],
   "source": [
    "from typing import Callable, Any\n",
    "\n",
    "def get_output(module, input, output):\n",
    "    return output\n",
    "\n",
    "def get_input(module, input, output):\n",
    "    return input\n",
    "\n",
    "def get_input_output(module, input, output):\n",
    "    return input, output\n",
    "\n",
    "def get_module_input_output(module, input, output):\n",
    "    return module, input, output\n",
    "\n",
    "def register_hook_fn_to_module(model: nn.Module, module_name: str, hook_fn: Callable[[nn.Module, torch.Tensor, torch.Tensor], Any]):\n",
    "    results_dict = {}\n",
    "    for name, m in model.named_modules():\n",
    "        if module_name == name:\n",
    "            handle = m.register_forward_hook(_hook_fn_cntr(name, results_dict, hook_fn))\n",
    "            return handle, results_dict\n",
    "\n",
    "def register_bkw_hook_fn_to_module(model: nn.Module, module_name: str, hook_fn: Callable[[nn.Module, torch.Tensor, torch.Tensor], Any]):\n",
    "    results_dict = {}\n",
    "    for name, m in model.named_modules():\n",
    "        if module_name == name:\n",
    "            handle = m.register_full_backward_hook(_hook_fn_cntr(name, results_dict, hook_fn))\n",
    "            return handle, results_dict\n",
    "\n",
    "def register_hook_fn_to_all_modules(model: nn.Module, hook_fn: Callable[[nn.Module, torch.Tensor, torch.Tensor], Any]):\n",
    "    results_dict = {}\n",
    "    for name, m in model.named_modules():\n",
    "        _ = m.register_forward_hook(_hook_fn_cntr(name, results_dict, hook_fn))\n",
    "    return results_dict\n",
    "\n",
    "def register_bkw_hook_fn_to_all_modules(model: nn.Module, hook_fn: Callable[[nn.Module, torch.Tensor, torch.Tensor], Any]):\n",
    "    results_dict = {}\n",
    "    for name, m in model.named_modules():\n",
    "        _ = m.register_full_backward_hook(_hook_fn_cntr(name, results_dict, hook_fn))\n",
    "    return results_dict\n",
    "\n",
    "def _hook_fn_cntr(name, activation_dict, hook_fn):\n",
    "    def hook(model, input, output):\n",
    "        activation_dict[name] = hook_fn(model, input, output)\n",
    "    return hook"
   ]
  },
  {
   "cell_type": "code",
   "execution_count": 5,
   "id": "f29a5164-3b97-40ee-952d-e01c4fca3181",
   "metadata": {},
   "outputs": [],
   "source": [
    "from timm.data import resolve_data_config\n",
    "from timm.data.transforms_factory import create_transform\n",
    "\n",
    "\n",
    "def replace_layers(model, old, new):\n",
    "    for n, module in model.named_children():\n",
    "        if len(list(module.children())) > 0:\n",
    "            ## compound module, go inside it\n",
    "            replace_layers(module, old, new)\n",
    "            \n",
    "        if isinstance(module, old):\n",
    "            ## simple module\n",
    "            setattr(model, n, new)\n",
    "\n",
    "def add_imagenet_normalization(model):\n",
    "  val_transform = create_transform(\n",
    "    **resolve_data_config(model.pretrained_cfg, model=model),\n",
    "    is_training=False,\n",
    "  )\n",
    "\n",
    "  normalize_transform = val_transform.transforms[-1]\n",
    "  model = nn.Sequential(normalize_transform, model)\n",
    "  return model\n",
    "\n",
    "def load_model(path, ema=False):\n",
    "    model_kwargs=dict({\n",
    "            'num_classes': 1000,\n",
    "            'drop_rate': 0.0,\n",
    "            'drop_path_rate': 0.0,\n",
    "            'drop_block_rate': None,\n",
    "            'global_pool': None,\n",
    "            'bn_momentum': None,\n",
    "            'bn_eps': None,\n",
    "    })\n",
    "    if '_resnet_' in path:\n",
    "      model = timm.models.create_model('resnet50', pretrained=False, **model_kwargs)\n",
    "      if '_gelu' in path:\n",
    "        replace_layers(model, nn.ReLU, nn.GELU())\n",
    "    elif '_swinb' in path:\n",
    "      model = timm.models.create_model('swin_base_patch4_window7_224', pretrained=False, **model_kwargs)\n",
    "    elif '_swins' in path:\n",
    "      model = timm.models.create_model('swin_small_patch4_window7_224', pretrained=False, **model_kwargs)\n",
    "    ckpt = torch.load(path, map_location='cpu')\n",
    "    if ema:\n",
    "      if 'state_dict_ema' in ckpt:\n",
    "        model.load_state_dict(ckpt['state_dict_ema'])\n",
    "      else:\n",
    "        return None\n",
    "    else:\n",
    "      model.load_state_dict(ckpt['state_dict'])\n",
    "\n",
    "    model = add_imagenet_normalization(model)\n",
    "    return model.eval().cpu()\n",
    "\n",
    "def load_public_model(model_name):\n",
    "  if model_name[0].isupper():\n",
    "    return robustbench.utils.load_model(model_name, dataset='imagenet', threat_model='Linf').eval().to(device)\n",
    "  else:\n",
    "    if 'random' in model_name:\n",
    "      return add_imagenet_normalization(timm.create_model(model_name[:-len('_random')], pretrained=False).eval()).cpu()\n",
    "    else:\n",
    "      return add_imagenet_normalization(timm.create_model(model_name, pretrained=True).eval()).cpu()"
   ]
  },
  {
   "cell_type": "markdown",
   "id": "7ec7616c",
   "metadata": {},
   "source": [
    "## Data"
   ]
  },
  {
   "cell_type": "code",
   "execution_count": 6,
   "id": "4e02b94d",
   "metadata": {},
   "outputs": [],
   "source": [
    "data = torch.load('analysis_data/240206_gen_imagenet_data_10k_noattack.pth', map_location='cpu')\n",
    "# xs = torch.load('/data/vision/torralba/naturally_robust_models/input_norm/outputs/inputs/train_png/inputs.pth')\n",
    "# ys = torch.load('/data/vision/torralba/naturally_robust_models/input_norm/outputs/inputs/train_png/targets.pth')\n",
    "# data = {'xs':xs, 'ys':ys}"
   ]
  },
  {
   "cell_type": "code",
   "execution_count": 7,
   "id": "a4510def",
   "metadata": {},
   "outputs": [
    {
     "data": {
      "text/plain": [
       "dict_keys(['xs', 'ys', 'at_outs', 'at_grads', 'gn_outs', 'gn_grads', 'sampler_indices'])"
      ]
     },
     "execution_count": 7,
     "metadata": {},
     "output_type": "execute_result"
    }
   ],
   "source": [
    "data.keys()"
   ]
  },
  {
   "cell_type": "code",
   "execution_count": 8,
   "id": "73674b5f",
   "metadata": {},
   "outputs": [
    {
     "name": "stderr",
     "output_type": "stream",
     "text": [
      "/data/vision/torralba/naturally_robust_models/.local/lib/python3.10/site-packages/torch/functional.py:507: UserWarning: torch.meshgrid: in an upcoming release, it will be required to pass the indexing argument. (Triggered internally at ../aten/src/ATen/native/TensorShape.cpp:3549.)\n",
      "  return _VF.meshgrid(tensors, **kwargs)  # type: ignore[attr-defined]\n"
     ]
    }
   ],
   "source": [
    "xs = data['xs']\n",
    "ys = data['ys']\n",
    "\n",
    "N = 10000\n",
    "xs = xs[:N]\n",
    "ys = ys[:N]\n",
    "\n",
    "model = timm.create_model('swin_base_patch4_window7_224', pretrained=True)\n",
    "\n",
    "val_transform = create_transform(\n",
    "    **resolve_data_config(model.pretrained_cfg, model=model),\n",
    "    is_training=False,\n",
    "  )\n",
    "\n",
    "normalize_transform = val_transform.transforms[-1]\n",
    "\n",
    "if xs.min() < 0:\n",
    "  xs = xs*normalize_transform.std[None, :, None, None] + normalize_transform.mean[None, :, None, None]\n",
    "\n",
    "sampler_indices = range(N)\n",
    "ds = torch.utils.data.TensorDataset(xs, ys)\n",
    "\n",
    "from tqdm.auto import tqdm\n",
    "\n",
    "dataloader = torch.utils.data.DataLoader(\n",
    "    ds,\n",
    "    batch_size=10,\n",
    "    sampler=sampler_indices,\n",
    "    shuffle=False\n",
    ")\n",
    "\n",
    "def get_activations(module_name, model_path=None, model_name=None):\n",
    "  if model_path:\n",
    "    model = load_model(model_path)\n",
    "  elif model_name:\n",
    "    model = load_public_model(model_name)\n",
    "\n",
    "  model = model.to(device)\n",
    "\n",
    "  handle, act_dict = register_hook_fn_to_module(model, module_name, get_input_output)\n",
    "  \n",
    "  outs = []\n",
    "  grads = []\n",
    "  act_inputs = []\n",
    "  act_outputs = []\n",
    "\n",
    "  for ii, (x, y) in enumerate(tqdm(dataloader)):\n",
    "      x, y = x.to(device), y.to(device)\n",
    "      x.requires_grad_(True)\n",
    "\n",
    "      # Clean at\n",
    "      out = model(x)#.cpu()\n",
    "      loss = torch.nn.functional.cross_entropy(out, y)\n",
    "      act_input = act_dict[module_name][0][0].detach().cpu()\n",
    "      act_output = act_dict[module_name][1][0].detach().cpu() if isinstance(act_dict[module_name][1], tuple) else act_dict[module_name][1].detach().cpu()\n",
    "      grad_x = torch.autograd.grad(loss, x, create_graph=False, retain_graph=False)[0].detach().cpu() #.abs().sum(1, keepdim=True)\n",
    "      #logit = out[torch.arange(out.size(0)), y].sum()\n",
    "      #grad_x = torch.autograd.grad(logit, x, create_graph=False, retain_graph=False)[0].detach().cpu().abs().max(1, keepdim=True).values\n",
    "\n",
    "      outs.append(out.detach().cpu())\n",
    "      grads.append(grad_x)\n",
    "      act_inputs.append(act_input)\n",
    "      act_outputs.append(act_output)\n",
    "\n",
    "      if ii >= 2:\n",
    "        break\n",
    "  \n",
    "  outs = torch.cat(outs, 0)\n",
    "  grads = torch.cat(grads, 0)\n",
    "  act_inputs = torch.cat(act_inputs, 0)\n",
    "  act_outputs = torch.cat(act_outputs, 0)\n",
    "  handle.remove()\n",
    "\n",
    "  model = model.to('cpu')\n",
    "\n",
    "  return outs, grads, act_inputs, act_outputs"
   ]
  },
  {
   "cell_type": "code",
   "execution_count": 21,
   "id": "fb4599b7",
   "metadata": {},
   "outputs": [],
   "source": [
    "import random\n",
    "\n",
    "random.seed(0)\n",
    "torch.manual_seed(0)\n",
    "np.random.seed(0)\n",
    "noise = torch.rand(2*xs.size(0), *xs.shape[1:])\n",
    "alpha = torch.rand((xs.size(0), 1, 1, 1))\n",
    "\n",
    "def measure_local_linearity(model, dataloader, eps=4./255.):\n",
    "  model.eval()\n",
    "  \n",
    "  lin_errs = []\n",
    "\n",
    "  for ii, (x, y) in enumerate(tqdm(dataloader)):\n",
    "      x, y = x.to(device), y.to(device)\n",
    "      bs = x.size(0)\n",
    "      noise_batch = noise[ii*2*bs:ii*2*bs + 2*bs].to(device)\n",
    "      alpha_batch = alpha[ii*bs:ii*bs + bs].to(device)\n",
    "      # print(alpha_batch.flatten(), y.flatten())\n",
    "\n",
    "      with torch.inference_mode():\n",
    "        # Get random triplet\n",
    "        x_ab = x.repeat([2,1,1,1]) \n",
    "        x_ab = x_ab + eps*(2*noise_batch - 1)\n",
    "        x_c = (1-alpha_batch)*x_ab[:bs] + alpha_batch*x_ab[bs:]\n",
    "        alpha_batch = alpha_batch.squeeze()\n",
    "\n",
    "        # Forward pass\n",
    "        criterion = torch.nn.CrossEntropyLoss(reduction='none')\n",
    "        losses = criterion(model(torch.cat((x_ab,x_c),dim=0)), y.repeat([3]))\n",
    "\n",
    "        # Regularization term\n",
    "        lin_err = torch.nn.functional.mse_loss(losses[2*bs:], (1-alpha_batch)*losses[:bs] + alpha_batch*losses[bs:2*bs], reduction='none')\n",
    "\n",
    "        lin_errs.append(lin_err)\n",
    "\n",
    "      # if ii >= 0:\n",
    "      #   break\n",
    "  \n",
    "  lin_errs = torch.cat(lin_errs, 0)\n",
    "\n",
    "  model = model.to('cpu')\n",
    "\n",
    "  return lin_errs"
   ]
  },
  {
   "cell_type": "code",
   "execution_count": 22,
   "id": "a157f324",
   "metadata": {},
   "outputs": [],
   "source": [
    "def launch_measure_local_linearity(model_path=None, model_name=None):\n",
    "  if model_path:\n",
    "    model = load_model(model_path)\n",
    "    print(model_path)\n",
    "  elif model_name:\n",
    "    model = load_public_model(model_name)\n",
    "    print(model_name)\n",
    "\n",
    "  model = model.to(device)\n",
    "  model.eval()\n",
    "\n",
    "  lin_errs = measure_local_linearity(model, dataloader)\n",
    "  print(lin_errs.mean().item(), lin_errs.std().item())\n",
    "  return lin_errs"
   ]
  },
  {
   "cell_type": "code",
   "execution_count": 23,
   "id": "8af3d068",
   "metadata": {},
   "outputs": [],
   "source": [
    "results_dict = {}"
   ]
  },
  {
   "cell_type": "code",
   "execution_count": 24,
   "id": "9d88067a",
   "metadata": {},
   "outputs": [],
   "source": [
    "def linear_stats(k):\n",
    "  x = results_dict[k]\n",
    "  return x.mean().item(), x.std().item()\n",
    "\n",
    "def log_stats(k):\n",
    "  x = results_dict[k] + 1e-17\n",
    "  return x.log10().mean().item(), x.log10().std().item()"
   ]
  },
  {
   "cell_type": "code",
   "execution_count": 25,
   "id": "56ea7f1f",
   "metadata": {},
   "outputs": [
    {
     "name": "stdout",
     "output_type": "stream",
     "text": [
      "swin_base_patch4_window7_224\n"
     ]
    },
    {
     "name": "stderr",
     "output_type": "stream",
     "text": [
      "100%|██████████| 1000/1000 [01:27<00:00, 11.40it/s]\n"
     ]
    },
    {
     "name": "stdout",
     "output_type": "stream",
     "text": [
      "0.0035506850108504295 0.026853546500205994\n"
     ]
    }
   ],
   "source": [
    "results_dict['natural'] = launch_measure_local_linearity(model_name='swin_base_patch4_window7_224')"
   ]
  },
  {
   "cell_type": "code",
   "execution_count": 26,
   "id": "28f7cad3",
   "metadata": {},
   "outputs": [
    {
     "data": {
      "text/plain": [
       "(0.0035506850108504295, 0.026853546500205994)"
      ]
     },
     "execution_count": 26,
     "metadata": {},
     "output_type": "execute_result"
    }
   ],
   "source": [
    "linear_stats('natural')"
   ]
  },
  {
   "cell_type": "code",
   "execution_count": 27,
   "id": "f4fa1344",
   "metadata": {},
   "outputs": [
    {
     "data": {
      "text/plain": [
       "(-4.575085163116455, 1.6302542686462402)"
      ]
     },
     "execution_count": 27,
     "metadata": {},
     "output_type": "execute_result"
    }
   ],
   "source": [
    "log_stats('natural')"
   ]
  },
  {
   "cell_type": "code",
   "execution_count": 28,
   "id": "0611f8c6",
   "metadata": {},
   "outputs": [
    {
     "name": "stdout",
     "output_type": "stream",
     "text": [
      "eccv_outputs/advtrain_swinb_orig/last.pth.tar\n"
     ]
    },
    {
     "name": "stderr",
     "output_type": "stream",
     "text": [
      "100%|██████████| 1000/1000 [01:28<00:00, 11.33it/s]"
     ]
    },
    {
     "name": "stdout",
     "output_type": "stream",
     "text": [
      "8.20592322270386e-06 5.080421396996826e-05\n"
     ]
    },
    {
     "name": "stderr",
     "output_type": "stream",
     "text": [
      "\n"
     ]
    }
   ],
   "source": [
    "results_dict['advtrain'] = launch_measure_local_linearity(model_path=f'outputs/advtrain_swinb_orig/last.pth.tar')"
   ]
  },
  {
   "cell_type": "code",
   "execution_count": 29,
   "id": "7f58811a",
   "metadata": {},
   "outputs": [
    {
     "data": {
      "text/plain": [
       "(-6.843085765838623, 1.4834269285202026)"
      ]
     },
     "execution_count": 29,
     "metadata": {},
     "output_type": "execute_result"
    }
   ],
   "source": [
    "log_stats('advtrain')"
   ]
  },
  {
   "cell_type": "code",
   "execution_count": 30,
   "id": "b053df81",
   "metadata": {},
   "outputs": [
    {
     "name": "stdout",
     "output_type": "stream",
     "text": [
      "eccv_outputs/gradnorm_swinb_variant/2024-02-14_11-30-41/last.pth.tar\n"
     ]
    },
    {
     "name": "stderr",
     "output_type": "stream",
     "text": [
      "100%|██████████| 1000/1000 [01:27<00:00, 11.42it/s]\n"
     ]
    },
    {
     "name": "stdout",
     "output_type": "stream",
     "text": [
      "1.860778866102919e-05 0.0001646613236516714\n"
     ]
    }
   ],
   "source": [
    "results_dict['gradnorm_strong'] = launch_measure_local_linearity(model_path=f'outputs/gradnorm_swinb_variant/2024-02-14_11-30-41/last.pth.tar')"
   ]
  },
  {
   "cell_type": "code",
   "execution_count": 31,
   "id": "d5a8d9f9",
   "metadata": {},
   "outputs": [
    {
     "data": {
      "text/plain": [
       "(-6.604256629943848, 1.4254180192947388)"
      ]
     },
     "execution_count": 31,
     "metadata": {},
     "output_type": "execute_result"
    }
   ],
   "source": [
    "log_stats('gradnorm_strong')"
   ]
  },
  {
   "cell_type": "code",
   "execution_count": 32,
   "id": "8323ee4d",
   "metadata": {},
   "outputs": [
    {
     "name": "stdout",
     "output_type": "stream",
     "text": [
      "eccv_outputs/gradnorm_swinb_orig/last.pth.tar\n"
     ]
    },
    {
     "name": "stderr",
     "output_type": "stream",
     "text": [
      "100%|██████████| 1000/1000 [01:27<00:00, 11.40it/s]\n"
     ]
    },
    {
     "name": "stdout",
     "output_type": "stream",
     "text": [
      "1.66052850545384e-05 0.00013138553185854107\n"
     ]
    }
   ],
   "source": [
    "results_dict['gradnorm_weak'] = launch_measure_local_linearity(model_path=f'outputs/gradnorm_swinb_orig/last.pth.tar')"
   ]
  },
  {
   "cell_type": "code",
   "execution_count": 33,
   "id": "f3f91cce",
   "metadata": {},
   "outputs": [
    {
     "data": {
      "text/plain": [
       "(-6.624663829803467, 1.422298550605774)"
      ]
     },
     "execution_count": 33,
     "metadata": {},
     "output_type": "execute_result"
    }
   ],
   "source": [
    "log_stats('gradnorm_weak')"
   ]
  },
  {
   "cell_type": "code",
   "execution_count": 34,
   "id": "da1c1f06",
   "metadata": {},
   "outputs": [
    {
     "name": "stdout",
     "output_type": "stream",
     "text": [
      "swin_base_patch4_window7_224\n"
     ]
    },
    {
     "name": "stderr",
     "output_type": "stream",
     "text": [
      "100%|██████████| 1000/1000 [01:27<00:00, 11.41it/s]\n"
     ]
    },
    {
     "name": "stdout",
     "output_type": "stream",
     "text": [
      "0.0035506850108504295 0.026853546500205994\n"
     ]
    }
   ],
   "source": [
    "_ = launch_measure_local_linearity(model_name='swin_base_patch4_window7_224')"
   ]
  },
  {
   "cell_type": "code",
   "execution_count": 50,
   "id": "fb2cbd2c",
   "metadata": {},
   "outputs": [],
   "source": [
    "def plot_fn(name, fn, *, index=Ellipsis, split=None, **kwargs):\n",
    "    _at_linerrs = results_dict['advtrain'][index].detach().cpu()\n",
    "    _gn_strong_linerrs = results_dict['gradnorm_strong'][index].detach().cpu()\n",
    "    _nat_linerrs = results_dict['natural'][index].detach().cpu()\n",
    "    print(_at_linerrs.shape, _gn_strong_linerrs.shape, _nat_linerrs.shape)\n",
    "    print(_at_linerrs.min(), _gn_strong_linerrs.min(), _nat_linerrs.min())\n",
    "    if split is None:\n",
    "        split = _at_linerrs.shape[0]\n",
    "    at_fn_v = torch.cat([fn(_x) for _x in _at_linerrs.split(split, dim=0)], 0)\n",
    "    gns_fn_v = torch.cat([fn(_x) for _x in _gn_strong_linerrs.split(split, dim=0)], 0)\n",
    "    nat_fn_v = torch.cat([fn(_x) for _x in _nat_linerrs.split(split, dim=0)], 0)\n",
    "    ax = sns.displot(data=pd.DataFrame(\n",
    "        {\n",
    "            name: torch.cat([at_fn_v, gns_fn_v, nat_fn_v], 0).numpy(),\n",
    "            \"Training\": (\n",
    "                ([f'Adversarial Training (PGD-3) (mean={at_fn_v.mean():.2e})'] * _at_linerrs.shape[0]) + \n",
    "                ([f'Gradient Norm Regularization (mean={gns_fn_v.mean():.2e})'] * _gn_strong_linerrs.shape[0]) + \n",
    "                ([f'Natural Training (mean={nat_fn_v.mean():.2e})'] * _nat_linerrs.shape[0])\n",
    "            )\n",
    "        }), kde=True, x=name, hue='Training', \n",
    "        palette = {\n",
    "            f'Adversarial Training (PGD-3) (mean={at_fn_v.mean():.2e})':'red', \n",
    "            f'Gradient Norm Regularization (mean={gns_fn_v.mean():.2e})':'blue',\n",
    "            f'Natural Training (mean={nat_fn_v.mean():.2e})':'orange'\n",
    "        }, **kwargs)\n",
    "    plt.gca().set_ylabel(f'Count (n={_at_linerrs.shape[0]})')\n",
    "    return ax.fig"
   ]
  },
  {
   "cell_type": "code",
   "execution_count": 51,
   "id": "5e4c14d5",
   "metadata": {},
   "outputs": [
    {
     "name": "stdout",
     "output_type": "stream",
     "text": [
      "torch.Size([10000]) torch.Size([10000]) torch.Size([10000])\n",
      "tensor(0.) tensor(0.) tensor(1.1746e-13)\n"
     ]
    },
    {
     "data": {
      "image/png": "[encoded data removed]",
      "text/plain": [
       "<Figure size 885.25x500 with 1 Axes>"
      ]
     },
     "metadata": {},
     "output_type": "display_data"
    }
   ],
   "source": [
    "fig = plot_fn(r'Local linearity error', lambda x: x + 1e-16, \n",
    "        index=torch.arange(10000), log_scale=(True, False), alpha=0.4)\n",
    "fig.savefig('./figures_suppmat/local_linearity.pdf', facecolor='white')"
   ]
  },
  {
   "cell_type": "code",
   "execution_count": 52,
   "id": "f2d3b9f3",
   "metadata": {},
   "outputs": [],
   "source": [
    "def plot_fn(name, fn, *, index=Ellipsis, split=None, **kwargs):\n",
    "    _at_linerrs = results_dict['advtrain'][index].detach().cpu()\n",
    "    _gn_strong_linerrs = results_dict['gradnorm_strong'][index].detach().cpu()\n",
    "    print(_at_linerrs.shape, _gn_strong_linerrs.shape)\n",
    "    print(_at_linerrs.min(), _gn_strong_linerrs.min())\n",
    "    if split is None:\n",
    "        split = _at_linerrs.shape[0]\n",
    "    at_fn_v = torch.cat([fn(_x) for _x in _at_linerrs.split(split, dim=0)], 0)\n",
    "    gns_fn_v = torch.cat([fn(_x) for _x in _gn_strong_linerrs.split(split, dim=0)], 0)\n",
    "    ax = sns.displot(data=pd.DataFrame(\n",
    "        {\n",
    "            name: torch.cat([at_fn_v, gns_fn_v], 0).numpy(),\n",
    "            \"Training\": (\n",
    "                ([f'Adversarial Training (PGD-3) (mean={at_fn_v.mean():.2e})'] * _at_linerrs.shape[0]) + \n",
    "                ([f'Gradient Norm Regularization (mean={gns_fn_v.mean():.2e})'] * _gn_strong_linerrs.shape[0])\n",
    "            )\n",
    "        }), kde=True, x=name, hue='Training', \n",
    "        palette = {\n",
    "            f'Adversarial Training (PGD-3) (mean={at_fn_v.mean():.2e})':'red', \n",
    "            f'Gradient Norm Regularization (mean={gns_fn_v.mean():.2e})':'blue',\n",
    "        }, **kwargs)\n",
    "    plt.gca().set_ylabel(f'Count (n={_at_linerrs.shape[0]})')\n",
    "    return ax.fig"
   ]
  },
  {
   "cell_type": "code",
   "execution_count": 53,
   "id": "d9d8a233",
   "metadata": {},
   "outputs": [
    {
     "name": "stdout",
     "output_type": "stream",
     "text": [
      "torch.Size([10000]) torch.Size([10000])\n",
      "tensor(0.) tensor(0.)\n"
     ]
    },
    {
     "data": {
      "image/png": "[encoded data removed]",
      "text/plain": [
       "<Figure size 885.25x500 with 1 Axes>"
      ]
     },
     "metadata": {},
     "output_type": "display_data"
    }
   ],
   "source": [
    "fig = plot_fn(r'Local linearity error', lambda x: x + 1e-16, \n",
    "        index=torch.arange(10000), log_scale=(True, False), alpha=0.4)\n",
    "fig.savefig('./figures_suppmat/local_linearity_nonat.pdf', facecolor='white')"
   ]
  }
 ],
 "metadata": {
  "kernelspec": {
   "display_name": "Python 3.10.12 64-bit",
   "language": "python",
   "name": "python3"
  },
  "language_info": {
   "codemirror_mode": {
    "name": "ipython",
    "version": 3
   },
   "file_extension": ".py",
   "mimetype": "text/x-python",
   "name": "python",
   "nbconvert_exporter": "python",
   "pygments_lexer": "ipython3",
   "version": "3.10.12"
  },
  "vscode": {
   "interpreter": {
    "hash": "767d51c1340bd893661ea55ea3124f6de3c7a262a8b4abca0554b478b1e2ff90"
   }
  }
 },
 "nbformat": 4,
 "nbformat_minor": 5
}
