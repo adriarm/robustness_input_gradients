{
 "cells": [
  {
   "cell_type": "code",
   "execution_count": 1,
   "metadata": {},
   "outputs": [
    {
     "name": "stdout",
     "output_type": "stream",
     "text": [
      "The history saving thread hit an unexpected error (DatabaseError('database disk image is malformed')).History will not be written to the database.\n"
     ]
    }
   ],
   "source": [
    "import os\n",
    "os.environ['MPLCONFIGDIR'] = '/data/vision/torralba/naturally_robust_models/matplotlib'\n",
    "\n",
    "%matplotlib inline"
   ]
  },
  {
   "cell_type": "code",
   "execution_count": 2,
   "metadata": {},
   "outputs": [
    {
     "name": "stderr",
     "output_type": "stream",
     "text": [
      "/vision-nfs/torralba/env/adrianr/miniforge3/envs/MambaRobustNB/lib/python3.9/site-packages/tqdm/auto.py:22: TqdmWarning: IProgress not found. Please update jupyter and ipywidgets. See https://ipywidgets.readthedocs.io/en/stable/user_install.html\n",
      "  from .autonotebook import tqdm as notebook_tqdm\n",
      "/vision-nfs/torralba/env/adrianr/miniforge3/envs/MambaRobustNB/lib/python3.9/site-packages/torchvision/io/image.py:13: UserWarning: Failed to load image Python extension: /vision-nfs/torralba/env/adrianr/miniforge3/envs/MambaRobustNB/lib/python3.9/site-packages/torchvision/image.so: undefined symbol: _ZN2at4_ops19empty_memory_format4callEN3c108ArrayRefIlEENS2_8optionalINS2_10ScalarTypeEEENS5_INS2_6LayoutEEENS5_INS2_6DeviceEEENS5_IbEENS5_INS2_12MemoryFormatEEE\n",
      "  warn(f\"Failed to load image Python extension: {e}\")\n"
     ]
    }
   ],
   "source": [
    "import torch\n",
    "import torch.nn as nn\n",
    "# import timm\n",
    "import numpy as np\n",
    "import torchvision\n",
    "import seaborn as sns\n",
    "import matplotlib.pyplot as plt\n",
    "import pandas as pd\n",
    "# import robustbench\n",
    "from tqdm.auto import tqdm\n",
    "from pathlib import Path\n",
    "import os\n",
    "import plotly.express as px\n",
    "\n",
    "from zz_gradnorm_statistics_utils import *\n",
    "\n",
    "from swin_transformer_timm_version import *\n",
    "\n",
    "device = torch.device('cuda', 5)\n",
    "# device = 'cpu'"
   ]
  },
  {
   "cell_type": "code",
   "execution_count": 3,
   "metadata": {},
   "outputs": [],
   "source": [
    "xs, ys, ds, dataloader = get_data(N=10000, batch_size=32)"
   ]
  },
  {
   "cell_type": "code",
   "execution_count": 4,
   "metadata": {},
   "outputs": [
    {
     "name": "stderr",
     "output_type": "stream",
     "text": [
      "/vision-nfs/torralba/env/adrianr/miniforge3/envs/MambaRobustNB/lib/python3.9/site-packages/torchvision/transforms/transforms.py:332: UserWarning: Argument 'interpolation' of type int is deprecated since 0.13 and will be removed in 0.15. Please use InterpolationMode enum.\n",
      "  warnings.warn(\n"
     ]
    }
   ],
   "source": [
    "xs_viz, ys_viz, ds_viz, dataloader_viz = get_viz_fig_data(batch_size=32)"
   ]
  },
  {
   "cell_type": "code",
   "execution_count": 5,
   "metadata": {},
   "outputs": [],
   "source": [
    "def get_model_statistics_viz(model_path, ema, dataloader_viz, device='cpu'):\n",
    "  model = load_model(model_path, ema=ema)\n",
    "  stats = get_statistics(model, dataloader_viz, device=device)\n",
    "  return stats"
   ]
  },
  {
   "cell_type": "code",
   "execution_count": 6,
   "metadata": {},
   "outputs": [],
   "source": [
    "def get_model_attack_statistics_viz(model_path, ema, dataloader_viz, device='cpu'):\n",
    "  model = load_model(model_path, ema=ema)\n",
    "  stats = get_attack_statistics(model, dataloader_viz, device=device)\n",
    "  return stats"
   ]
  },
  {
   "cell_type": "markdown",
   "metadata": {},
   "source": [
    "## Fig 1: Loss-input gradients"
   ]
  },
  {
   "cell_type": "code",
   "execution_count": 7,
   "metadata": {},
   "outputs": [],
   "source": [
    "fig1 = False"
   ]
  },
  {
   "cell_type": "code",
   "execution_count": 8,
   "metadata": {},
   "outputs": [],
   "source": [
    "if fig1:\n",
    "  resnet_nat_relu = get_model_statistics_viz(f'outputs/nattrain_resnet_relu/2024-02-16_16-59-02/snapshots/snapshot-0-100.pth.tar', True, dataloader_viz, device=device)\n",
    "  swinb_nat = get_model_statistics_viz(f'outputs/advtrain_swinb/2024-02-18_14-42-14/snapshots/snapshot-0-100.pth.tar', True, dataloader_viz, device=device)\n",
    "\n",
    "  resnet_at_relu = get_model_statistics_viz(f'outputs/advtrain_resnet_relu/2024-02-18_20-06-25/last.pth.tar', True, dataloader_viz, device=device)\n",
    "  swinb_at = get_model_statistics_viz(f'outputs/advtrain_swinb_orig/last.pth.tar', True, dataloader_viz, device=device)\n",
    "\n",
    "  resnet_gn_gelu = get_model_statistics_viz(f'outputs/gradnorm_resnet_gelu/2024-02-03_22-07-28/last.pth.tar', True, dataloader_viz, device=device)\n",
    "  swinb_gn = get_model_statistics_viz(f'outputs/gradnorm_swinb_variant/2024-02-14_11-30-41/last.pth.tar', True, dataloader_viz, device=device)"
   ]
  },
  {
   "cell_type": "code",
   "execution_count": 9,
   "metadata": {},
   "outputs": [],
   "source": [
    "if fig1:\n",
    "  fig1_stats = [resnet_nat_relu, swinb_nat, resnet_at_relu, swinb_at, resnet_gn_gelu, swinb_gn]"
   ]
  },
  {
   "cell_type": "code",
   "execution_count": 10,
   "metadata": {},
   "outputs": [],
   "source": [
    "if fig1:\n",
    "  xs_viz_idx = range(10)\n",
    "  xs_viz_idx = [2, 4, 5, 6, 7]\n",
    "  plt.rcParams['axes.grid'] = False\n",
    "  plt.rcParams['xtick.bottom'] = False\n",
    "  plt.rcParams['xtick.labelbottom'] = False\n",
    "  plt.rcParams['ytick.left'] = False\n",
    "  plt.rcParams['ytick.labelleft'] = False\n",
    "  for idx in xs_viz_idx:\n",
    "    print(*[stats['grad_class_x'][idx].abs().sum().item() for stats in fig1_stats])\n",
    "    print(*[stats['grad_class_x'][idx].abs().sum().item() for stats in fig1_stats])\n",
    "    plot_side_by_side_normalize(xs_viz[idx], *[stats['grad_class_x'][idx] for stats in fig1_stats], normalize=(False,)+(True,)*len(fig1_stats))"
   ]
  },
  {
   "cell_type": "markdown",
   "metadata": {},
   "source": [
    "## Tab1: Public model stats"
   ]
  },
  {
   "cell_type": "code",
   "execution_count": 11,
   "metadata": {},
   "outputs": [],
   "source": [
    "tab1 = False"
   ]
  },
  {
   "cell_type": "code",
   "execution_count": 12,
   "metadata": {},
   "outputs": [],
   "source": [
    "import robustbench\n",
    "\n",
    "def load_public_model(model_name):\n",
    "  if model_name[0].isupper():\n",
    "    model = robustbench.utils.load_model(model_name, dataset='imagenet', threat_model='Linf').eval().cpu()\n",
    "  else:\n",
    "    if 'random' in model_name:\n",
    "      model = timm.create_model(model_name[:-len('_random')], pretrained=False)\n",
    "    else:\n",
    "      model = timm.create_model(model_name, pretrained=True)\n",
    "    model = add_imagenet_normalization(model)\n",
    "  print(model)\n",
    "  return model.eval().cpu()"
   ]
  },
  {
   "cell_type": "code",
   "execution_count": 13,
   "metadata": {},
   "outputs": [],
   "source": [
    "def return_tab1_metrics(xs, ys, stats, atkstats):\n",
    "  robacc_flag_pgd10 = (atkstats['out'].argmax(-1) == ys)\n",
    "  robacc_pgd10 = 100 * robacc_flag_pgd10.float().mean().item()\n",
    "\n",
    "  l1norm_unconditional = stats['grad_loss_x'].flatten(1).abs().sum(1).mean().item()\n",
    "  l1norm_pgd10_vulnerable = stats['grad_loss_x'][~robacc_flag_pgd10].flatten(1).abs().sum(1).mean().item()\n",
    "  l1norm_pgd10_robust = stats['grad_loss_x'][robacc_flag_pgd10].flatten(1).abs().sum(1).mean().item()\n",
    "\n",
    "  return robacc_pgd10, l1norm_unconditional, l1norm_pgd10_robust, l1norm_pgd10_vulnerable"
   ]
  },
  {
   "cell_type": "markdown",
   "metadata": {},
   "source": [
    "### Resnet 50 Nat"
   ]
  },
  {
   "cell_type": "code",
   "execution_count": 14,
   "metadata": {},
   "outputs": [],
   "source": [
    "if tab1:\n",
    "  stats_public_resnet_nat = get_statistics(load_public_model('resnet50'), dataloader, device=device)"
   ]
  },
  {
   "cell_type": "code",
   "execution_count": 15,
   "metadata": {},
   "outputs": [],
   "source": [
    "if tab1:\n",
    "  atkstats_public_resnet_nat = get_attack_statistics(load_public_model('resnet50'), dataloader, device=device)"
   ]
  },
  {
   "cell_type": "code",
   "execution_count": 16,
   "metadata": {},
   "outputs": [],
   "source": [
    "if tab1:\n",
    "  print(return_tab1_metrics(xs, ys, stats_public_resnet_nat, atkstats_public_resnet_nat))"
   ]
  },
  {
   "cell_type": "markdown",
   "metadata": {},
   "source": [
    "(0.24999999441206455, 3013.835693359375, 0.03041829541325569, 3021.388916015625)"
   ]
  },
  {
   "cell_type": "markdown",
   "metadata": {},
   "source": [
    "### Resnet 50 AdvTrain"
   ]
  },
  {
   "cell_type": "code",
   "execution_count": 17,
   "metadata": {},
   "outputs": [],
   "source": [
    "if tab1:\n",
    "  stats_public_resnet_at = get_statistics(load_public_model('Salman2020Do_R50'), dataloader, device=device)"
   ]
  },
  {
   "cell_type": "code",
   "execution_count": 18,
   "metadata": {},
   "outputs": [],
   "source": [
    "if tab1:\n",
    "  atkstats_public_resnet_at = get_attack_statistics(load_public_model('Salman2020Do_R50'), dataloader, device=device)"
   ]
  },
  {
   "cell_type": "code",
   "execution_count": 19,
   "metadata": {},
   "outputs": [],
   "source": [
    "if tab1:\n",
    "  print(return_tab1_metrics(xs, ys, stats_public_resnet_at, atkstats_public_resnet_at))"
   ]
  },
  {
   "cell_type": "markdown",
   "metadata": {},
   "source": [
    "(39.980000257492065, 56.819786071777344, 11.783616065979004, 86.81889343261719)"
   ]
  },
  {
   "cell_type": "markdown",
   "metadata": {},
   "source": [
    "### SwinB Nat"
   ]
  },
  {
   "cell_type": "code",
   "execution_count": 20,
   "metadata": {},
   "outputs": [],
   "source": [
    "if tab1:\n",
    "  stats_public_swinb_nat = get_statistics(load_public_model('swin_base_patch4_window7_224'), dataloader, device=device)"
   ]
  },
  {
   "cell_type": "code",
   "execution_count": 21,
   "metadata": {},
   "outputs": [],
   "source": [
    "if tab1:\n",
    "  atkstats_public_swinb_nat = get_attack_statistics(load_public_model('swin_base_patch4_window7_224'), dataloader, device=device)"
   ]
  },
  {
   "cell_type": "code",
   "execution_count": 22,
   "metadata": {},
   "outputs": [],
   "source": [
    "if tab1:\n",
    "  print(return_tab1_metrics(xs, ys, stats_public_swinb_nat, atkstats_public_swinb_nat))"
   ]
  },
  {
   "cell_type": "markdown",
   "metadata": {},
   "source": [
    "(2.6499999687075615, 3891.702392578125, 546.509033203125, 3982.7626953125)"
   ]
  },
  {
   "cell_type": "markdown",
   "metadata": {},
   "source": [
    "### SwinB AT - Liu2023Comprehensive_Swin-B"
   ]
  },
  {
   "cell_type": "code",
   "execution_count": 23,
   "metadata": {},
   "outputs": [],
   "source": [
    "if tab1:\n",
    "  stats_public_swinb_at = get_statistics(load_public_model('Liu2023Comprehensive_Swin-B'), dataloader, device=device)"
   ]
  },
  {
   "cell_type": "code",
   "execution_count": 24,
   "metadata": {},
   "outputs": [],
   "source": [
    "if tab1:\n",
    "  atkstats_public_swinb_at = get_attack_statistics(load_public_model('Liu2023Comprehensive_Swin-B'), dataloader, device=device)"
   ]
  },
  {
   "cell_type": "code",
   "execution_count": 25,
   "metadata": {},
   "outputs": [],
   "source": [
    "if tab1:\n",
    "  print(return_tab1_metrics(xs, ys, stats_public_swinb_at, atkstats_public_swinb_at))"
   ]
  },
  {
   "cell_type": "markdown",
   "metadata": {},
   "source": [
    "(59.24999713897705, 37.427303314208984, 10.967606544494629, 75.89938354492188)"
   ]
  },
  {
   "cell_type": "markdown",
   "metadata": {},
   "source": [
    "### SwinL Nat"
   ]
  },
  {
   "cell_type": "code",
   "execution_count": 26,
   "metadata": {},
   "outputs": [],
   "source": [
    "if tab1:\n",
    "  stats_public_swinl_nat = get_statistics(load_public_model('swin_large_patch4_window7_224'), dataloader, device=device)"
   ]
  },
  {
   "cell_type": "code",
   "execution_count": 27,
   "metadata": {},
   "outputs": [],
   "source": [
    "if tab1:\n",
    "  atkstats_public_swinl_nat = get_attack_statistics(load_public_model('swin_large_patch4_window7_224'), dataloader, device=device)"
   ]
  },
  {
   "cell_type": "code",
   "execution_count": 28,
   "metadata": {},
   "outputs": [],
   "source": [
    "if tab1:\n",
    "  print(return_tab1_metrics(xs, ys, stats_public_swinl_nat, atkstats_public_swinl_nat))"
   ]
  },
  {
   "cell_type": "markdown",
   "metadata": {},
   "source": [
    "(.070000022649765, 2408.36279296875, 285.92877197265625, 2453.225830078125)"
   ]
  },
  {
   "cell_type": "markdown",
   "metadata": {},
   "source": [
    "### SwinL AT - Liu2023Comprehensive_Swin-L"
   ]
  },
  {
   "cell_type": "code",
   "execution_count": 29,
   "metadata": {},
   "outputs": [],
   "source": [
    "if tab1:\n",
    "  stats_public_swinl_at = get_statistics(load_public_model('Liu2023Comprehensive_Swin-L'), dataloader, device=device)"
   ]
  },
  {
   "cell_type": "code",
   "execution_count": 30,
   "metadata": {},
   "outputs": [],
   "source": [
    "if tab1:\n",
    "  atkstats_public_swinl_at = get_attack_statistics(load_public_model('Liu2023Comprehensive_Swin-L'), dataloader, device=device)"
   ]
  },
  {
   "cell_type": "code",
   "execution_count": 31,
   "metadata": {},
   "outputs": [],
   "source": [
    "if tab1:\n",
    "  print(return_tab1_metrics(xs, ys, stats_public_swinl_at, atkstats_public_swinl_at))"
   ]
  },
  {
   "cell_type": "markdown",
   "metadata": {},
   "source": [
    "(61.330002546310425, 33.73237228393555, 7.308244228363037, 75.6406021118164)"
   ]
  },
  {
   "cell_type": "markdown",
   "metadata": {},
   "source": [
    "### Fig2 PGD100 vs epsilon"
   ]
  },
  {
   "cell_type": "code",
   "execution_count": 32,
   "metadata": {},
   "outputs": [],
   "source": [
    "fig2 = False"
   ]
  },
  {
   "cell_type": "code",
   "execution_count": 33,
   "metadata": {},
   "outputs": [],
   "source": [
    "import numpy as np\n",
    "import pandas as pd\n",
    "\n",
    "def get_robustness_curve(dirname):\n",
    "  result = []\n",
    "  for file in os.listdir(dirname):\n",
    "    if file.endswith(\".npy\"):\n",
    "        result.append(np.load(os.path.join(dirname, file)))\n",
    "  print(len(result))\n",
    "  result = np.concatenate(result)\n",
    "  \n",
    "  accs = []\n",
    "  for eps in np.linspace(0, 32, 100):\n",
    "    accs.append((eps, 100 * np.greater(result, eps/255.).mean()))\n",
    "  return accs"
   ]
  },
  {
   "cell_type": "code",
   "execution_count": 34,
   "metadata": {},
   "outputs": [],
   "source": [
    "if fig2:\n",
    "  swinb_at = get_robustness_curve('./outputs/advtrain_swinb_orig/robust_curve/pgd100')\n",
    "  swinb_at = pd.DataFrame(swinb_at, columns=['eps', 'acc'])\n",
    "  swinb_at['model'] = 'AdvTrain'"
   ]
  },
  {
   "cell_type": "code",
   "execution_count": 35,
   "metadata": {},
   "outputs": [],
   "source": [
    "if fig2:\n",
    "  swinb_gn_variant = get_robustness_curve('outputs/gradnorm_swinb_variant/2024-02-14_11-30-41/robust_curve/pgd100')\n",
    "  swinb_gn_variant = pd.DataFrame(swinb_gn_variant, columns=['eps', 'acc'])\n",
    "  swinb_gn_variant['model'] = 'GN'"
   ]
  },
  {
   "cell_type": "code",
   "execution_count": 36,
   "metadata": {},
   "outputs": [],
   "source": [
    "if fig2:\n",
    "  fig2_data = pd.concat([swinb_at, swinb_gn_variant])"
   ]
  },
  {
   "cell_type": "code",
   "execution_count": 37,
   "metadata": {},
   "outputs": [],
   "source": [
    "import seaborn as sns\n",
    "import matplotlib as mpl\n",
    "import matplotlib.pyplot as plt\n",
    "\n",
    "if fig2:\n",
    "  fig = plt.figure(figsize=(12, 6))\n",
    "  # mpl.pyplot.figure(figsize=(250, 350))\n",
    "  sns.set(font_scale=1.3)\n",
    "  ax = sns.lineplot(data=fig2_data, x=\"eps\", y=\"acc\", hue='model')\n",
    "  ax.set(xlabel=r'Adversarial strength $\\epsilon$ (in units of 1/255)', ylabel='PGD100 robust accuracy (%)')\n",
    "  ax.lines[0].set_color('red')\n",
    "  ax.lines[1].set_color(mpl.rcParams['lines.color'])\n",
    "  plt.legend([],[], frameon=False)\n",
    "\n",
    "  fig.savefig(\"zzz_arxiv_figures/pgd100_epsilon.pdf\")"
   ]
  },
  {
   "cell_type": "markdown",
   "metadata": {},
   "source": [
    "### Fig 3 Perturbations"
   ]
  },
  {
   "cell_type": "code",
   "execution_count": 38,
   "metadata": {},
   "outputs": [],
   "source": [
    "fig3 = False"
   ]
  },
  {
   "cell_type": "code",
   "execution_count": 39,
   "metadata": {},
   "outputs": [],
   "source": [
    "if fig3:\n",
    "  resnet_nat_relu = get_model_attack_statistics_viz(f'outputs/nattrain_resnet_relu/2024-02-16_16-59-02/snapshots/snapshot-0-100.pth.tar', True, dataloader_viz, device=device)\n",
    "  swinb_nat = get_model_attack_statistics_viz(f'outputs/advtrain_swinb/2024-02-18_14-42-14/snapshots/snapshot-0-100.pth.tar', True, dataloader_viz, device=device)\n",
    "\n",
    "  resnet_at_relu = get_model_attack_statistics_viz(f'outputs/advtrain_resnet_relu/2024-02-18_20-06-25/last.pth.tar', True, dataloader_viz, device=device)\n",
    "  swinb_at = get_model_attack_statistics_viz(f'outputs/advtrain_swinb_orig/last.pth.tar', True, dataloader_viz, device=device)\n",
    "\n",
    "  resnet_gn_gelu = get_model_attack_statistics_viz(f'outputs/gradnorm_resnet_gelu/2024-02-03_22-07-28/last.pth.tar', True, dataloader_viz, device=device)\n",
    "  swinb_gn = get_model_attack_statistics_viz(f'outputs/gradnorm_swinb_variant/2024-02-14_11-30-41/last.pth.tar', True, dataloader_viz, device=device)"
   ]
  },
  {
   "cell_type": "code",
   "execution_count": 40,
   "metadata": {},
   "outputs": [],
   "source": [
    "if fig3:\n",
    "  fig3_stats = [resnet_nat_relu, swinb_nat, resnet_at_relu, swinb_at, resnet_gn_gelu, swinb_gn]"
   ]
  },
  {
   "cell_type": "code",
   "execution_count": 41,
   "metadata": {},
   "outputs": [],
   "source": [
    "if fig3:\n",
    "  resnet_nat_relu.keys()"
   ]
  },
  {
   "cell_type": "code",
   "execution_count": 42,
   "metadata": {},
   "outputs": [],
   "source": [
    "if fig3:\n",
    "  # xs_viz_idx = range(10)\n",
    "  xs_viz_idx = [2, 4, 5, 6, 7]\n",
    "  # xs_viz_idx = [0, 1, 3, 8, 9]\n",
    "  plt.rcParams['axes.grid'] = False\n",
    "  plt.rcParams['xtick.bottom'] = False\n",
    "  plt.rcParams['xtick.labelbottom'] = False\n",
    "  plt.rcParams['ytick.left'] = False\n",
    "  plt.rcParams['ytick.labelleft'] = False\n",
    "  for idx in xs_viz_idx:\n",
    "    print(*[(stats['out'][idx].argmax(-1) == ys_viz[idx]).item() for stats in fig3_stats])\n",
    "    plot_side_by_side_normalize(xs_viz[idx], *[stats['atk'][idx] - xs_viz[idx] for stats in fig3_stats], normalize=(False,)+(True,)*len(fig3_stats))"
   ]
  },
  {
   "cell_type": "markdown",
   "metadata": {},
   "source": [
    "## Fig 5 GradNorm lambda"
   ]
  },
  {
   "cell_type": "code",
   "execution_count": 43,
   "metadata": {},
   "outputs": [],
   "source": [
    "fig5 = False"
   ]
  },
  {
   "cell_type": "code",
   "execution_count": 44,
   "metadata": {},
   "outputs": [],
   "source": [
    "data_gradnorm = [\n",
    "  (1.2, 0.8, 79.9564, 54.9949, 79.8600, 46.2238),\n",
    "  (1.0, 1.0, 79.0584, 56.6449, 78.9011, 49.6703), # arxiv_outputs/gradnorm_swinb_finetuning_pareto_10/2024-04-03_18-17-15/log_rank0.txt\n",
    "  (0.9, 1.1, 78.5004, 57.4469, 78.5200, 50.7600), # arxiv_outputs/gradnorm_swinb_finetuning_pareto_11/2024-04-04_16-10-23/log_rank0.txt\n",
    "  (0.8, 1.2, 77.9424, 57.9408, 77.9400, 51.4875), # arxiv_outputs/gradnorm_swinb_finetuning_control/2024-04-02_19-15-31/log_rank0.txt\n",
    "  (0.7, 1.3, 77.2365, 58.3288, 77.1000, 51.9600), # arxiv_outputs/gradnorm_swinb_finetuning_pareto_13/2024-04-03_18-59-19/log_rank0.txt\n",
    "  (0.6, 1.4, 76.0825, 58.7368, 75.8200, 52.5200), # arxiv_outputs/gradnorm_swinb_finetuning_pareto_14/2024-04-03_18-58-08/log_rank0.txt\n",
    "  (0.5, 1.5, 74.3765, 58.7568, 74.2000, 52.4200), # arxiv_outputs/gradnorm_swinb_finetuning_pareto_15/2024-04-03_18-28-59/log_rank0.txt\n",
    "  (0.4, 1.6, 71.4926, 58.1588, 70.5600, 51.1800), # arxiv_outputs/gradnorm_swinb_finetuning_pareto_16/2024-04-03_18-14-56/log_rank0.txt\n",
    "  # PLACEHOLDER for 1.7\n",
    "  (0.3, 1.7, 63.6167, 54.7469, 62.9200, 46.2540), # PLACE HOLDER arxiv_outputs/gradnorm_swinb_finetuning_pareto_17/2024-04-09_23-09-16/log_rank0.txt\n",
    "  (0.2, 1.8, 40.9452, 39.0212, 40.0200, 29.0200), # arxiv_outputs/gradnorm_swinb_finetuning_pareto_18/2024-04-09_21-57-15/log_rank0.txt\n",
    "  (0.1, 1.9, 0.1000, 0.1000, 0.1, 0.1) # arxiv_outputs/gradnorm_swinb_finetuning_pareto_19/2024-04-14_21-44-28/log_rank0.txt\n",
    "]\n",
    "columns_gradnorm = ['weight_ce', 'weight_gradnorm', 'pgd10_clean', 'pgd10_robust', 'autoattack_clean', 'autoattack_robust']\n",
    "\n",
    "df_gradnorm = pd.DataFrame(data=data_gradnorm, columns=columns_gradnorm)"
   ]
  },
  {
   "cell_type": "code",
   "execution_count": 45,
   "metadata": {},
   "outputs": [],
   "source": [
    "data_at = [\n",
    "  # (False, 77.7384, 57.8328, 77.7600, 51.6600),\n",
    "  (True, 77.2260, 59.3940, 77.2028, 56.1239)\n",
    "]\n",
    "columns_at = ['AT', 'pgd10_clean', 'pgd10_robust', 'autoattack_clean', 'autoattack_robust']\n",
    "\n",
    "df_at = pd.DataFrame(data=data_at, columns=columns_at)"
   ]
  },
  {
   "cell_type": "code",
   "execution_count": 46,
   "metadata": {},
   "outputs": [],
   "source": [
    "data_clean = [\n",
    "  (84.19, 1.7800, 84.19, 00.0000),\n",
    "]\n",
    "columns_clean = ['pgd10_clean', 'pgd10_robust', 'autoattack_clean', 'autoattack_robust']\n",
    "\n",
    "df_clean = pd.DataFrame(data=data_clean, columns=columns_clean)"
   ]
  },
  {
   "cell_type": "code",
   "execution_count": 47,
   "metadata": {},
   "outputs": [],
   "source": [
    "import seaborn as sns\n",
    "import matplotlib as mpl\n",
    "import matplotlib.pyplot as plt\n",
    "\n",
    "if fig5:\n",
    "  fig = plt.figure(figsize=(12, 6))\n",
    "  sns.set(font_scale=1.3)\n",
    "  # mpl.pyplot.figure(figsize=(250, 350))\n",
    "  ax = sns.lineplot(data=df_gradnorm, x=\"weight_gradnorm\", y=\"autoattack_robust\")\n",
    "  ax.lines[0].set_linestyle(\"--\")\n",
    "  ax.lines[0].set_color(mpl.rcParams['lines.color'])\n",
    "  sns.lineplot(data=df_gradnorm, x=\"weight_gradnorm\", y=\"autoattack_clean\", ax=ax)\n",
    "  ax.lines[1].set_color(mpl.rcParams['lines.color'])\n",
    "\n",
    "  ax.axhline(df_at.loc[0, 'autoattack_robust'], ls='--', color='red')\n",
    "  ax.axhline(df_at.loc[0, 'autoattack_clean'], ls='-', color='red')\n",
    "\n",
    "  ax.axhline(df_clean.loc[0, 'autoattack_robust'], ls='--', color='orange')\n",
    "  ax.axhline(df_clean.loc[0, 'autoattack_clean'], ls='-', color='orange')\n",
    "\n",
    "  fig.savefig(\"zzz_arxiv_figures/pareto_lines.pdf\")"
   ]
  },
  {
   "cell_type": "markdown",
   "metadata": {},
   "source": [
    "## Fig 6 GradNorm distribution"
   ]
  },
  {
   "cell_type": "code",
   "execution_count": 48,
   "metadata": {},
   "outputs": [],
   "source": [
    "fig6 = False"
   ]
  },
  {
   "cell_type": "code",
   "execution_count": 49,
   "metadata": {},
   "outputs": [],
   "source": [
    "if fig6:\n",
    "  stats_at = torch.load('/var/datasets/adrianr/input_norm/outputs/advtrain_swinb_orig/last_arxiv_stats/stats.pth.tar')\n",
    "  stats_gradnorm_14 = torch.load('/var/datasets/adrianr/input_norm/arxiv_outputs/gradnorm_swinb_finetuning_pareto_14/2024-04-03_18-58-08/last_arxiv_stats/stats.pth.tar')"
   ]
  },
  {
   "cell_type": "code",
   "execution_count": 50,
   "metadata": {},
   "outputs": [],
   "source": [
    "if fig6:\n",
    "  stats_dict = {\n",
    "    'Adversarial':stats_at,\n",
    "    'GradNorm(0.6,1.4)':stats_gradnorm_14,\n",
    "  }"
   ]
  },
  {
   "cell_type": "code",
   "execution_count": 51,
   "metadata": {},
   "outputs": [],
   "source": [
    "def plot_fn(name, stats_dict, field, fn, *, index=Ellipsis, split=None, kde=False, **kwargs):\n",
    "    fig = plt.figure(figsize=(12, 6))\n",
    "    \n",
    "    grads_dict = {k:v[field][index] for k,v in stats_dict.items()}\n",
    "    if split is None:\n",
    "        split = list(grads_dict.values())[0].shape[0]\n",
    "    grads_fn_v = {k:torch.cat([fn(_x) for _x in v.split(split, dim=0)], 0) for k,v in grads_dict.items()}\n",
    "\n",
    "    grads_fn_v_shapes = [v.shape for v in grads_fn_v.values()]\n",
    "    print(grads_fn_v_shapes)\n",
    "\n",
    "    columns = [[f'{k} (mean={v.mean():.2g}, std={v.std():.2g})'] * v.shape[0] for k,v in grads_fn_v.items()]    \n",
    "    ax = sns.displot(data=pd.DataFrame(\n",
    "        {\n",
    "            name: torch.cat(list(grads_fn_v.values()), 0),\n",
    "            \"Training\": sum(columns, []),\n",
    "        }), kde=kde, x=name, hue='Training', **kwargs)\n",
    "    plt.gca().set_ylabel(f'Count')\n",
    "\n",
    "    sns.move_legend(\n",
    "        ax, \"lower center\",\n",
    "        bbox_to_anchor=(.5, 1), ncol=3, title=None, frameon=False, ncols=1\n",
    "    )\n",
    "\n",
    "    return ax\n",
    "\n",
    "sns.set(font_scale=1.1)"
   ]
  },
  {
   "cell_type": "code",
   "execution_count": 52,
   "metadata": {},
   "outputs": [],
   "source": [
    "def plot_condhist_fn(name, stats_dict, field_v, fn_v, field_c, fn_c, *, index=Ellipsis, split=None, kde=False, **kwargs):\n",
    "    fig = plt.figure(figsize=(12, 6))\n",
    "    \n",
    "    grads_dict_v = {k:v[field_v][index] for k,v in stats_dict.items()}\n",
    "    grads_dict_c = {k:v[field_c][index] for k,v in stats_dict.items()}\n",
    "    if split is None:\n",
    "        split = list(grads_dict_v.values())[0].shape[0]\n",
    "    grads_fn_v = {k:torch.cat([fn_v(_x) for _x in v.split(split, dim=0)], 0) for k,v in grads_dict_v.items()}\n",
    "    grads_fn_c = {k:torch.cat([fn_c(_x) for _x in v.split(split, dim=0)], 0) for k,v in grads_dict_c.items()}\n",
    "\n",
    "    grads_fn_v0 = {k:v[~c] for (k,v),(_,c) in zip(grads_fn_v.items(), grads_fn_c.items())}\n",
    "    grads_fn_v1 = {k:v[c] for (k,v),(_,c) in zip(grads_fn_v.items(), grads_fn_c.items())}\n",
    "\n",
    "    grads_fn_v_shapes = [v.shape for v in grads_fn_v.values()]\n",
    "    print(grads_fn_v_shapes)\n",
    "    grads_fn_v0_shapes = [v.shape for v in grads_fn_v0.values()]\n",
    "    print(grads_fn_v0_shapes)\n",
    "    grads_fn_v1_shapes = [v.shape for v in grads_fn_v1.values()]\n",
    "    print(grads_fn_v1_shapes)\n",
    "\n",
    "    columns0 = [[f'{k} (mean={v.mean():.2g},std={v.std():.2g})'] * v.shape[0] for k,v in grads_fn_v0.items()]    \n",
    "    ax0 = sns.displot(data=pd.DataFrame(\n",
    "        {\n",
    "            name: torch.cat(list(grads_fn_v0.values()), 0),\n",
    "            \"Training\": sum(columns0, []),\n",
    "        }), kde=kde, x=name, hue='Training', **kwargs)\n",
    "    plt.gca().set_ylabel(f'Count')\n",
    "\n",
    "    sns.move_legend(\n",
    "        ax0, \"lower center\",\n",
    "        bbox_to_anchor=(.5, 1), ncol=3, title=None, frameon=False,\n",
    "    )\n",
    "\n",
    "    columns1 = [[f'{k} (mean={v.mean():.2g},std={v.std():.2g})'] * v.shape[0] for k,v in grads_fn_v1.items()]    \n",
    "    ax1 = sns.displot(data=pd.DataFrame(\n",
    "        {\n",
    "            name: torch.cat(list(grads_fn_v1.values()), 0),\n",
    "            \"Training\": sum(columns1, []),\n",
    "        }), kde=kde, x=name, hue='Training', **kwargs)\n",
    "    plt.gca().set_ylabel(f'Count')\n",
    "\n",
    "    sns.move_legend(\n",
    "        ax1, \"lower center\",\n",
    "        bbox_to_anchor=(.5, 1), ncol=3, title=None, frameon=False,\n",
    "    )\n",
    "\n",
    "    return ax0, ax1\n",
    "\n",
    "sns.set(font_scale=1.1)"
   ]
  },
  {
   "cell_type": "code",
   "execution_count": 53,
   "metadata": {},
   "outputs": [],
   "source": [
    "import seaborn as sns\n",
    "import matplotlib as mpl\n",
    "\n",
    "if fig6:\n",
    "        fig = plot_fn(r'Distribution of $|\\nabla_x \\mathcal{L}|_1$ per image', stats_dict, 'grad_loss_x', lambda x: x.abs().flatten(1).sum(1), \n",
    "                index=torch.arange(10000), kde=True, log_scale=(True, False), palette=sns.color_palette(palette=['red', mpl.rcParams['lines.color']], n_colors=2))\n",
    "        # fig.savefig(\"arxiv_figures/transformers/l1_norm_distribution_per_image_grad_loss_x_10k.pdf\") \n",
    "        fig.fig.savefig(f\"zzz_arxiv_figures/l1_norm_distribution_per_image_grad_loss_x_10k.pdf\")"
   ]
  },
  {
   "cell_type": "code",
   "execution_count": 54,
   "metadata": {},
   "outputs": [],
   "source": [
    "if fig6:\n",
    "        fig0, fig1 = plot_condhist_fn(r'Distribution of $|\\nabla_x \\mathcal{L}|_1$ per image', stats_dict, \n",
    "                'grad_loss_x', lambda x: x.abs().flatten(1).sum(1), \n",
    "                'out', lambda x: x.argmax(-1) == ys,\n",
    "                index=torch.arange(10000), kde=True, log_scale=(True, False), palette=sns.color_palette(palette=['red', mpl.rcParams['lines.color']], n_colors=2))\n",
    "        fig0.set(xlim=fig.ax.get_xlim(),ylim=fig.ax.get_ylim())\n",
    "        fig1.set(xlim=fig.ax.get_xlim(),ylim=fig.ax.get_ylim())\n",
    "        fig0.fig.savefig(f\"zzz_arxiv_figures/class_conditional_0_l1_norm_distribution_per_image_grad_loss_x_10k.pdf\")\n",
    "        fig1.fig.savefig(f\"zzz_arxiv_figures/class_conditional_1_l1_norm_distribution_per_image_grad_loss_x_10k.pdf\")"
   ]
  },
  {
   "cell_type": "markdown",
   "metadata": {},
   "source": [
    "### Fig 7 Absolute value distribution"
   ]
  },
  {
   "cell_type": "code",
   "execution_count": 55,
   "metadata": {},
   "outputs": [],
   "source": [
    "fig7 = False"
   ]
  },
  {
   "cell_type": "code",
   "execution_count": 56,
   "metadata": {},
   "outputs": [],
   "source": [
    "if fig7:\n",
    "  stats_at = torch.load('/var/datasets/adrianr/input_norm/outputs/advtrain_swinb_orig/last_arxiv_stats/stats.pth.tar')\n",
    "  stats_gradnorm_14 = torch.load('/var/datasets/adrianr/input_norm/arxiv_outputs/gradnorm_swinb_finetuning_pareto_14/2024-04-03_18-58-08/last_arxiv_stats/stats.pth.tar')"
   ]
  },
  {
   "cell_type": "code",
   "execution_count": 57,
   "metadata": {},
   "outputs": [],
   "source": [
    "if fig7:\n",
    "  stats_dict = {\n",
    "    'Adversarial':stats_at,\n",
    "    'GradNorm(0.6,1.4)':stats_gradnorm_14,\n",
    "  }"
   ]
  },
  {
   "cell_type": "code",
   "execution_count": 58,
   "metadata": {},
   "outputs": [],
   "source": [
    "if fig7:\n",
    "        fig = plot_fn(r'distribution of $|\\nabla_x \\mathcal{L}|$', stats_dict, 'grad_loss_x', lambda x: x.abs().flatten(), \n",
    "                index=torch.arange(1000), log_scale=(True, False), rug=False, palette=sns.color_palette(palette=['red', mpl.rcParams['lines.color']], n_colors=2))\n",
    "        fig.savefig(f\"zzz_arxiv_figures/abs_distribution_per_pixel_grad_loss_x_advtrain_gradnorm_1k.pdf\")"
   ]
  },
  {
   "cell_type": "code",
   "execution_count": 59,
   "metadata": {},
   "outputs": [],
   "source": [
    "if fig7:\n",
    "        fig_green = plot_fn(r'distribution of $|\\nabla_x \\mathcal{L}|_{green}$', stats_dict, 'grad_loss_x', lambda x: x[:, 1].abs().flatten(), \n",
    "                index=torch.arange(1000), log_scale=(True, False), rug=False, palette=sns.color_palette(palette=['red', mpl.rcParams['lines.color']], n_colors=2))\n",
    "        fig_green.savefig(f\"zzz_arxiv_figures/abs_distribution_per_pixel_green_grad_loss_x_advtrain_gradnorm_1k.pdf\")"
   ]
  },
  {
   "cell_type": "code",
   "execution_count": 60,
   "metadata": {},
   "outputs": [],
   "source": [
    "if fig7:\n",
    "        fig_red = plot_fn(r'distribution of $|\\nabla_x \\mathcal{L}|_{red}$', stats_dict, 'grad_loss_x', lambda x: x[:, 0].abs().flatten(), \n",
    "                index=torch.arange(1000), log_scale=(True, False), rug=False, palette=sns.color_palette(palette=['red', mpl.rcParams['lines.color']], n_colors=2))\n",
    "        fig_red.set(xlim=fig.ax.get_xlim(),ylim=fig_green.ax.get_ylim())\n",
    "        fig_red.savefig(f\"zzz_arxiv_figures/abs_distribution_per_pixel_red_grad_loss_x_advtrain_gradnorm_1k.pdf\")"
   ]
  },
  {
   "cell_type": "code",
   "execution_count": 61,
   "metadata": {},
   "outputs": [],
   "source": [
    "if fig7:\n",
    "        fig_blue = plot_fn(r'Distribution of $|\\nabla_x \\mathcal{L}|_{blue}$', stats_dict, 'grad_loss_x', lambda x: x[:, 2].abs().flatten(), \n",
    "                index=torch.arange(1000), log_scale=(True, False), rug=False, palette=sns.color_palette(palette=['red', mpl.rcParams['lines.color']], n_colors=2))\n",
    "        fig_blue.set(xlim=fig.ax.get_xlim(),ylim=fig_green.ax.get_ylim())\n",
    "        fig_blue.savefig(f\"zzz_arxiv_figures/abs_distribution_per_pixel_blue_grad_loss_x_advtrain_gradnorm_1k.pdf\")"
   ]
  },
  {
   "cell_type": "markdown",
   "metadata": {},
   "source": [
    "## Fig 10 Normalized curvature"
   ]
  },
  {
   "cell_type": "code",
   "execution_count": 62,
   "metadata": {},
   "outputs": [],
   "source": [
    "fig10 = False"
   ]
  },
  {
   "cell_type": "code",
   "execution_count": 63,
   "metadata": {},
   "outputs": [],
   "source": [
    "from typing import Tuple\n",
    "import torch.nn.functional as F\n",
    "\n",
    "def curvature_hessian_estimator(model: torch.nn.Module,\n",
    "                        image: torch.Tensor,\n",
    "                        target: torch.Tensor,\n",
    "                        num_power_iter: int=20) -> Tuple[torch.Tensor, torch.Tensor, torch.Tensor]:\n",
    "\n",
    "    model.eval()\n",
    "    u = torch.randn_like(image)\n",
    "    u /= torch.norm(u, p=2, dim=(1, 2, 3), keepdim=True)\n",
    "\n",
    "    with torch.enable_grad():\n",
    "        image = image.requires_grad_()\n",
    "        out = model(image)\n",
    "        # print((out.argmax(-1) == target).float().mean(), target)\n",
    "        y = F.log_softmax(out, 1)\n",
    "        output = F.nll_loss(y, target, reduction='none')\n",
    "        model.zero_grad()\n",
    "        # Gradients w.r.t. input\n",
    "        gradients = torch.autograd.grad(outputs=output.sum(),\n",
    "                                        inputs=image, create_graph=True)[0]\n",
    "        gnorm = torch.norm(gradients, p=2, dim=(1, 2, 3))\n",
    "        gnorm_1 = gradients.abs().sum((1, 2, 3))\n",
    "        assert not gradients.isnan().any()\n",
    "\n",
    "        # Power method to find singular value of Hessian\n",
    "        for _ in range(num_power_iter):\n",
    "            grad_vector_prod = (gradients * u.detach_()).sum()\n",
    "            hessian_vector_prod = torch.autograd.grad(outputs=grad_vector_prod, inputs=image, retain_graph=True)[0]\n",
    "            assert not hessian_vector_prod.isnan().any()\n",
    "\n",
    "            hvp_norm = torch.norm(hessian_vector_prod, p=2, dim=(1, 2, 3), keepdim=True)\n",
    "            u = hessian_vector_prod.div(hvp_norm + 1e-6) #1e-6 for numerical stability\n",
    "\n",
    "        grad_vector_prod = (gradients * u.detach_()).sum()\n",
    "        hessian_vector_prod = torch.autograd.grad(outputs=grad_vector_prod, inputs=image)[0]\n",
    "        hessian_singular_value = (hessian_vector_prod * u.detach_()).sum((1, 2, 3))\n",
    "    \n",
    "    # curvature = hessian_singular_value / (grad_norm + epsilon) by definition\n",
    "    curvatures = hessian_singular_value.abs().div(gnorm + 1e-6)\n",
    "    hess = hessian_singular_value.abs()\n",
    "    grad = gnorm\n",
    "    grad_1 = gnorm_1\n",
    "    \n",
    "    return curvatures, hess, grad, grad_1\n",
    "\n",
    "\n",
    "def measure_curvature(model: torch.nn.Module,\n",
    "                      dataloader: torch.utils.data.DataLoader,\n",
    "                      data_fraction: float=0.1,\n",
    "                      batch_size: int=64,\n",
    "                      num_power_iter: int=20,\n",
    "                      device: torch.device='cpu') -> Tuple[tuple, tuple, tuple]:\n",
    "\n",
    "    \"\"\"\n",
    "    Compute curvature, hessian norm and gradient norm of a subset of the data given by the dataloader.\n",
    "    These values are computed using the power method, which requires setting the number of power iterations (num_power_iter).\n",
    "    \"\"\"\n",
    "\n",
    "    model = model.eval().to(device)\n",
    "    datasize = int(data_fraction * len(dataloader.dataset))\n",
    "    max_batches = int(datasize / batch_size)\n",
    "    curvature_agg = torch.zeros(size=(datasize,))\n",
    "    grad_agg = torch.zeros(size=(datasize,))\n",
    "    hess_agg = torch.zeros(size=(datasize,))\n",
    "    grad_1_agg = torch.zeros(size=(datasize,))\n",
    "\n",
    "    for idx, (data, target) in enumerate(tqdm(dataloader)):\n",
    "        data, target = data.to(device).requires_grad_(), target.to(device)\n",
    "        with torch.no_grad():\n",
    "            curvatures, hess, grad, grad_1 = curvature_hessian_estimator(model, data, target, num_power_iter=num_power_iter)\n",
    "        curvature_agg[idx * batch_size:(idx + 1) * batch_size] = curvatures.detach()\n",
    "        hess_agg[idx * batch_size:(idx + 1) * batch_size] = hess.detach()\n",
    "        grad_agg[idx * batch_size:(idx + 1) * batch_size] = grad.detach()\n",
    "        grad_1_agg[idx * batch_size:(idx + 1) * batch_size] = grad_1.detach()\n",
    "\n",
    "        avg_curvature, std_curvature = curvature_agg.mean().item(), curvature_agg.std().item()\n",
    "        avg_hessian, std_hessian = hess_agg.mean().item(), hess_agg.std().item()\n",
    "        avg_grad, std_grad = grad_agg.mean().item(), grad_agg.std().item()\n",
    "        avg_grad_1, std_grad_1 = grad_1_agg.mean().item(), grad_1_agg.std().item()\n",
    "\n",
    "        if idx == (max_batches - 1):\n",
    "            print('Average Curvature: {:.6f} +/- {:.2f} '.format(avg_curvature, std_curvature))\n",
    "            print('Average Hessian Spectral Norm: {:.6f} +/- {:.2f} '.format(avg_hessian, std_hessian))\n",
    "            print('Average Gradient Norm: {:.6f} +/- {:.2f}'.format(avg_grad, std_grad))\n",
    "            print('Average Gradient L1 Norm: {:.6f} +/- {:.2f}'.format(avg_grad_1, std_grad_1))\n",
    "            return curvature_agg, hess_agg, grad_agg, grad_1_agg"
   ]
  },
  {
   "cell_type": "code",
   "execution_count": 64,
   "metadata": {},
   "outputs": [],
   "source": [
    "def launch_measure_curvature(model_path, ema, dataloader, device):\n",
    "  model = load_model(model_path, ema=ema)\n",
    "  return measure_curvature(model, dataloader, data_fraction=3200./10000., batch_size=dataloader.batch_size, device=device)"
   ]
  },
  {
   "cell_type": "code",
   "execution_count": 65,
   "metadata": {},
   "outputs": [],
   "source": [
    "def launch_measure_curvature_public(model_name, dataloader, device):\n",
    "  model = load_public_model(model_name)\n",
    "  return measure_curvature(model, dataloader, data_fraction=3200./10000., batch_size=dataloader.batch_size, device=device)"
   ]
  },
  {
   "cell_type": "code",
   "execution_count": 66,
   "metadata": {},
   "outputs": [],
   "source": [
    "if fig10:\n",
    "  curvature_at = launch_measure_curvature('outputs/advtrain_swinb_orig/last.pth.tar', True, dataloader, device)"
   ]
  },
  {
   "cell_type": "code",
   "execution_count": 67,
   "metadata": {},
   "outputs": [],
   "source": [
    "if fig10:\n",
    "  curvature_gn = launch_measure_curvature('outputs/gradnorm_swinb_variant/2024-02-14_11-30-41/last.pth.tar', True, dataloader, device)"
   ]
  },
  {
   "cell_type": "code",
   "execution_count": 68,
   "metadata": {},
   "outputs": [],
   "source": [
    "if fig10:\n",
    "  curvature_nat = launch_measure_curvature_public('swin_large_patch4_window7_224', dataloader, device=device)"
   ]
  },
  {
   "cell_type": "code",
   "execution_count": 69,
   "metadata": {},
   "outputs": [],
   "source": [
    "if fig10:\n",
    "  fig10_results = {\n",
    "    'natural':curvature_nat,\n",
    "    'gradnorm':curvature_gn,\n",
    "    'advtrain':curvature_at\n",
    "  }"
   ]
  },
  {
   "cell_type": "code",
   "execution_count": 70,
   "metadata": {},
   "outputs": [],
   "source": [
    "def plot_curvature_fn(name, fn, *, index=Ellipsis, split=None, **kwargs):\n",
    "    _at_linerrs = fig10_results['advtrain'][0][index].detach().cpu()\n",
    "    _gn_strong_linerrs = fig10_results['gradnorm'][0][index].detach().cpu()\n",
    "    _nat_linerrs = fig10_results['natural'][0][index].detach().cpu()\n",
    "    print(_at_linerrs.shape, _gn_strong_linerrs.shape, _nat_linerrs.shape)\n",
    "    print(_at_linerrs.min(), _gn_strong_linerrs.min(), _nat_linerrs.min())\n",
    "    if split is None:\n",
    "        split = _at_linerrs.shape[0]\n",
    "    at_fn_v = torch.cat([fn(_x) for _x in _at_linerrs.split(split, dim=0)], 0)\n",
    "    gns_fn_v = torch.cat([fn(_x) for _x in _gn_strong_linerrs.split(split, dim=0)], 0)\n",
    "    nat_fn_v = torch.cat([fn(_x) for _x in _nat_linerrs.split(split, dim=0)], 0)\n",
    "    ax = sns.displot(data=pd.DataFrame(\n",
    "        {\n",
    "            name: torch.cat([at_fn_v, gns_fn_v, nat_fn_v], 0),\n",
    "            \"Training\": (\n",
    "                ([f'Adversarial Training (PGD-3) (mean={at_fn_v.mean():.2e})'] * _at_linerrs.shape[0]) + \n",
    "                ([f'Gradient Norm Regularization (mean={gns_fn_v.mean():.2e})'] * _gn_strong_linerrs.shape[0]) +\n",
    "                ([f'Natural Training (mean={nat_fn_v.mean():.2e})'] * _nat_linerrs.shape[0])\n",
    "            ),\n",
    "        }), kde=True, x=name, hue='Training', \n",
    "        palette = {\n",
    "            f'Adversarial Training (PGD-3) (mean={at_fn_v.mean():.2e})':'red', \n",
    "            f'Gradient Norm Regularization (mean={gns_fn_v.mean():.2e})':'blue',\n",
    "            f'Natural Training (mean={nat_fn_v.mean():.2e})':'orange'\n",
    "        }, **kwargs)\n",
    "    plt.gca().set_ylabel(f'Count (n={_at_linerrs.shape[0]})')\n",
    "    return ax.fig"
   ]
  },
  {
   "cell_type": "code",
   "execution_count": 71,
   "metadata": {},
   "outputs": [],
   "source": [
    "if fig10:\n",
    "        fig = plot_curvature_fn(r'Normalized curvature', lambda x: x + 1e-16, \n",
    "                index=torch.arange(3200), log_scale=(True, False), alpha=0.4)\n",
    "        fig.savefig('./zzz_arxiv_figures/curvature.pdf', facecolor='white')"
   ]
  },
  {
   "cell_type": "markdown",
   "metadata": {},
   "source": [
    "## Fig10 - FGSM Training"
   ]
  },
  {
   "cell_type": "code",
   "execution_count": 74,
   "metadata": {},
   "outputs": [],
   "source": [
    "import re\n",
    "\n",
    "def log_to_acc_df(filename):\n",
    "  log_lines = []\n",
    "  start_epoch = None\n",
    "  with open(f'{filename}', 'r') as file:\n",
    "    # Iterate over each line in the file\n",
    "    for line in file:\n",
    "        # Process the line as needed\n",
    "        if (': [ 195/195]' in line) or ('[  97/97]' in line) or ('[ 187/187]' in line):\n",
    "          log_lines.append(line)\n",
    "        if start_epoch is None and ('[   0/2502 (  0%)]' in line or '[   0/5004 (  0%)]' in line or '[   0/2408 (  0%)]' in line):\n",
    "          start_epoch = int(line.split(' ')[7][1:].split('/')[0])\n",
    "\n",
    "  acc_df = []\n",
    "  epoch = start_epoch\n",
    "  for line in log_lines:\n",
    "    elems = re.findall(r'\\((.*?)\\)', line)\n",
    "    \n",
    "    if 'EMA' not in line:\n",
    "      loss = float(elems[2])\n",
    "      acc1 = float(elems[3])\n",
    "      acc5 = float(elems[4])\n",
    "      advloss = float(elems[5])\n",
    "      advacc1 = float(elems[6])\n",
    "      advacc5 = float(elems[7])\n",
    "      ema = False\n",
    "    else:\n",
    "      loss = float(elems[3])\n",
    "      acc1 = float(elems[4])\n",
    "      acc5 = float(elems[5])\n",
    "      advloss = float(elems[6])\n",
    "      advacc1 = float(elems[7])\n",
    "      advacc5 = float(elems[8])\n",
    "      ema = True\n",
    "    # acc_df.append((epoch, ema, loss, acc1, acc5, advloss, advacc1, advacc5))\n",
    "    acc_df.append((epoch, ema, 'loss', loss))\n",
    "    acc_df.append((epoch, ema, 'acc1', acc1))\n",
    "    acc_df.append((epoch, ema, 'acc5', acc5))\n",
    "    acc_df.append((epoch, ema, 'advacc1', advacc1))\n",
    "    acc_df.append((epoch, ema, 'advacc5', advacc5))\n",
    "    \n",
    "    if ema:\n",
    "      epoch += 1\n",
    "\n",
    "  acc_df = pd.DataFrame(acc_df,  columns=['epoch', 'EMA', 'metric', 'value'])\n",
    "\n",
    "  return log_lines, acc_df\n",
    "\n",
    "def logs_to_acc_df(*filenames):\n",
    "  dfs = [log_to_acc_df(filename)[1] for filename in filenames]\n",
    "  df = pd.concat(dfs)\n",
    "  df = df.drop_duplicates(['epoch', 'EMA', 'metric'], keep='last')\n",
    "  df = df.sort_values(by=['epoch', 'EMA', 'metric'])\n",
    "  return df"
   ]
  },
  {
   "cell_type": "code",
   "execution_count": 75,
   "metadata": {},
   "outputs": [],
   "source": [
    "advtrain = logs_to_acc_df('outputs/advtrain_swinb_orig/log_rank0.txt')\n",
    "fgsmtrain = logs_to_acc_df('outputs/advtrain1_swinb/2024-02-23_11-21-46/log_rank0.txt')\n",
    "gradnorm = logs_to_acc_df('outputs/gradnorm_swinb_variant/2024-02-05_20-47-43/log_rank0.txt', 'outputs/gradnorm_swinb_variant/2024-02-07_16-31-19/log_rank0.txt', 'outputs/gradnorm_swinb_variant/2024-02-14_11-30-41/log_rank0.txt')"
   ]
  },
  {
   "cell_type": "code",
   "execution_count": 76,
   "metadata": {},
   "outputs": [],
   "source": [
    "advtrain['method'] = 'Adversarial Training'\n",
    "gradnorm['method'] = 'Gradient Norm'\n",
    "fgsmtrain['method'] = 'FGSM Training'"
   ]
  },
  {
   "cell_type": "code",
   "execution_count": 77,
   "metadata": {},
   "outputs": [
    {
     "data": {
      "text/html": [
       "<div>\n",
       "<style scoped>\n",
       "    .dataframe tbody tr th:only-of-type {\n",
       "        vertical-align: middle;\n",
       "    }\n",
       "\n",
       "    .dataframe tbody tr th {\n",
       "        vertical-align: top;\n",
       "    }\n",
       "\n",
       "    .dataframe thead th {\n",
       "        text-align: right;\n",
       "    }\n",
       "</style>\n",
       "<table border=\"1\" class=\"dataframe\">\n",
       "  <thead>\n",
       "    <tr style=\"text-align: right;\">\n",
       "      <th></th>\n",
       "      <th>epoch</th>\n",
       "      <th>EMA</th>\n",
       "      <th>metric</th>\n",
       "      <th>value</th>\n",
       "      <th>method</th>\n",
       "    </tr>\n",
       "  </thead>\n",
       "  <tbody>\n",
       "    <tr>\n",
       "      <th>1</th>\n",
       "      <td>0</td>\n",
       "      <td>False</td>\n",
       "      <td>acc1</td>\n",
       "      <td>84.8940</td>\n",
       "      <td>Adversarial Training</td>\n",
       "    </tr>\n",
       "    <tr>\n",
       "      <th>2</th>\n",
       "      <td>0</td>\n",
       "      <td>False</td>\n",
       "      <td>acc5</td>\n",
       "      <td>97.4440</td>\n",
       "      <td>Adversarial Training</td>\n",
       "    </tr>\n",
       "    <tr>\n",
       "      <th>3</th>\n",
       "      <td>0</td>\n",
       "      <td>False</td>\n",
       "      <td>advacc1</td>\n",
       "      <td>1.9500</td>\n",
       "      <td>Adversarial Training</td>\n",
       "    </tr>\n",
       "    <tr>\n",
       "      <th>4</th>\n",
       "      <td>0</td>\n",
       "      <td>False</td>\n",
       "      <td>advacc5</td>\n",
       "      <td>6.0700</td>\n",
       "      <td>Adversarial Training</td>\n",
       "    </tr>\n",
       "    <tr>\n",
       "      <th>0</th>\n",
       "      <td>0</td>\n",
       "      <td>False</td>\n",
       "      <td>loss</td>\n",
       "      <td>0.6873</td>\n",
       "      <td>Adversarial Training</td>\n",
       "    </tr>\n",
       "    <tr>\n",
       "      <th>...</th>\n",
       "      <td>...</td>\n",
       "      <td>...</td>\n",
       "      <td>...</td>\n",
       "      <td>...</td>\n",
       "      <td>...</td>\n",
       "    </tr>\n",
       "    <tr>\n",
       "      <th>996</th>\n",
       "      <td>99</td>\n",
       "      <td>True</td>\n",
       "      <td>acc1</td>\n",
       "      <td>72.8860</td>\n",
       "      <td>FGSM Training</td>\n",
       "    </tr>\n",
       "    <tr>\n",
       "      <th>997</th>\n",
       "      <td>99</td>\n",
       "      <td>True</td>\n",
       "      <td>acc5</td>\n",
       "      <td>91.4080</td>\n",
       "      <td>FGSM Training</td>\n",
       "    </tr>\n",
       "    <tr>\n",
       "      <th>998</th>\n",
       "      <td>99</td>\n",
       "      <td>True</td>\n",
       "      <td>advacc1</td>\n",
       "      <td>9.7300</td>\n",
       "      <td>FGSM Training</td>\n",
       "    </tr>\n",
       "    <tr>\n",
       "      <th>999</th>\n",
       "      <td>99</td>\n",
       "      <td>True</td>\n",
       "      <td>advacc5</td>\n",
       "      <td>15.4740</td>\n",
       "      <td>FGSM Training</td>\n",
       "    </tr>\n",
       "    <tr>\n",
       "      <th>995</th>\n",
       "      <td>99</td>\n",
       "      <td>True</td>\n",
       "      <td>loss</td>\n",
       "      <td>1.2786</td>\n",
       "      <td>FGSM Training</td>\n",
       "    </tr>\n",
       "  </tbody>\n",
       "</table>\n",
       "<p>3000 rows × 5 columns</p>\n",
       "</div>"
      ],
      "text/plain": [
       "     epoch    EMA   metric    value                method\n",
       "1        0  False     acc1  84.8940  Adversarial Training\n",
       "2        0  False     acc5  97.4440  Adversarial Training\n",
       "3        0  False  advacc1   1.9500  Adversarial Training\n",
       "4        0  False  advacc5   6.0700  Adversarial Training\n",
       "0        0  False     loss   0.6873  Adversarial Training\n",
       "..     ...    ...      ...      ...                   ...\n",
       "996     99   True     acc1  72.8860         FGSM Training\n",
       "997     99   True     acc5  91.4080         FGSM Training\n",
       "998     99   True  advacc1   9.7300         FGSM Training\n",
       "999     99   True  advacc5  15.4740         FGSM Training\n",
       "995     99   True     loss   1.2786         FGSM Training\n",
       "\n",
       "[3000 rows x 5 columns]"
      ]
     },
     "execution_count": 77,
     "metadata": {},
     "output_type": "execute_result"
    }
   ],
   "source": [
    "fig10_df = pd.concat([advtrain, gradnorm, fgsmtrain])\n",
    "fig10_df"
   ]
  },
  {
   "cell_type": "code",
   "execution_count": 78,
   "metadata": {},
   "outputs": [],
   "source": [
    "fig10_plot_df = fig10_df.copy()\n",
    "fig10_plot_df = fig10_plot_df[fig10_plot_df.EMA == True]\n",
    "fig10_plot_df = fig10_plot_df[fig10_plot_df.metric.apply(lambda x: x in ['advacc1'])]"
   ]
  },
  {
   "cell_type": "code",
   "execution_count": 81,
   "metadata": {},
   "outputs": [
    {
     "data": {
      "application/vnd.plotly.v1+json": {
       "config": {
        "plotlyServerURL": "https://plot.ly"
       },
       "data": [
        {
         "hovertemplate": "method=Adversarial Training<br>Epoch=%{x}<br>PGD10 robust accuracy (%)=%{y}<extra></extra>",
         "legendgroup": "Adversarial Training",
         "line": {
          "color": "red",
          "dash": "solid"
         },
         "marker": {
          "symbol": "circle"
         },
         "mode": "lines+markers",
         "name": "Adversarial Training",
         "orientation": "v",
         "showlegend": true,
         "type": "scatter",
         "x": [
          0,
          1,
          2,
          3,
          4,
          5,
          6,
          7,
          8,
          9,
          10,
          11,
          12,
          13,
          14,
          15,
          16,
          17,
          18,
          19,
          20,
          21,
          22,
          23,
          24,
          25,
          26,
          27,
          28,
          29,
          30,
          31,
          32,
          33,
          34,
          35,
          36,
          37,
          38,
          39,
          40,
          41,
          42,
          43,
          44,
          45,
          46,
          47,
          48,
          49,
          50,
          51,
          52,
          53,
          54,
          55,
          56,
          57,
          58,
          59,
          60,
          61,
          62,
          63,
          64,
          65,
          66,
          67,
          68,
          69,
          70,
          71,
          72,
          73,
          74,
          75,
          76,
          77,
          78,
          79,
          80,
          81,
          82,
          83,
          84,
          85,
          86,
          87,
          88,
          89,
          90,
          91,
          92,
          93,
          94,
          95,
          96,
          97,
          98,
          99
         ],
         "xaxis": "x",
         "y": [
          1.888,
          4.08,
          19.674,
          35.65,
          42.384,
          43.336,
          43.69,
          44.268,
          44.978,
          45.672,
          46.412,
          46.97,
          47.494,
          48.054,
          48.616,
          48.898,
          49.294,
          49.562,
          49.842,
          50.26,
          50.37,
          50.6,
          50.804,
          51.146,
          51.276,
          51.45,
          51.618,
          51.772,
          51.916,
          52.19,
          52.346,
          52.372,
          52.514,
          52.544,
          52.78,
          52.984,
          53.254,
          53.256,
          53.432,
          53.578,
          53.71,
          53.762,
          53.93,
          54.096,
          54.234,
          54.418,
          54.592,
          54.676,
          54.886,
          55.106,
          55.214,
          55.354,
          55.518,
          55.68,
          55.826,
          55.916,
          56.06,
          56.228,
          56.39,
          56.638,
          56.684,
          56.728,
          56.896,
          57.084,
          57.172,
          57.356,
          57.394,
          57.516,
          57.634,
          57.832,
          57.918,
          58.008,
          58.234,
          58.326,
          58.422,
          58.462,
          58.59,
          58.588,
          58.712,
          58.754,
          58.788,
          58.932,
          58.956,
          59.07,
          59.156,
          59.218,
          59.198,
          59.18,
          59.262,
          59.278,
          59.376,
          59.386,
          59.364,
          59.36,
          59.436,
          59.366,
          59.412,
          59.414,
          59.478,
          59.47
         ],
         "yaxis": "y"
        },
        {
         "hovertemplate": "method=Gradient Norm<br>Epoch=%{x}<br>PGD10 robust accuracy (%)=%{y}<extra></extra>",
         "legendgroup": "Gradient Norm",
         "line": {
          "color": "blue",
          "dash": "solid"
         },
         "marker": {
          "symbol": "circle"
         },
         "mode": "lines+markers",
         "name": "Gradient Norm",
         "orientation": "v",
         "showlegend": true,
         "type": "scatter",
         "x": [
          0,
          1,
          2,
          3,
          4,
          5,
          6,
          7,
          8,
          9,
          10,
          11,
          12,
          13,
          14,
          15,
          16,
          17,
          18,
          19,
          20,
          21,
          22,
          23,
          24,
          25,
          26,
          27,
          28,
          29,
          30,
          31,
          32,
          33,
          34,
          35,
          36,
          37,
          38,
          39,
          40,
          41,
          42,
          43,
          44,
          45,
          46,
          47,
          48,
          49,
          50,
          51,
          52,
          53,
          54,
          55,
          56,
          57,
          58,
          59,
          60,
          61,
          62,
          63,
          64,
          65,
          66,
          67,
          68,
          69,
          70,
          71,
          72,
          73,
          74,
          75,
          76,
          77,
          78,
          79,
          80,
          81,
          82,
          83,
          84,
          85,
          86,
          87,
          88,
          89,
          90,
          91,
          92,
          93,
          94,
          95,
          96,
          97,
          98,
          99
         ],
         "xaxis": "x",
         "y": [
          1.49,
          4.2039,
          18.1816,
          32.1894,
          40.9792,
          44.0431,
          44.5611,
          44.9971,
          45.3011,
          45.6631,
          46.1811,
          46.6551,
          47.0671,
          47.4171,
          47.737,
          48.165,
          48.405,
          48.835,
          49.027,
          49.351,
          49.637,
          49.807,
          50.079,
          50.305,
          50.401,
          50.655,
          50.809,
          51.045,
          51.041,
          51.271,
          51.393,
          51.569,
          51.665,
          51.759,
          51.991,
          52.213,
          52.309,
          52.429,
          52.6869,
          52.7629,
          52.8589,
          52.9789,
          53.0229,
          53.0909,
          53.0849,
          53.2009,
          53.2969,
          53.5029,
          53.6029,
          53.7829,
          53.8789,
          53.9489,
          54.1189,
          54.1709,
          54.3869,
          54.4769,
          54.6209,
          54.7549,
          54.8809,
          55.0429,
          55.1609,
          55.2169,
          55.3009,
          55.3969,
          55.5169,
          55.7209,
          55.8049,
          55.7569,
          55.8629,
          56.0389,
          56.1129,
          56.2709,
          56.3149,
          56.4249,
          56.5949,
          56.6249,
          56.7869,
          56.8569,
          56.8469,
          56.9289,
          57.0249,
          57.1129,
          57.1449,
          57.1729,
          57.2309,
          57.2689,
          57.2949,
          57.2269,
          57.2729,
          57.3409,
          57.4209,
          57.3949,
          57.3709,
          57.3849,
          57.3949,
          57.4369,
          57.4629,
          57.5089,
          57.5569,
          57.6628
         ],
         "yaxis": "y"
        },
        {
         "hovertemplate": "method=FGSM Training<br>Epoch=%{x}<br>PGD10 robust accuracy (%)=%{y}<extra></extra>",
         "legendgroup": "FGSM Training",
         "line": {
          "color": "green",
          "dash": "solid"
         },
         "marker": {
          "symbol": "circle"
         },
         "mode": "lines+markers",
         "name": "FGSM Training",
         "orientation": "v",
         "showlegend": true,
         "type": "scatter",
         "x": [
          0,
          1,
          2,
          3,
          4,
          5,
          6,
          7,
          8,
          9,
          10,
          11,
          12,
          13,
          14,
          15,
          16,
          17,
          18,
          19,
          20,
          21,
          22,
          23,
          24,
          25,
          26,
          27,
          28,
          29,
          30,
          31,
          32,
          33,
          34,
          35,
          36,
          37,
          38,
          39,
          40,
          41,
          42,
          43,
          44,
          45,
          46,
          47,
          48,
          49,
          50,
          51,
          52,
          53,
          54,
          55,
          56,
          57,
          58,
          59,
          60,
          61,
          62,
          63,
          64,
          65,
          66,
          67,
          68,
          69,
          70,
          71,
          72,
          73,
          74,
          75,
          76,
          77,
          78,
          79,
          80,
          81,
          82,
          83,
          84,
          85,
          86,
          87,
          88,
          89,
          90,
          91,
          92,
          93,
          94,
          95,
          96,
          97,
          98,
          99
         ],
         "xaxis": "x",
         "y": [
          1.846,
          4.252,
          16.84,
          30.88,
          39.368,
          41.652,
          42.346,
          43.178,
          44.08,
          44.798,
          45.486,
          46.106,
          46.712,
          47.132,
          47.542,
          47.902,
          48.174,
          48.572,
          48.75,
          49.038,
          49.376,
          49.626,
          49.778,
          49.91,
          50.126,
          50.208,
          50.46,
          50.64,
          50.792,
          50.832,
          50.926,
          51.078,
          51.242,
          51.43,
          51.59,
          51.714,
          51.844,
          52.04,
          52.2,
          52.276,
          52.312,
          52.498,
          52.526,
          52.266,
          48.254,
          36.874,
          45.378,
          49.08,
          50.736,
          48.79,
          44.638,
          35.376,
          24.176,
          22.306,
          21.576,
          15.844,
          12.336,
          15.94,
          33.69,
          47.91,
          50.824,
          51.854,
          51.134,
          45.872,
          29.666,
          25.458,
          39.918,
          30.206,
          27.644,
          23.552,
          18.342,
          13.096,
          10.928,
          11.228,
          11.136,
          10.46,
          9.826,
          9.782,
          10.504,
          9.402,
          10.028,
          10.802,
          11.364,
          10.888,
          10.428,
          9.718,
          9.726,
          8.786,
          8.272,
          8.266,
          8.048,
          8.398,
          8.63,
          9.188,
          9.418,
          9.804,
          10.066,
          10.09,
          9.834,
          9.73
         ],
         "yaxis": "y"
        }
       ],
       "layout": {
        "font": {
         "size": 18
        },
        "height": 600,
        "legend": {
         "title": {
          "text": "method"
         },
         "tracegroupgap": 0,
         "x": 0,
         "xanchor": "left",
         "y": 1.2,
         "yanchor": "top"
        },
        "margin": {
         "b": 0,
         "l": 0,
         "r": 0,
         "t": 0
        },
        "showlegend": false,
        "template": {
         "data": {
          "bar": [
           {
            "error_x": {
             "color": "#2a3f5f"
            },
            "error_y": {
             "color": "#2a3f5f"
            },
            "marker": {
             "line": {
              "color": "#E5ECF6",
              "width": 0.5
             },
             "pattern": {
              "fillmode": "overlay",
              "size": 10,
              "solidity": 0.2
             }
            },
            "type": "bar"
           }
          ],
          "barpolar": [
           {
            "marker": {
             "line": {
              "color": "#E5ECF6",
              "width": 0.5
             },
             "pattern": {
              "fillmode": "overlay",
              "size": 10,
              "solidity": 0.2
             }
            },
            "type": "barpolar"
           }
          ],
          "carpet": [
           {
            "aaxis": {
             "endlinecolor": "#2a3f5f",
             "gridcolor": "white",
             "linecolor": "white",
             "minorgridcolor": "white",
             "startlinecolor": "#2a3f5f"
            },
            "baxis": {
             "endlinecolor": "#2a3f5f",
             "gridcolor": "white",
             "linecolor": "white",
             "minorgridcolor": "white",
             "startlinecolor": "#2a3f5f"
            },
            "type": "carpet"
           }
          ],
          "choropleth": [
           {
            "colorbar": {
             "outlinewidth": 0,
             "ticks": ""
            },
            "type": "choropleth"
           }
          ],
          "contour": [
           {
            "colorbar": {
             "outlinewidth": 0,
             "ticks": ""
            },
            "colorscale": [
             [
              0,
              "#0d0887"
             ],
             [
              0.1111111111111111,
              "#46039f"
             ],
             [
              0.2222222222222222,
              "#7201a8"
             ],
             [
              0.3333333333333333,
              "#9c179e"
             ],
             [
              0.4444444444444444,
              "#bd3786"
             ],
             [
              0.5555555555555556,
              "#d8576b"
             ],
             [
              0.6666666666666666,
              "#ed7953"
             ],
             [
              0.7777777777777778,
              "#fb9f3a"
             ],
             [
              0.8888888888888888,
              "#fdca26"
             ],
             [
              1,
              "#f0f921"
             ]
            ],
            "type": "contour"
           }
          ],
          "contourcarpet": [
           {
            "colorbar": {
             "outlinewidth": 0,
             "ticks": ""
            },
            "type": "contourcarpet"
           }
          ],
          "heatmap": [
           {
            "colorbar": {
             "outlinewidth": 0,
             "ticks": ""
            },
            "colorscale": [
             [
              0,
              "#0d0887"
             ],
             [
              0.1111111111111111,
              "#46039f"
             ],
             [
              0.2222222222222222,
              "#7201a8"
             ],
             [
              0.3333333333333333,
              "#9c179e"
             ],
             [
              0.4444444444444444,
              "#bd3786"
             ],
             [
              0.5555555555555556,
              "#d8576b"
             ],
             [
              0.6666666666666666,
              "#ed7953"
             ],
             [
              0.7777777777777778,
              "#fb9f3a"
             ],
             [
              0.8888888888888888,
              "#fdca26"
             ],
             [
              1,
              "#f0f921"
             ]
            ],
            "type": "heatmap"
           }
          ],
          "heatmapgl": [
           {
            "colorbar": {
             "outlinewidth": 0,
             "ticks": ""
            },
            "colorscale": [
             [
              0,
              "#0d0887"
             ],
             [
              0.1111111111111111,
              "#46039f"
             ],
             [
              0.2222222222222222,
              "#7201a8"
             ],
             [
              0.3333333333333333,
              "#9c179e"
             ],
             [
              0.4444444444444444,
              "#bd3786"
             ],
             [
              0.5555555555555556,
              "#d8576b"
             ],
             [
              0.6666666666666666,
              "#ed7953"
             ],
             [
              0.7777777777777778,
              "#fb9f3a"
             ],
             [
              0.8888888888888888,
              "#fdca26"
             ],
             [
              1,
              "#f0f921"
             ]
            ],
            "type": "heatmapgl"
           }
          ],
          "histogram": [
           {
            "marker": {
             "pattern": {
              "fillmode": "overlay",
              "size": 10,
              "solidity": 0.2
             }
            },
            "type": "histogram"
           }
          ],
          "histogram2d": [
           {
            "colorbar": {
             "outlinewidth": 0,
             "ticks": ""
            },
            "colorscale": [
             [
              0,
              "#0d0887"
             ],
             [
              0.1111111111111111,
              "#46039f"
             ],
             [
              0.2222222222222222,
              "#7201a8"
             ],
             [
              0.3333333333333333,
              "#9c179e"
             ],
             [
              0.4444444444444444,
              "#bd3786"
             ],
             [
              0.5555555555555556,
              "#d8576b"
             ],
             [
              0.6666666666666666,
              "#ed7953"
             ],
             [
              0.7777777777777778,
              "#fb9f3a"
             ],
             [
              0.8888888888888888,
              "#fdca26"
             ],
             [
              1,
              "#f0f921"
             ]
            ],
            "type": "histogram2d"
           }
          ],
          "histogram2dcontour": [
           {
            "colorbar": {
             "outlinewidth": 0,
             "ticks": ""
            },
            "colorscale": [
             [
              0,
              "#0d0887"
             ],
             [
              0.1111111111111111,
              "#46039f"
             ],
             [
              0.2222222222222222,
              "#7201a8"
             ],
             [
              0.3333333333333333,
              "#9c179e"
             ],
             [
              0.4444444444444444,
              "#bd3786"
             ],
             [
              0.5555555555555556,
              "#d8576b"
             ],
             [
              0.6666666666666666,
              "#ed7953"
             ],
             [
              0.7777777777777778,
              "#fb9f3a"
             ],
             [
              0.8888888888888888,
              "#fdca26"
             ],
             [
              1,
              "#f0f921"
             ]
            ],
            "type": "histogram2dcontour"
           }
          ],
          "mesh3d": [
           {
            "colorbar": {
             "outlinewidth": 0,
             "ticks": ""
            },
            "type": "mesh3d"
           }
          ],
          "parcoords": [
           {
            "line": {
             "colorbar": {
              "outlinewidth": 0,
              "ticks": ""
             }
            },
            "type": "parcoords"
           }
          ],
          "pie": [
           {
            "automargin": true,
            "type": "pie"
           }
          ],
          "scatter": [
           {
            "fillpattern": {
             "fillmode": "overlay",
             "size": 10,
             "solidity": 0.2
            },
            "type": "scatter"
           }
          ],
          "scatter3d": [
           {
            "line": {
             "colorbar": {
              "outlinewidth": 0,
              "ticks": ""
             }
            },
            "marker": {
             "colorbar": {
              "outlinewidth": 0,
              "ticks": ""
             }
            },
            "type": "scatter3d"
           }
          ],
          "scattercarpet": [
           {
            "marker": {
             "colorbar": {
              "outlinewidth": 0,
              "ticks": ""
             }
            },
            "type": "scattercarpet"
           }
          ],
          "scattergeo": [
           {
            "marker": {
             "colorbar": {
              "outlinewidth": 0,
              "ticks": ""
             }
            },
            "type": "scattergeo"
           }
          ],
          "scattergl": [
           {
            "marker": {
             "colorbar": {
              "outlinewidth": 0,
              "ticks": ""
             }
            },
            "type": "scattergl"
           }
          ],
          "scattermapbox": [
           {
            "marker": {
             "colorbar": {
              "outlinewidth": 0,
              "ticks": ""
             }
            },
            "type": "scattermapbox"
           }
          ],
          "scatterpolar": [
           {
            "marker": {
             "colorbar": {
              "outlinewidth": 0,
              "ticks": ""
             }
            },
            "type": "scatterpolar"
           }
          ],
          "scatterpolargl": [
           {
            "marker": {
             "colorbar": {
              "outlinewidth": 0,
              "ticks": ""
             }
            },
            "type": "scatterpolargl"
           }
          ],
          "scatterternary": [
           {
            "marker": {
             "colorbar": {
              "outlinewidth": 0,
              "ticks": ""
             }
            },
            "type": "scatterternary"
           }
          ],
          "surface": [
           {
            "colorbar": {
             "outlinewidth": 0,
             "ticks": ""
            },
            "colorscale": [
             [
              0,
              "#0d0887"
             ],
             [
              0.1111111111111111,
              "#46039f"
             ],
             [
              0.2222222222222222,
              "#7201a8"
             ],
             [
              0.3333333333333333,
              "#9c179e"
             ],
             [
              0.4444444444444444,
              "#bd3786"
             ],
             [
              0.5555555555555556,
              "#d8576b"
             ],
             [
              0.6666666666666666,
              "#ed7953"
             ],
             [
              0.7777777777777778,
              "#fb9f3a"
             ],
             [
              0.8888888888888888,
              "#fdca26"
             ],
             [
              1,
              "#f0f921"
             ]
            ],
            "type": "surface"
           }
          ],
          "table": [
           {
            "cells": {
             "fill": {
              "color": "#EBF0F8"
             },
             "line": {
              "color": "white"
             }
            },
            "header": {
             "fill": {
              "color": "#C8D4E3"
             },
             "line": {
              "color": "white"
             }
            },
            "type": "table"
           }
          ]
         },
         "layout": {
          "annotationdefaults": {
           "arrowcolor": "#2a3f5f",
           "arrowhead": 0,
           "arrowwidth": 1
          },
          "autotypenumbers": "strict",
          "coloraxis": {
           "colorbar": {
            "outlinewidth": 0,
            "ticks": ""
           }
          },
          "colorscale": {
           "diverging": [
            [
             0,
             "#8e0152"
            ],
            [
             0.1,
             "#c51b7d"
            ],
            [
             0.2,
             "#de77ae"
            ],
            [
             0.3,
             "#f1b6da"
            ],
            [
             0.4,
             "#fde0ef"
            ],
            [
             0.5,
             "#f7f7f7"
            ],
            [
             0.6,
             "#e6f5d0"
            ],
            [
             0.7,
             "#b8e186"
            ],
            [
             0.8,
             "#7fbc41"
            ],
            [
             0.9,
             "#4d9221"
            ],
            [
             1,
             "#276419"
            ]
           ],
           "sequential": [
            [
             0,
             "#0d0887"
            ],
            [
             0.1111111111111111,
             "#46039f"
            ],
            [
             0.2222222222222222,
             "#7201a8"
            ],
            [
             0.3333333333333333,
             "#9c179e"
            ],
            [
             0.4444444444444444,
             "#bd3786"
            ],
            [
             0.5555555555555556,
             "#d8576b"
            ],
            [
             0.6666666666666666,
             "#ed7953"
            ],
            [
             0.7777777777777778,
             "#fb9f3a"
            ],
            [
             0.8888888888888888,
             "#fdca26"
            ],
            [
             1,
             "#f0f921"
            ]
           ],
           "sequentialminus": [
            [
             0,
             "#0d0887"
            ],
            [
             0.1111111111111111,
             "#46039f"
            ],
            [
             0.2222222222222222,
             "#7201a8"
            ],
            [
             0.3333333333333333,
             "#9c179e"
            ],
            [
             0.4444444444444444,
             "#bd3786"
            ],
            [
             0.5555555555555556,
             "#d8576b"
            ],
            [
             0.6666666666666666,
             "#ed7953"
            ],
            [
             0.7777777777777778,
             "#fb9f3a"
            ],
            [
             0.8888888888888888,
             "#fdca26"
            ],
            [
             1,
             "#f0f921"
            ]
           ]
          },
          "colorway": [
           "#636efa",
           "#EF553B",
           "#00cc96",
           "#ab63fa",
           "#FFA15A",
           "#19d3f3",
           "#FF6692",
           "#B6E880",
           "#FF97FF",
           "#FECB52"
          ],
          "font": {
           "color": "#2a3f5f"
          },
          "geo": {
           "bgcolor": "white",
           "lakecolor": "white",
           "landcolor": "#E5ECF6",
           "showlakes": true,
           "showland": true,
           "subunitcolor": "white"
          },
          "hoverlabel": {
           "align": "left"
          },
          "hovermode": "closest",
          "mapbox": {
           "style": "light"
          },
          "paper_bgcolor": "white",
          "plot_bgcolor": "#E5ECF6",
          "polar": {
           "angularaxis": {
            "gridcolor": "white",
            "linecolor": "white",
            "ticks": ""
           },
           "bgcolor": "#E5ECF6",
           "radialaxis": {
            "gridcolor": "white",
            "linecolor": "white",
            "ticks": ""
           }
          },
          "scene": {
           "xaxis": {
            "backgroundcolor": "#E5ECF6",
            "gridcolor": "white",
            "gridwidth": 2,
            "linecolor": "white",
            "showbackground": true,
            "ticks": "",
            "zerolinecolor": "white"
           },
           "yaxis": {
            "backgroundcolor": "#E5ECF6",
            "gridcolor": "white",
            "gridwidth": 2,
            "linecolor": "white",
            "showbackground": true,
            "ticks": "",
            "zerolinecolor": "white"
           },
           "zaxis": {
            "backgroundcolor": "#E5ECF6",
            "gridcolor": "white",
            "gridwidth": 2,
            "linecolor": "white",
            "showbackground": true,
            "ticks": "",
            "zerolinecolor": "white"
           }
          },
          "shapedefaults": {
           "line": {
            "color": "#2a3f5f"
           }
          },
          "ternary": {
           "aaxis": {
            "gridcolor": "white",
            "linecolor": "white",
            "ticks": ""
           },
           "baxis": {
            "gridcolor": "white",
            "linecolor": "white",
            "ticks": ""
           },
           "bgcolor": "#E5ECF6",
           "caxis": {
            "gridcolor": "white",
            "linecolor": "white",
            "ticks": ""
           }
          },
          "title": {
           "x": 0.05
          },
          "xaxis": {
           "automargin": true,
           "gridcolor": "white",
           "linecolor": "white",
           "ticks": "",
           "title": {
            "standoff": 15
           },
           "zerolinecolor": "white",
           "zerolinewidth": 2
          },
          "yaxis": {
           "automargin": true,
           "gridcolor": "white",
           "linecolor": "white",
           "ticks": "",
           "title": {
            "standoff": 15
           },
           "zerolinecolor": "white",
           "zerolinewidth": 2
          }
         }
        },
        "title": {
         "font": {
          "size": 22
         }
        },
        "width": 1200,
        "xaxis": {
         "anchor": "y",
         "domain": [
          0,
          1
         ],
         "title": {
          "text": "Epoch"
         }
        },
        "yaxis": {
         "anchor": "x",
         "domain": [
          0,
          1
         ],
         "title": {
          "text": "PGD10 robust accuracy (%)"
         }
        }
       }
      },
      "text/html": [
       "<div>                            <div id=\"1821bd35-66e6-462b-86a3-4e1537573a8f\" class=\"plotly-graph-div\" style=\"height:600px; width:1200px;\"></div>            <script type=\"text/javascript\">                require([\"plotly\"], function(Plotly) {                    window.PLOTLYENV=window.PLOTLYENV || {};                                    if (document.getElementById(\"1821bd35-66e6-462b-86a3-4e1537573a8f\")) {                    Plotly.newPlot(                        \"1821bd35-66e6-462b-86a3-4e1537573a8f\",                        [{\"hovertemplate\":\"method=Adversarial Training\\u003cbr\\u003eEpoch=%{x}\\u003cbr\\u003ePGD10 robust accuracy (%)=%{y}\\u003cextra\\u003e\\u003c\\u002fextra\\u003e\",\"legendgroup\":\"Adversarial Training\",\"line\":{\"color\":\"red\",\"dash\":\"solid\"},\"marker\":{\"symbol\":\"circle\"},\"mode\":\"lines+markers\",\"name\":\"Adversarial Training\",\"orientation\":\"v\",\"showlegend\":true,\"x\":[0,1,2,3,4,5,6,7,8,9,10,11,12,13,14,15,16,17,18,19,20,21,22,23,24,25,26,27,28,29,30,31,32,33,34,35,36,37,38,39,40,41,42,43,44,45,46,47,48,49,50,51,52,53,54,55,56,57,58,59,60,61,62,63,64,65,66,67,68,69,70,71,72,73,74,75,76,77,78,79,80,81,82,83,84,85,86,87,88,89,90,91,92,93,94,95,96,97,98,99],\"xaxis\":\"x\",\"y\":[1.888,4.08,19.674,35.65,42.384,43.336,43.69,44.268,44.978,45.672,46.412,46.97,47.494,48.054,48.616,48.898,49.294,49.562,49.842,50.26,50.37,50.6,50.804,51.146,51.276,51.45,51.618,51.772,51.916,52.19,52.346,52.372,52.514,52.544,52.78,52.984,53.254,53.256,53.432,53.578,53.71,53.762,53.93,54.096,54.234,54.418,54.592,54.676,54.886,55.106,55.214,55.354,55.518,55.68,55.826,55.916,56.06,56.228,56.39,56.638,56.684,56.728,56.896,57.084,57.172,57.356,57.394,57.516,57.634,57.832,57.918,58.008,58.234,58.326,58.422,58.462,58.59,58.588,58.712,58.754,58.788,58.932,58.956,59.07,59.156,59.218,59.198,59.18,59.262,59.278,59.376,59.386,59.364,59.36,59.436,59.366,59.412,59.414,59.478,59.47],\"yaxis\":\"y\",\"type\":\"scatter\"},{\"hovertemplate\":\"method=Gradient Norm\\u003cbr\\u003eEpoch=%{x}\\u003cbr\\u003ePGD10 robust accuracy (%)=%{y}\\u003cextra\\u003e\\u003c\\u002fextra\\u003e\",\"legendgroup\":\"Gradient Norm\",\"line\":{\"color\":\"blue\",\"dash\":\"solid\"},\"marker\":{\"symbol\":\"circle\"},\"mode\":\"lines+markers\",\"name\":\"Gradient Norm\",\"orientation\":\"v\",\"showlegend\":true,\"x\":[0,1,2,3,4,5,6,7,8,9,10,11,12,13,14,15,16,17,18,19,20,21,22,23,24,25,26,27,28,29,30,31,32,33,34,35,36,37,38,39,40,41,42,43,44,45,46,47,48,49,50,51,52,53,54,55,56,57,58,59,60,61,62,63,64,65,66,67,68,69,70,71,72,73,74,75,76,77,78,79,80,81,82,83,84,85,86,87,88,89,90,91,92,93,94,95,96,97,98,99],\"xaxis\":\"x\",\"y\":[1.49,4.2039,18.1816,32.1894,40.9792,44.0431,44.5611,44.9971,45.3011,45.6631,46.1811,46.6551,47.0671,47.4171,47.737,48.165,48.405,48.835,49.027,49.351,49.637,49.807,50.079,50.305,50.401,50.655,50.809,51.045,51.041,51.271,51.393,51.569,51.665,51.759,51.991,52.213,52.309,52.429,52.6869,52.7629,52.8589,52.9789,53.0229,53.0909,53.0849,53.2009,53.2969,53.5029,53.6029,53.7829,53.8789,53.9489,54.1189,54.1709,54.3869,54.4769,54.6209,54.7549,54.8809,55.0429,55.1609,55.2169,55.3009,55.3969,55.5169,55.7209,55.8049,55.7569,55.8629,56.0389,56.1129,56.2709,56.3149,56.4249,56.5949,56.6249,56.7869,56.8569,56.8469,56.9289,57.0249,57.1129,57.1449,57.1729,57.2309,57.2689,57.2949,57.2269,57.2729,57.3409,57.4209,57.3949,57.3709,57.3849,57.3949,57.4369,57.4629,57.5089,57.5569,57.6628],\"yaxis\":\"y\",\"type\":\"scatter\"},{\"hovertemplate\":\"method=FGSM Training\\u003cbr\\u003eEpoch=%{x}\\u003cbr\\u003ePGD10 robust accuracy (%)=%{y}\\u003cextra\\u003e\\u003c\\u002fextra\\u003e\",\"legendgroup\":\"FGSM Training\",\"line\":{\"color\":\"green\",\"dash\":\"solid\"},\"marker\":{\"symbol\":\"circle\"},\"mode\":\"lines+markers\",\"name\":\"FGSM Training\",\"orientation\":\"v\",\"showlegend\":true,\"x\":[0,1,2,3,4,5,6,7,8,9,10,11,12,13,14,15,16,17,18,19,20,21,22,23,24,25,26,27,28,29,30,31,32,33,34,35,36,37,38,39,40,41,42,43,44,45,46,47,48,49,50,51,52,53,54,55,56,57,58,59,60,61,62,63,64,65,66,67,68,69,70,71,72,73,74,75,76,77,78,79,80,81,82,83,84,85,86,87,88,89,90,91,92,93,94,95,96,97,98,99],\"xaxis\":\"x\",\"y\":[1.846,4.252,16.84,30.88,39.368,41.652,42.346,43.178,44.08,44.798,45.486,46.106,46.712,47.132,47.542,47.902,48.174,48.572,48.75,49.038,49.376,49.626,49.778,49.91,50.126,50.208,50.46,50.64,50.792,50.832,50.926,51.078,51.242,51.43,51.59,51.714,51.844,52.04,52.2,52.276,52.312,52.498,52.526,52.266,48.254,36.874,45.378,49.08,50.736,48.79,44.638,35.376,24.176,22.306,21.576,15.844,12.336,15.94,33.69,47.91,50.824,51.854,51.134,45.872,29.666,25.458,39.918,30.206,27.644,23.552,18.342,13.096,10.928,11.228,11.136,10.46,9.826,9.782,10.504,9.402,10.028,10.802,11.364,10.888,10.428,9.718,9.726,8.786,8.272,8.266,8.048,8.398,8.63,9.188,9.418,9.804,10.066,10.09,9.834,9.73],\"yaxis\":\"y\",\"type\":\"scatter\"}],                        {\"template\":{\"data\":{\"histogram2dcontour\":[{\"type\":\"histogram2dcontour\",\"colorbar\":{\"outlinewidth\":0,\"ticks\":\"\"},\"colorscale\":[[0.0,\"#0d0887\"],[0.1111111111111111,\"#46039f\"],[0.2222222222222222,\"#7201a8\"],[0.3333333333333333,\"#9c179e\"],[0.4444444444444444,\"#bd3786\"],[0.5555555555555556,\"#d8576b\"],[0.6666666666666666,\"#ed7953\"],[0.7777777777777778,\"#fb9f3a\"],[0.8888888888888888,\"#fdca26\"],[1.0,\"#f0f921\"]]}],\"choropleth\":[{\"type\":\"choropleth\",\"colorbar\":{\"outlinewidth\":0,\"ticks\":\"\"}}],\"histogram2d\":[{\"type\":\"histogram2d\",\"colorbar\":{\"outlinewidth\":0,\"ticks\":\"\"},\"colorscale\":[[0.0,\"#0d0887\"],[0.1111111111111111,\"#46039f\"],[0.2222222222222222,\"#7201a8\"],[0.3333333333333333,\"#9c179e\"],[0.4444444444444444,\"#bd3786\"],[0.5555555555555556,\"#d8576b\"],[0.6666666666666666,\"#ed7953\"],[0.7777777777777778,\"#fb9f3a\"],[0.8888888888888888,\"#fdca26\"],[1.0,\"#f0f921\"]]}],\"heatmap\":[{\"type\":\"heatmap\",\"colorbar\":{\"outlinewidth\":0,\"ticks\":\"\"},\"colorscale\":[[0.0,\"#0d0887\"],[0.1111111111111111,\"#46039f\"],[0.2222222222222222,\"#7201a8\"],[0.3333333333333333,\"#9c179e\"],[0.4444444444444444,\"#bd3786\"],[0.5555555555555556,\"#d8576b\"],[0.6666666666666666,\"#ed7953\"],[0.7777777777777778,\"#fb9f3a\"],[0.8888888888888888,\"#fdca26\"],[1.0,\"#f0f921\"]]}],\"heatmapgl\":[{\"type\":\"heatmapgl\",\"colorbar\":{\"outlinewidth\":0,\"ticks\":\"\"},\"colorscale\":[[0.0,\"#0d0887\"],[0.1111111111111111,\"#46039f\"],[0.2222222222222222,\"#7201a8\"],[0.3333333333333333,\"#9c179e\"],[0.4444444444444444,\"#bd3786\"],[0.5555555555555556,\"#d8576b\"],[0.6666666666666666,\"#ed7953\"],[0.7777777777777778,\"#fb9f3a\"],[0.8888888888888888,\"#fdca26\"],[1.0,\"#f0f921\"]]}],\"contourcarpet\":[{\"type\":\"contourcarpet\",\"colorbar\":{\"outlinewidth\":0,\"ticks\":\"\"}}],\"contour\":[{\"type\":\"contour\",\"colorbar\":{\"outlinewidth\":0,\"ticks\":\"\"},\"colorscale\":[[0.0,\"#0d0887\"],[0.1111111111111111,\"#46039f\"],[0.2222222222222222,\"#7201a8\"],[0.3333333333333333,\"#9c179e\"],[0.4444444444444444,\"#bd3786\"],[0.5555555555555556,\"#d8576b\"],[0.6666666666666666,\"#ed7953\"],[0.7777777777777778,\"#fb9f3a\"],[0.8888888888888888,\"#fdca26\"],[1.0,\"#f0f921\"]]}],\"surface\":[{\"type\":\"surface\",\"colorbar\":{\"outlinewidth\":0,\"ticks\":\"\"},\"colorscale\":[[0.0,\"#0d0887\"],[0.1111111111111111,\"#46039f\"],[0.2222222222222222,\"#7201a8\"],[0.3333333333333333,\"#9c179e\"],[0.4444444444444444,\"#bd3786\"],[0.5555555555555556,\"#d8576b\"],[0.6666666666666666,\"#ed7953\"],[0.7777777777777778,\"#fb9f3a\"],[0.8888888888888888,\"#fdca26\"],[1.0,\"#f0f921\"]]}],\"mesh3d\":[{\"type\":\"mesh3d\",\"colorbar\":{\"outlinewidth\":0,\"ticks\":\"\"}}],\"scatter\":[{\"fillpattern\":{\"fillmode\":\"overlay\",\"size\":10,\"solidity\":0.2},\"type\":\"scatter\"}],\"parcoords\":[{\"type\":\"parcoords\",\"line\":{\"colorbar\":{\"outlinewidth\":0,\"ticks\":\"\"}}}],\"scatterpolargl\":[{\"type\":\"scatterpolargl\",\"marker\":{\"colorbar\":{\"outlinewidth\":0,\"ticks\":\"\"}}}],\"bar\":[{\"error_x\":{\"color\":\"#2a3f5f\"},\"error_y\":{\"color\":\"#2a3f5f\"},\"marker\":{\"line\":{\"color\":\"#E5ECF6\",\"width\":0.5},\"pattern\":{\"fillmode\":\"overlay\",\"size\":10,\"solidity\":0.2}},\"type\":\"bar\"}],\"scattergeo\":[{\"type\":\"scattergeo\",\"marker\":{\"colorbar\":{\"outlinewidth\":0,\"ticks\":\"\"}}}],\"scatterpolar\":[{\"type\":\"scatterpolar\",\"marker\":{\"colorbar\":{\"outlinewidth\":0,\"ticks\":\"\"}}}],\"histogram\":[{\"marker\":{\"pattern\":{\"fillmode\":\"overlay\",\"size\":10,\"solidity\":0.2}},\"type\":\"histogram\"}],\"scattergl\":[{\"type\":\"scattergl\",\"marker\":{\"colorbar\":{\"outlinewidth\":0,\"ticks\":\"\"}}}],\"scatter3d\":[{\"type\":\"scatter3d\",\"line\":{\"colorbar\":{\"outlinewidth\":0,\"ticks\":\"\"}},\"marker\":{\"colorbar\":{\"outlinewidth\":0,\"ticks\":\"\"}}}],\"scattermapbox\":[{\"type\":\"scattermapbox\",\"marker\":{\"colorbar\":{\"outlinewidth\":0,\"ticks\":\"\"}}}],\"scatterternary\":[{\"type\":\"scatterternary\",\"marker\":{\"colorbar\":{\"outlinewidth\":0,\"ticks\":\"\"}}}],\"scattercarpet\":[{\"type\":\"scattercarpet\",\"marker\":{\"colorbar\":{\"outlinewidth\":0,\"ticks\":\"\"}}}],\"carpet\":[{\"aaxis\":{\"endlinecolor\":\"#2a3f5f\",\"gridcolor\":\"white\",\"linecolor\":\"white\",\"minorgridcolor\":\"white\",\"startlinecolor\":\"#2a3f5f\"},\"baxis\":{\"endlinecolor\":\"#2a3f5f\",\"gridcolor\":\"white\",\"linecolor\":\"white\",\"minorgridcolor\":\"white\",\"startlinecolor\":\"#2a3f5f\"},\"type\":\"carpet\"}],\"table\":[{\"cells\":{\"fill\":{\"color\":\"#EBF0F8\"},\"line\":{\"color\":\"white\"}},\"header\":{\"fill\":{\"color\":\"#C8D4E3\"},\"line\":{\"color\":\"white\"}},\"type\":\"table\"}],\"barpolar\":[{\"marker\":{\"line\":{\"color\":\"#E5ECF6\",\"width\":0.5},\"pattern\":{\"fillmode\":\"overlay\",\"size\":10,\"solidity\":0.2}},\"type\":\"barpolar\"}],\"pie\":[{\"automargin\":true,\"type\":\"pie\"}]},\"layout\":{\"autotypenumbers\":\"strict\",\"colorway\":[\"#636efa\",\"#EF553B\",\"#00cc96\",\"#ab63fa\",\"#FFA15A\",\"#19d3f3\",\"#FF6692\",\"#B6E880\",\"#FF97FF\",\"#FECB52\"],\"font\":{\"color\":\"#2a3f5f\"},\"hovermode\":\"closest\",\"hoverlabel\":{\"align\":\"left\"},\"paper_bgcolor\":\"white\",\"plot_bgcolor\":\"#E5ECF6\",\"polar\":{\"bgcolor\":\"#E5ECF6\",\"angularaxis\":{\"gridcolor\":\"white\",\"linecolor\":\"white\",\"ticks\":\"\"},\"radialaxis\":{\"gridcolor\":\"white\",\"linecolor\":\"white\",\"ticks\":\"\"}},\"ternary\":{\"bgcolor\":\"#E5ECF6\",\"aaxis\":{\"gridcolor\":\"white\",\"linecolor\":\"white\",\"ticks\":\"\"},\"baxis\":{\"gridcolor\":\"white\",\"linecolor\":\"white\",\"ticks\":\"\"},\"caxis\":{\"gridcolor\":\"white\",\"linecolor\":\"white\",\"ticks\":\"\"}},\"coloraxis\":{\"colorbar\":{\"outlinewidth\":0,\"ticks\":\"\"}},\"colorscale\":{\"sequential\":[[0.0,\"#0d0887\"],[0.1111111111111111,\"#46039f\"],[0.2222222222222222,\"#7201a8\"],[0.3333333333333333,\"#9c179e\"],[0.4444444444444444,\"#bd3786\"],[0.5555555555555556,\"#d8576b\"],[0.6666666666666666,\"#ed7953\"],[0.7777777777777778,\"#fb9f3a\"],[0.8888888888888888,\"#fdca26\"],[1.0,\"#f0f921\"]],\"sequentialminus\":[[0.0,\"#0d0887\"],[0.1111111111111111,\"#46039f\"],[0.2222222222222222,\"#7201a8\"],[0.3333333333333333,\"#9c179e\"],[0.4444444444444444,\"#bd3786\"],[0.5555555555555556,\"#d8576b\"],[0.6666666666666666,\"#ed7953\"],[0.7777777777777778,\"#fb9f3a\"],[0.8888888888888888,\"#fdca26\"],[1.0,\"#f0f921\"]],\"diverging\":[[0,\"#8e0152\"],[0.1,\"#c51b7d\"],[0.2,\"#de77ae\"],[0.3,\"#f1b6da\"],[0.4,\"#fde0ef\"],[0.5,\"#f7f7f7\"],[0.6,\"#e6f5d0\"],[0.7,\"#b8e186\"],[0.8,\"#7fbc41\"],[0.9,\"#4d9221\"],[1,\"#276419\"]]},\"xaxis\":{\"gridcolor\":\"white\",\"linecolor\":\"white\",\"ticks\":\"\",\"title\":{\"standoff\":15},\"zerolinecolor\":\"white\",\"automargin\":true,\"zerolinewidth\":2},\"yaxis\":{\"gridcolor\":\"white\",\"linecolor\":\"white\",\"ticks\":\"\",\"title\":{\"standoff\":15},\"zerolinecolor\":\"white\",\"automargin\":true,\"zerolinewidth\":2},\"scene\":{\"xaxis\":{\"backgroundcolor\":\"#E5ECF6\",\"gridcolor\":\"white\",\"linecolor\":\"white\",\"showbackground\":true,\"ticks\":\"\",\"zerolinecolor\":\"white\",\"gridwidth\":2},\"yaxis\":{\"backgroundcolor\":\"#E5ECF6\",\"gridcolor\":\"white\",\"linecolor\":\"white\",\"showbackground\":true,\"ticks\":\"\",\"zerolinecolor\":\"white\",\"gridwidth\":2},\"zaxis\":{\"backgroundcolor\":\"#E5ECF6\",\"gridcolor\":\"white\",\"linecolor\":\"white\",\"showbackground\":true,\"ticks\":\"\",\"zerolinecolor\":\"white\",\"gridwidth\":2}},\"shapedefaults\":{\"line\":{\"color\":\"#2a3f5f\"}},\"annotationdefaults\":{\"arrowcolor\":\"#2a3f5f\",\"arrowhead\":0,\"arrowwidth\":1},\"geo\":{\"bgcolor\":\"white\",\"landcolor\":\"#E5ECF6\",\"subunitcolor\":\"white\",\"showland\":true,\"showlakes\":true,\"lakecolor\":\"white\"},\"title\":{\"x\":0.05},\"mapbox\":{\"style\":\"light\"}}},\"xaxis\":{\"anchor\":\"y\",\"domain\":[0.0,1.0],\"title\":{\"text\":\"Epoch\"}},\"yaxis\":{\"anchor\":\"x\",\"domain\":[0.0,1.0],\"title\":{\"text\":\"PGD10 robust accuracy (%)\"}},\"legend\":{\"title\":{\"text\":\"method\"},\"tracegroupgap\":0,\"yanchor\":\"top\",\"y\":1.2,\"xanchor\":\"left\",\"x\":0},\"margin\":{\"t\":0,\"l\":0,\"r\":0,\"b\":0},\"showlegend\":false,\"width\":1200,\"height\":600,\"font\":{\"size\":18},\"title\":{\"font\":{\"size\":22}}},                        {\"responsive\": true}                    ).then(function(){\n",
       "                            \n",
       "var gd = document.getElementById('1821bd35-66e6-462b-86a3-4e1537573a8f');\n",
       "var x = new MutationObserver(function (mutations, observer) {{\n",
       "        var display = window.getComputedStyle(gd).display;\n",
       "        if (!display || display === 'none') {{\n",
       "            console.log([gd, 'removed!']);\n",
       "            Plotly.purge(gd);\n",
       "            observer.disconnect();\n",
       "        }}\n",
       "}});\n",
       "\n",
       "// Listen for the removal of the full notebook cells\n",
       "var notebookContainer = gd.closest('#notebook-container');\n",
       "if (notebookContainer) {{\n",
       "    x.observe(notebookContainer, {childList: true});\n",
       "}}\n",
       "\n",
       "// Listen for the clearing of the current output cell\n",
       "var outputEl = gd.closest('.output');\n",
       "if (outputEl) {{\n",
       "    x.observe(outputEl, {childList: true});\n",
       "}}\n",
       "\n",
       "                        })                };                });            </script>        </div>"
      ]
     },
     "metadata": {},
     "output_type": "display_data"
    }
   ],
   "source": [
    "fig = px.line(fig10_plot_df, \n",
    "    x='epoch', y='value', color='method', markers=True,\n",
    "    labels={\n",
    "        \"metric\":\"Accuracy\",\n",
    "        \"acc1\":\"Clean Acc\",\n",
    "        \"advacc1\":\"Robust Acc\",\n",
    "        \"epoch\":\"Epoch\",\n",
    "        \"value\":\"PGD10 robust accuracy (%)\"\n",
    "    },\n",
    "    color_discrete_sequence=[\"red\", \"blue\", \"green\"],\n",
    ")\n",
    "fig.update_layout(showlegend=False)\n",
    "\n",
    "fig.for_each_annotation(lambda a: a.update(text=a.text.replace(\"method=\", \"\")))\n",
    "# fig.update_xaxes(\n",
    "#     dtick=1  # Change this value according to your desired tick step\n",
    "# )\n",
    "\n",
    "# newnames = {'acc1':'Clean', 'advacc1': 'PGD10(eps=4)'}\n",
    "# fig.for_each_trace(lambda t: t.update(name = newnames[t.name],\n",
    "#                                       legendgroup = newnames[t.name],\n",
    "#                                       hovertemplate = t.hovertemplate.replace(t.name, newnames[t.name])))\n",
    "\n",
    "fig.update_layout(legend=dict(\n",
    "    yanchor=\"top\",\n",
    "    y=1.2,\n",
    "    xanchor=\"left\",\n",
    "    x=0\n",
    "))\n",
    "\n",
    "fig.update_layout(\n",
    "    margin=dict(l=0, r=0, t=00, b=0),\n",
    ")\n",
    "\n",
    "fig.update_layout(\n",
    "    width=1200,  # Set the width of the plot\n",
    "    height=600,  # Set the height of the plot\n",
    ")\n",
    "\n",
    "fig.update_layout(\n",
    "    font_size=18,\n",
    "    title_font_size=22,\n",
    ")\n",
    "\n",
    "fig.show()\n",
    "fig.write_image(\"zzz_arxiv_figures/wong_comparison.pdf\")\n"
   ]
  }
 ],
 "metadata": {
  "kernelspec": {
   "display_name": "Python 3.9.17 ('MambaRobustNB')",
   "language": "python",
   "name": "python3"
  },
  "language_info": {
   "codemirror_mode": {
    "name": "ipython",
    "version": 3
   },
   "file_extension": ".py",
   "mimetype": "text/x-python",
   "name": "python",
   "nbconvert_exporter": "python",
   "pygments_lexer": "ipython3",
   "version": "3.9.17"
  },
  "orig_nbformat": 4,
  "vscode": {
   "interpreter": {
    "hash": "b0ab2d7190ae4ff99a34d3d4ede29c2922d26736f3b30d814555ba79b1c12c35"
   }
  }
 },
 "nbformat": 4,
 "nbformat_minor": 2
}
