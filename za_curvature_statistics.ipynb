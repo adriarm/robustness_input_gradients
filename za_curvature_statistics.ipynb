{
 "cells": [
  {
   "cell_type": "code",
   "execution_count": 1,
   "id": "65a5dc59-663b-4a6e-b272-297e25490f5e",
   "metadata": {},
   "outputs": [
    {
     "name": "stderr",
     "output_type": "stream",
     "text": [
      "/data/vision/torralba/naturally_robust_models/.local/lib/python3.10/site-packages/matplotlib/projections/__init__.py:63: UserWarning: Unable to import Axes3D. This may be due to multiple versions of Matplotlib being installed (e.g. as a system package and as a pip package). As a result, the 3D projection is not available.\n",
      "  warnings.warn(\"Unable to import Axes3D. This may be due to multiple versions of \"\n"
     ]
    }
   ],
   "source": [
    "%matplotlib inline"
   ]
  },
  {
   "cell_type": "code",
   "execution_count": 2,
   "id": "8c949049-a5a2-49cd-840e-3b4177655a29",
   "metadata": {},
   "outputs": [
    {
     "name": "stderr",
     "output_type": "stream",
     "text": [
      "/data/vision/torralba/naturally_robust_models/.local/lib/python3.10/site-packages/tqdm/auto.py:21: TqdmWarning: IProgress not found. Please update jupyter and ipywidgets. See https://ipywidgets.readthedocs.io/en/stable/user_install.html\n",
      "  from .autonotebook import tqdm as notebook_tqdm\n"
     ]
    }
   ],
   "source": [
    "import torch\n",
    "import torch.nn as nn\n",
    "import timm\n",
    "import numpy as np\n",
    "import torchvision\n",
    "import seaborn as sns\n",
    "import matplotlib.pyplot as plt\n",
    "import pandas as pd\n",
    "import robustbench\n",
    "\n",
    "device = torch.device('cuda', 6)"
   ]
  },
  {
   "cell_type": "markdown",
   "id": "6c2c5962",
   "metadata": {},
   "source": [
    "## Utils"
   ]
  },
  {
   "cell_type": "code",
   "execution_count": 3,
   "id": "47afd44f",
   "metadata": {},
   "outputs": [],
   "source": [
    "def abs_normalize(x, q=None, start_dim=-3):\n",
    "  s = torch.quantile(x.abs().flatten(start_dim=start_dim), q=max(q, 1-q), dim=-1, keepdim=False)\n",
    "  x = 0.5 + 0.5 * x/s[(..., ) + (None,)*(-start_dim)]\n",
    "\n",
    "  x = torch.clamp(x, 0., 1.)\n",
    "  return x\n",
    "  \n",
    "def plot_side_by_side_normalize(*images, normalize):\n",
    "  plt.figure(figsize=(20,20))\n",
    "  assert len(images) == len(normalize)\n",
    "  columns = len(images)\n",
    "  for i, image in enumerate(images):\n",
    "      plt.subplot(len(images) // columns + 1, columns, i + 1)\n",
    "      image = image.detach()\n",
    "      with torch.no_grad():\n",
    "        if image.shape[-1] > 3:\n",
    "          image = image.permute(1, 2, 0)\n",
    "        if normalize[i]:\n",
    "          image = abs_normalize(image, q=0.01)\n",
    "        plt.imshow(image, cmap='gray')"
   ]
  },
  {
   "cell_type": "code",
   "execution_count": 4,
   "id": "6a8e1033",
   "metadata": {},
   "outputs": [],
   "source": [
    "from typing import Callable, Any\n",
    "\n",
    "def get_output(module, input, output):\n",
    "    return output\n",
    "\n",
    "def get_input(module, input, output):\n",
    "    return input\n",
    "\n",
    "def get_input_output(module, input, output):\n",
    "    return input, output\n",
    "\n",
    "def get_module_input_output(module, input, output):\n",
    "    return module, input, output\n",
    "\n",
    "def register_hook_fn_to_module(model: nn.Module, module_name: str, hook_fn: Callable[[nn.Module, torch.Tensor, torch.Tensor], Any]):\n",
    "    results_dict = {}\n",
    "    for name, m in model.named_modules():\n",
    "        if module_name == name:\n",
    "            handle = m.register_forward_hook(_hook_fn_cntr(name, results_dict, hook_fn))\n",
    "            return handle, results_dict\n",
    "\n",
    "def register_bkw_hook_fn_to_module(model: nn.Module, module_name: str, hook_fn: Callable[[nn.Module, torch.Tensor, torch.Tensor], Any]):\n",
    "    results_dict = {}\n",
    "    for name, m in model.named_modules():\n",
    "        if module_name == name:\n",
    "            handle = m.register_full_backward_hook(_hook_fn_cntr(name, results_dict, hook_fn))\n",
    "            return handle, results_dict\n",
    "\n",
    "def register_hook_fn_to_all_modules(model: nn.Module, hook_fn: Callable[[nn.Module, torch.Tensor, torch.Tensor], Any]):\n",
    "    results_dict = {}\n",
    "    for name, m in model.named_modules():\n",
    "        _ = m.register_forward_hook(_hook_fn_cntr(name, results_dict, hook_fn))\n",
    "    return results_dict\n",
    "\n",
    "def register_bkw_hook_fn_to_all_modules(model: nn.Module, hook_fn: Callable[[nn.Module, torch.Tensor, torch.Tensor], Any]):\n",
    "    results_dict = {}\n",
    "    for name, m in model.named_modules():\n",
    "        _ = m.register_full_backward_hook(_hook_fn_cntr(name, results_dict, hook_fn))\n",
    "    return results_dict\n",
    "\n",
    "def _hook_fn_cntr(name, activation_dict, hook_fn):\n",
    "    def hook(model, input, output):\n",
    "        activation_dict[name] = hook_fn(model, input, output)\n",
    "    return hook"
   ]
  },
  {
   "cell_type": "code",
   "execution_count": 5,
   "id": "f29a5164-3b97-40ee-952d-e01c4fca3181",
   "metadata": {},
   "outputs": [],
   "source": [
    "from timm.data import resolve_data_config\n",
    "from timm.data.transforms_factory import create_transform\n",
    "\n",
    "\n",
    "def replace_layers(model, old, new):\n",
    "    for n, module in model.named_children():\n",
    "        if len(list(module.children())) > 0:\n",
    "            ## compound module, go inside it\n",
    "            replace_layers(module, old, new)\n",
    "            \n",
    "        if isinstance(module, old):\n",
    "            ## simple module\n",
    "            setattr(model, n, new)\n",
    "\n",
    "def add_imagenet_normalization(model):\n",
    "  val_transform = create_transform(\n",
    "    **resolve_data_config(model.pretrained_cfg, model=model),\n",
    "    is_training=False,\n",
    "  )\n",
    "\n",
    "  normalize_transform = val_transform.transforms[-1]\n",
    "  model = nn.Sequential(normalize_transform, model)\n",
    "  return model\n",
    "\n",
    "def load_model(path, ema=False):\n",
    "    model_kwargs=dict({\n",
    "            'num_classes': 1000,\n",
    "            'drop_rate': 0.0,\n",
    "            'drop_path_rate': 0.0,\n",
    "            'drop_block_rate': None,\n",
    "            'global_pool': None,\n",
    "            'bn_momentum': None,\n",
    "            'bn_eps': None,\n",
    "    })\n",
    "    if '_resnet_' in path:\n",
    "      model = timm.models.create_model('resnet50', pretrained=False, **model_kwargs)\n",
    "      if '_gelu' in path:\n",
    "        replace_layers(model, nn.ReLU, nn.GELU())\n",
    "    elif '_swinb' in path:\n",
    "      model = timm.models.create_model('swin_base_patch4_window7_224', pretrained=False, **model_kwargs)\n",
    "    elif '_swins' in path:\n",
    "      model = timm.models.create_model('swin_small_patch4_window7_224', pretrained=False, **model_kwargs)\n",
    "    ckpt = torch.load(path)\n",
    "    if ema:\n",
    "      if 'state_dict_ema' in ckpt:\n",
    "        model.load_state_dict(ckpt['state_dict_ema'])\n",
    "      else:\n",
    "        return None\n",
    "    else:\n",
    "      model.load_state_dict(ckpt['state_dict'])\n",
    "\n",
    "    model = add_imagenet_normalization(model)\n",
    "    return model.eval().cpu()\n",
    "\n",
    "def load_public_model(model_name):\n",
    "  if model_name[0].isupper():\n",
    "    return robustbench.utils.load_model(model_name, dataset='imagenet', threat_model='Linf').to(device)\n",
    "  else:\n",
    "    if 'random' in model_name:\n",
    "      return add_imagenet_normalization(timm.create_model(model_name[:-len('_random')], pretrained=False).eval()).cpu()\n",
    "    else:\n",
    "      return add_imagenet_normalization(timm.create_model(model_name, pretrained=True).eval()).cpu()"
   ]
  },
  {
   "cell_type": "markdown",
   "id": "7ec7616c",
   "metadata": {},
   "source": [
    "## Data"
   ]
  },
  {
   "cell_type": "code",
   "execution_count": 6,
   "id": "4e02b94d",
   "metadata": {},
   "outputs": [],
   "source": [
    "data = torch.load('analysis_data/240206_gen_imagenet_data_10k_noattack.pth', map_location='cpu')\n",
    "# xs = torch.load('/data/vision/torralba/naturally_robust_models/input_norm/outputs/inputs/train_png/inputs.pth')\n",
    "# ys = torch.load('/data/vision/torralba/naturally_robust_models/input_norm/outputs/inputs/train_png/targets.pth')\n",
    "# data = {'xs':xs, 'ys':ys}"
   ]
  },
  {
   "cell_type": "code",
   "execution_count": 7,
   "id": "a4510def",
   "metadata": {},
   "outputs": [
    {
     "data": {
      "text/plain": [
       "dict_keys(['xs', 'ys', 'at_outs', 'at_grads', 'gn_outs', 'gn_grads', 'sampler_indices'])"
      ]
     },
     "execution_count": 7,
     "metadata": {},
     "output_type": "execute_result"
    }
   ],
   "source": [
    "data.keys()"
   ]
  },
  {
   "cell_type": "code",
   "execution_count": 8,
   "id": "73674b5f",
   "metadata": {},
   "outputs": [
    {
     "name": "stderr",
     "output_type": "stream",
     "text": [
      "/data/vision/torralba/naturally_robust_models/.local/lib/python3.10/site-packages/torch/functional.py:507: UserWarning: torch.meshgrid: in an upcoming release, it will be required to pass the indexing argument. (Triggered internally at ../aten/src/ATen/native/TensorShape.cpp:3549.)\n",
      "  return _VF.meshgrid(tensors, **kwargs)  # type: ignore[attr-defined]\n"
     ]
    }
   ],
   "source": [
    "xs = data['xs']\n",
    "ys = data['ys']\n",
    "\n",
    "N = 10000\n",
    "xs = xs[:N]\n",
    "ys = ys[:N]\n",
    "\n",
    "model = timm.create_model('swin_base_patch4_window7_224', pretrained=True)\n",
    "\n",
    "val_transform = create_transform(\n",
    "    **resolve_data_config(model.pretrained_cfg, model=model),\n",
    "    is_training=False,\n",
    "  )\n",
    "\n",
    "normalize_transform = val_transform.transforms[-1]\n",
    "\n",
    "if xs.min() < 0:\n",
    "  xs = xs*normalize_transform.std[None, :, None, None] + normalize_transform.mean[None, :, None, None]\n",
    "\n",
    "sampler_indices = range(N)\n",
    "ds = torch.utils.data.TensorDataset(xs, ys)\n",
    "\n",
    "from tqdm.auto import tqdm\n",
    "\n",
    "dataloader = torch.utils.data.DataLoader(\n",
    "    ds,\n",
    "    batch_size=32,\n",
    "    sampler=sampler_indices,\n",
    "    shuffle=False\n",
    ")\n",
    "\n",
    "def get_activations(module_name, model_path=None, model_name=None):\n",
    "  if model_path:\n",
    "    model = load_model(model_path)\n",
    "  elif model_name:\n",
    "    model = load_public_model(model_name)\n",
    "\n",
    "  model = model.to(device)\n",
    "\n",
    "  handle, act_dict = register_hook_fn_to_module(model, module_name, get_input_output)\n",
    "  \n",
    "  outs = []\n",
    "  grads = []\n",
    "  act_inputs = []\n",
    "  act_outputs = []\n",
    "\n",
    "  for ii, (x, y) in enumerate(tqdm(dataloader)):\n",
    "      x, y = x.to(device), y.to(device)\n",
    "      x.requires_grad_(True)\n",
    "\n",
    "      # Clean at\n",
    "      out = model(x)#.cpu()\n",
    "      loss = torch.nn.functional.cross_entropy(out, y)\n",
    "      act_input = act_dict[module_name][0][0].detach().cpu()\n",
    "      act_output = act_dict[module_name][1][0].detach().cpu() if isinstance(act_dict[module_name][1], tuple) else act_dict[module_name][1].detach().cpu()\n",
    "      grad_x = torch.autograd.grad(loss, x, create_graph=False, retain_graph=False)[0].detach().cpu() #.abs().sum(1, keepdim=True)\n",
    "      #logit = out[torch.arange(out.size(0)), y].sum()\n",
    "      #grad_x = torch.autograd.grad(logit, x, create_graph=False, retain_graph=False)[0].detach().cpu().abs().max(1, keepdim=True).values\n",
    "\n",
    "      outs.append(out.detach().cpu())\n",
    "      grads.append(grad_x)\n",
    "      act_inputs.append(act_input)\n",
    "      act_outputs.append(act_output)\n",
    "  \n",
    "  outs = torch.cat(outs, 0)\n",
    "  grads = torch.cat(grads, 0)\n",
    "  act_inputs = torch.cat(act_inputs, 0)\n",
    "  act_outputs = torch.cat(act_outputs, 0)\n",
    "  handle.remove()\n",
    "\n",
    "  model = model.to('cpu')\n",
    "\n",
    "  return outs, grads, act_inputs, act_outputs"
   ]
  },
  {
   "cell_type": "code",
   "execution_count": 9,
   "id": "d7f67b27",
   "metadata": {},
   "outputs": [],
   "source": [
    "def measure_l1_norm(model_path=None, model_name=None):\n",
    "    if model_path:\n",
    "        model = load_model(model_path)\n",
    "        print(model_path)\n",
    "    elif model_name:\n",
    "        model = load_public_model(model_name)\n",
    "        print(model_name)\n",
    "\n",
    "    outs = []\n",
    "    grads = []\n",
    "\n",
    "    corrects = []\n",
    "\n",
    "    model = model.to(device)\n",
    "\n",
    "    model.eval()\n",
    "    for ii, (x, y) in enumerate(tqdm(dataloader)):\n",
    "        x, y = x.to(device), y.to(device)\n",
    "        x.requires_grad_(True)\n",
    "\n",
    "        # Clean at\n",
    "        out = model(x)#.cpu()\n",
    "        correct = (out.argmax(-1) == y).float()\n",
    "        loss = torch.nn.functional.cross_entropy(out, y, reduction='none')\n",
    "        grad_x = torch.autograd.grad(loss.sum(), x, create_graph=False, retain_graph=False)[0].detach().cpu() #.abs().max(1, keepdim=True).values\n",
    "        # logit = out[torch.arange(out.size(0)), y].sum()\n",
    "        # grad_x = torch.autograd.grad(logit, x, create_graph=False, retain_graph=False)[0].detach().cpu().abs().max(1, keepdim=True).values\n",
    "        \n",
    "\n",
    "        outs.append(out.detach().cpu())\n",
    "        corrects.append(correct.detach().cpu())\n",
    "        grads.append(grad_x.detach().cpu())\n",
    "        # if ii == 2:\n",
    "        #     break\n",
    "\n",
    "    outs = torch.cat(outs, 0)\n",
    "    grads = torch.cat(grads, 0)\n",
    "\n",
    "    model = model.to('cpu')\n",
    "\n",
    "    return outs, grads"
   ]
  },
  {
   "cell_type": "code",
   "execution_count": 10,
   "id": "31af0edb",
   "metadata": {},
   "outputs": [
    {
     "name": "stderr",
     "output_type": "stream",
     "text": [
      "100%|██████████| 313/313 [00:04<00:00, 68.86it/s]\n"
     ]
    }
   ],
   "source": [
    "running_mean = torch.zeros((3,))\n",
    "running_std = torch.zeros((3,))\n",
    "for ii, (x, y) in enumerate(tqdm(dataloader)):\n",
    "  running_mean += x.mean((0, 2, 3))\n",
    "  running_std += x.std((0, 2, 3))\n",
    "running_mean = running_mean * 32 / 10000\n",
    "running_std = running_std * 32 / 10000"
   ]
  },
  {
   "cell_type": "code",
   "execution_count": 11,
   "id": "28ee8b7f",
   "metadata": {},
   "outputs": [
    {
     "data": {
      "text/plain": [
       "(tensor([0.4749, 0.4466, 0.3962]),\n",
       " tensor([0.2718, 0.2645, 0.2758]),\n",
       " tensor(0.),\n",
       " tensor(1.))"
      ]
     },
     "execution_count": 11,
     "metadata": {},
     "output_type": "execute_result"
    }
   ],
   "source": [
    "running_mean, running_std, x.min(), x.max()"
   ]
  },
  {
   "cell_type": "code",
   "execution_count": 12,
   "id": "5c296203",
   "metadata": {},
   "outputs": [
    {
     "data": {
      "text/plain": [
       "Normalize(mean=tensor([0.4850, 0.4560, 0.4060]), std=tensor([0.2290, 0.2240, 0.2250]))"
      ]
     },
     "execution_count": 12,
     "metadata": {},
     "output_type": "execute_result"
    }
   ],
   "source": [
    "load_model(f'outputs/gradnorm_swinb_orig/last.pth.tar')[0]"
   ]
  },
  {
   "cell_type": "code",
   "execution_count": 13,
   "id": "95584610",
   "metadata": {},
   "outputs": [
    {
     "name": "stdout",
     "output_type": "stream",
     "text": [
      "swin_base_patch4_window7_224\n"
     ]
    },
    {
     "name": "stderr",
     "output_type": "stream",
     "text": [
      "100%|██████████| 313/313 [01:04<00:00,  4.82it/s]\n"
     ]
    }
   ],
   "source": [
    "nat_outs, nat_grads = measure_l1_norm(model_name='swin_base_patch4_window7_224')"
   ]
  },
  {
   "cell_type": "code",
   "execution_count": 14,
   "id": "f5a66328",
   "metadata": {},
   "outputs": [
    {
     "data": {
      "text/plain": [
       "(tensor(3891.8076), tensor(0.8531))"
      ]
     },
     "execution_count": 14,
     "metadata": {},
     "output_type": "execute_result"
    }
   ],
   "source": [
    "nat_grads.abs().sum((-3, -2, -1)).mean(), (nat_outs.argmax(-1) == ys).float().mean()"
   ]
  },
  {
   "cell_type": "code",
   "execution_count": 15,
   "id": "6ab09285",
   "metadata": {},
   "outputs": [
    {
     "name": "stdout",
     "output_type": "stream",
     "text": [
      "eccv_outputs/advtrain_swinb_orig/last.pth.tar\n"
     ]
    },
    {
     "name": "stderr",
     "output_type": "stream",
     "text": [
      "100%|██████████| 313/313 [01:05<00:00,  4.81it/s]\n"
     ]
    }
   ],
   "source": [
    "at_outs, at_grads = measure_l1_norm(model_path='outputs/advtrain_swinb_orig/last.pth.tar')"
   ]
  },
  {
   "cell_type": "code",
   "execution_count": 16,
   "id": "94596d3b",
   "metadata": {},
   "outputs": [
    {
     "data": {
      "text/plain": [
       "(tensor(35.9050), tensor(0.7705))"
      ]
     },
     "execution_count": 16,
     "metadata": {},
     "output_type": "execute_result"
    }
   ],
   "source": [
    "at_grads.abs().sum((-3, -2, -1)).mean(), (at_outs.argmax(-1) == ys).float().mean()"
   ]
  },
  {
   "cell_type": "code",
   "execution_count": 17,
   "id": "26a825c9",
   "metadata": {},
   "outputs": [
    {
     "name": "stdout",
     "output_type": "stream",
     "text": [
      "eccv_outputs/gradnorm_swinb_variant/2024-02-14_11-30-41/last.pth.tar\n"
     ]
    },
    {
     "name": "stderr",
     "output_type": "stream",
     "text": [
      "100%|██████████| 313/313 [01:05<00:00,  4.79it/s]\n"
     ]
    },
    {
     "data": {
      "text/plain": [
       "tensor(36.4554)"
      ]
     },
     "execution_count": 17,
     "metadata": {},
     "output_type": "execute_result"
    }
   ],
   "source": [
    "gns_outs, gns_grads = measure_l1_norm(f'outputs/gradnorm_swinb_variant/2024-02-14_11-30-41/last.pth.tar')\n",
    "gns_grads.abs().sum((-3, -2, -1)).mean()"
   ]
  },
  {
   "cell_type": "code",
   "execution_count": 18,
   "id": "4be888a6",
   "metadata": {},
   "outputs": [
    {
     "data": {
      "text/plain": [
       "(tensor(36.4554), tensor(0.7764))"
      ]
     },
     "execution_count": 18,
     "metadata": {},
     "output_type": "execute_result"
    }
   ],
   "source": [
    "gns_grads.abs().sum((-3, -2, -1)).mean(), (gns_outs.argmax(-1) == ys).float().mean()"
   ]
  },
  {
   "cell_type": "code",
   "execution_count": 19,
   "id": "bebe4397",
   "metadata": {},
   "outputs": [
    {
     "name": "stdout",
     "output_type": "stream",
     "text": [
      "eccv_outputs/gradnorm_swinb_orig/last.pth.tar\n"
     ]
    },
    {
     "name": "stderr",
     "output_type": "stream",
     "text": [
      "100%|██████████| 313/313 [01:04<00:00,  4.82it/s]\n"
     ]
    },
    {
     "data": {
      "text/plain": [
       "tensor(36.7373)"
      ]
     },
     "execution_count": 19,
     "metadata": {},
     "output_type": "execute_result"
    }
   ],
   "source": [
    "gnw_outs, gnw_grads = measure_l1_norm(model_path=f'outputs/gradnorm_swinb_orig/last.pth.tar')\n",
    "gnw_grads.abs().sum((-3, -2, -1)).mean()"
   ]
  },
  {
   "cell_type": "code",
   "execution_count": 20,
   "id": "d5d30e44",
   "metadata": {},
   "outputs": [
    {
     "data": {
      "text/plain": [
       "(tensor(36.7373), tensor(0.7756))"
      ]
     },
     "execution_count": 20,
     "metadata": {},
     "output_type": "execute_result"
    }
   ],
   "source": [
    "gnw_grads.abs().sum((-3, -2, -1)).mean(), (gnw_outs.argmax(-1) == ys).float().mean()"
   ]
  },
  {
   "cell_type": "code",
   "execution_count": 21,
   "id": "cae21cf6",
   "metadata": {},
   "outputs": [],
   "source": [
    "from typing import Tuple\n",
    "import torch.nn.functional as F\n",
    "\n",
    "def curvature_hessian_estimator(model: torch.nn.Module,\n",
    "                        image: torch.Tensor,\n",
    "                        target: torch.Tensor,\n",
    "                        num_power_iter: int=20) -> Tuple[torch.Tensor, torch.Tensor, torch.Tensor]:\n",
    "\n",
    "    model.eval()\n",
    "    u = torch.randn_like(image)\n",
    "    u /= torch.norm(u, p=2, dim=(1, 2, 3), keepdim=True)\n",
    "\n",
    "    with torch.enable_grad():\n",
    "        image = image.requires_grad_()\n",
    "        out = model(image)\n",
    "        # print((out.argmax(-1) == target).float().mean(), target)\n",
    "        y = F.log_softmax(out, 1)\n",
    "        output = F.nll_loss(y, target, reduction='none')\n",
    "        model.zero_grad()\n",
    "        # Gradients w.r.t. input\n",
    "        gradients = torch.autograd.grad(outputs=output.sum(),\n",
    "                                        inputs=image, create_graph=True)[0]\n",
    "        gnorm = torch.norm(gradients, p=2, dim=(1, 2, 3))\n",
    "        gnorm_1 = gradients.abs().sum((1, 2, 3))\n",
    "        assert not gradients.isnan().any()\n",
    "\n",
    "        # Power method to find singular value of Hessian\n",
    "        for _ in range(num_power_iter):\n",
    "            grad_vector_prod = (gradients * u.detach_()).sum()\n",
    "            hessian_vector_prod = torch.autograd.grad(outputs=grad_vector_prod, inputs=image, retain_graph=True)[0]\n",
    "            assert not hessian_vector_prod.isnan().any()\n",
    "\n",
    "            hvp_norm = torch.norm(hessian_vector_prod, p=2, dim=(1, 2, 3), keepdim=True)\n",
    "            u = hessian_vector_prod.div(hvp_norm + 1e-6) #1e-6 for numerical stability\n",
    "\n",
    "        grad_vector_prod = (gradients * u.detach_()).sum()\n",
    "        hessian_vector_prod = torch.autograd.grad(outputs=grad_vector_prod, inputs=image)[0]\n",
    "        hessian_singular_value = (hessian_vector_prod * u.detach_()).sum((1, 2, 3))\n",
    "    \n",
    "    # curvature = hessian_singular_value / (grad_norm + epsilon) by definition\n",
    "    curvatures = hessian_singular_value.abs().div(gnorm + 1e-6)\n",
    "    hess = hessian_singular_value.abs()\n",
    "    grad = gnorm\n",
    "    grad_1 = gnorm_1\n",
    "    \n",
    "    return curvatures, hess, grad, grad_1\n",
    "\n",
    "\n",
    "def measure_curvature(model: torch.nn.Module,\n",
    "                      dataloader: torch.utils.data.DataLoader,\n",
    "                      data_fraction: float=0.1,\n",
    "                      batch_size: int=64,\n",
    "                      num_power_iter: int=20,\n",
    "                      device: torch.device='cpu') -> Tuple[tuple, tuple, tuple]:\n",
    "\n",
    "    \"\"\"\n",
    "    Compute curvature, hessian norm and gradient norm of a subset of the data given by the dataloader.\n",
    "    These values are computed using the power method, which requires setting the number of power iterations (num_power_iter).\n",
    "    \"\"\"\n",
    "\n",
    "    model.eval()\n",
    "    datasize = int(data_fraction * len(dataloader.dataset))\n",
    "    max_batches = int(datasize / batch_size)\n",
    "    curvature_agg = torch.zeros(size=(datasize,))\n",
    "    grad_agg = torch.zeros(size=(datasize,))\n",
    "    hess_agg = torch.zeros(size=(datasize,))\n",
    "    grad_1_agg = torch.zeros(size=(datasize,))\n",
    "\n",
    "    for idx, (data, target) in enumerate(tqdm(dataloader)):\n",
    "        data, target = data.to(device).requires_grad_(), target.to(device)\n",
    "        with torch.no_grad():\n",
    "            curvatures, hess, grad, grad_1 = curvature_hessian_estimator(model, data, target, num_power_iter=num_power_iter)\n",
    "        curvature_agg[idx * batch_size:(idx + 1) * batch_size] = curvatures.detach()\n",
    "        hess_agg[idx * batch_size:(idx + 1) * batch_size] = hess.detach()\n",
    "        grad_agg[idx * batch_size:(idx + 1) * batch_size] = grad.detach()\n",
    "        grad_1_agg[idx * batch_size:(idx + 1) * batch_size] = grad_1.detach()\n",
    "\n",
    "        avg_curvature, std_curvature = curvature_agg.mean().item(), curvature_agg.std().item()\n",
    "        avg_hessian, std_hessian = hess_agg.mean().item(), hess_agg.std().item()\n",
    "        avg_grad, std_grad = grad_agg.mean().item(), grad_agg.std().item()\n",
    "        avg_grad_1, std_grad_1 = grad_1_agg.mean().item(), grad_1_agg.std().item()\n",
    "\n",
    "        if idx == (max_batches - 1):\n",
    "            print('Average Curvature: {:.6f} +/- {:.2f} '.format(avg_curvature, std_curvature))\n",
    "            print('Average Hessian Spectral Norm: {:.6f} +/- {:.2f} '.format(avg_hessian, std_hessian))\n",
    "            print('Average Gradient Norm: {:.6f} +/- {:.2f}'.format(avg_grad, std_grad))\n",
    "            print('Average Gradient L1 Norm: {:.6f} +/- {:.2f}'.format(avg_grad_1, std_grad_1))\n",
    "            return curvature_agg, hess_agg, grad_agg, grad_1_agg"
   ]
  },
  {
   "cell_type": "code",
   "execution_count": 22,
   "id": "a157f324",
   "metadata": {},
   "outputs": [],
   "source": [
    "def launch_measure_curvature(model_path=None, model_name=None):\n",
    "  if model_path:\n",
    "    model = load_model(model_path)\n",
    "    print(model_path)\n",
    "  elif model_name:\n",
    "    model = load_public_model(model_name)\n",
    "    print(model_name)\n",
    "\n",
    "  model = model.to(device)\n",
    "\n",
    "  return measure_curvature(model, dataloader, data_fraction=3200./10000., batch_size=dataloader.batch_size, device=device)"
   ]
  },
  {
   "cell_type": "code",
   "execution_count": 23,
   "id": "b7a9e184",
   "metadata": {},
   "outputs": [
    {
     "name": "stdout",
     "output_type": "stream",
     "text": [
      "swin_base_patch4_window7_224\n"
     ]
    },
    {
     "name": "stderr",
     "output_type": "stream",
     "text": [
      " 32%|███▏      | 99/313 [15:01<32:27,  9.10s/it]"
     ]
    },
    {
     "name": "stdout",
     "output_type": "stream",
     "text": [
      "Average Curvature: 17673.175781 +/- 96353.66 \n",
      "Average Hessian Spectral Norm: 1436205.125000 +/- 21786998.00 \n",
      "Average Gradient Norm: 28.674477 +/- 93.81\n",
      "Average Gradient L1 Norm: 4113.767090 +/- 9481.14\n"
     ]
    },
    {
     "name": "stderr",
     "output_type": "stream",
     "text": [
      "\n"
     ]
    },
    {
     "data": {
      "text/plain": [
       "(tensor([ 6478.2798,  3057.1111, 12856.1201,  ...,  1372.2876,  1593.4756,\n",
       "          2873.5393]),\n",
       " tensor([156733.6562,  17198.1816, 331758.2500,  ...,   1820.6069,\n",
       "           6047.1543,  51871.5469]),\n",
       " tensor([24.1937,  5.6256, 25.8055,  ...,  1.3267,  3.7949, 18.0514]),\n",
       " tensor([2491.3491,  571.9424, 5069.7207,  ...,  228.1461,  624.6285,\n",
       "         3779.5981]))"
      ]
     },
     "execution_count": 23,
     "metadata": {},
     "output_type": "execute_result"
    }
   ],
   "source": [
    "launch_measure_curvature(model_name='swin_base_patch4_window7_224')"
   ]
  },
  {
   "cell_type": "code",
   "execution_count": 24,
   "id": "371b75d0",
   "metadata": {},
   "outputs": [],
   "source": [
    "results_dict = {}"
   ]
  },
  {
   "cell_type": "code",
   "execution_count": 25,
   "id": "1837fd1d",
   "metadata": {},
   "outputs": [],
   "source": [
    "def linear_stats(k):\n",
    "  x = results_dict[k]\n",
    "  return x.mean().item(), x.std().item()\n",
    "\n",
    "def log_stats(k):\n",
    "  x = results_dict[k][0] + 1e-17\n",
    "  return x.log10().mean().item(), x.log10().std().item(),  x.mean().item()"
   ]
  },
  {
   "cell_type": "code",
   "execution_count": 26,
   "id": "56ea7f1f",
   "metadata": {},
   "outputs": [
    {
     "name": "stdout",
     "output_type": "stream",
     "text": [
      "swin_base_patch4_window7_224\n"
     ]
    },
    {
     "name": "stderr",
     "output_type": "stream",
     "text": [
      " 32%|███▏      | 99/313 [14:59<32:25,  9.09s/it]"
     ]
    },
    {
     "name": "stdout",
     "output_type": "stream",
     "text": [
      "Average Curvature: 17665.507812 +/- 96353.48 \n",
      "Average Hessian Spectral Norm: 1436044.750000 +/- 21787018.00 \n",
      "Average Gradient Norm: 28.674477 +/- 93.81\n",
      "Average Gradient L1 Norm: 4113.767090 +/- 9481.14\n"
     ]
    },
    {
     "name": "stderr",
     "output_type": "stream",
     "text": [
      "\n"
     ]
    }
   ],
   "source": [
    "results_dict['natural'] = launch_measure_curvature(model_name='swin_base_patch4_window7_224')\n",
    "# swin_base_patch4_window7_224\n",
    "#   1%|          | 9/1000 [00:29<53:48,  3.26s/it]\n",
    "# Average Curvature: 329.745911 +/- 848.00 \n",
    "# Average Hessian Spectral Norm: 2281.421875 +/- 16798.63 \n",
    "# Average Gradient Norm: 2.281582 +/- 5.38"
   ]
  },
  {
   "cell_type": "code",
   "execution_count": 27,
   "id": "773177b5",
   "metadata": {},
   "outputs": [
    {
     "data": {
      "text/plain": [
       "(3.6610682010650635, 0.6375203728675842, 17665.5078125)"
      ]
     },
     "execution_count": 27,
     "metadata": {},
     "output_type": "execute_result"
    }
   ],
   "source": [
    "log_stats('natural')"
   ]
  },
  {
   "cell_type": "code",
   "execution_count": 28,
   "id": "0611f8c6",
   "metadata": {},
   "outputs": [
    {
     "name": "stdout",
     "output_type": "stream",
     "text": [
      "eccv_outputs/advtrain_swinb_orig/last.pth.tar\n"
     ]
    },
    {
     "name": "stderr",
     "output_type": "stream",
     "text": [
      " 32%|███▏      | 99/313 [14:59<32:25,  9.09s/it]"
     ]
    },
    {
     "name": "stdout",
     "output_type": "stream",
     "text": [
      "Average Curvature: 2.165303 +/- 1.82 \n",
      "Average Hessian Spectral Norm: 0.750861 +/- 1.72 \n",
      "Average Gradient Norm: 0.309373 +/- 0.44\n",
      "Average Gradient L1 Norm: 36.656002 +/- 47.84\n"
     ]
    },
    {
     "name": "stderr",
     "output_type": "stream",
     "text": [
      "\n"
     ]
    }
   ],
   "source": [
    "results_dict['advtrain'] = launch_measure_curvature(model_path=f'outputs/advtrain_swinb_orig/last.pth.tar')"
   ]
  },
  {
   "cell_type": "code",
   "execution_count": 29,
   "id": "d1c8e0b0",
   "metadata": {},
   "outputs": [
    {
     "data": {
      "text/plain": [
       "(0.23515693843364716, 0.31273946166038513, 2.1653025150299072)"
      ]
     },
     "execution_count": 29,
     "metadata": {},
     "output_type": "execute_result"
    }
   ],
   "source": [
    "log_stats('advtrain')"
   ]
  },
  {
   "cell_type": "code",
   "execution_count": 30,
   "id": "b053df81",
   "metadata": {},
   "outputs": [
    {
     "name": "stdout",
     "output_type": "stream",
     "text": [
      "eccv_outputs/gradnorm_swinb_variant/2024-02-14_11-30-41/last.pth.tar\n"
     ]
    },
    {
     "name": "stderr",
     "output_type": "stream",
     "text": [
      " 32%|███▏      | 99/313 [14:59<32:24,  9.08s/it]"
     ]
    },
    {
     "name": "stdout",
     "output_type": "stream",
     "text": [
      "Average Curvature: 2.149716 +/- 1.72 \n",
      "Average Hessian Spectral Norm: 0.787794 +/- 3.25 \n",
      "Average Gradient Norm: 0.305790 +/- 0.67\n",
      "Average Gradient L1 Norm: 38.010830 +/- 64.87\n"
     ]
    },
    {
     "name": "stderr",
     "output_type": "stream",
     "text": [
      "\n"
     ]
    }
   ],
   "source": [
    "results_dict['gradnorm_strong'] = launch_measure_curvature(model_path=f'outputs/gradnorm_swinb_variant/2024-02-14_11-30-41/last.pth.tar')"
   ]
  },
  {
   "cell_type": "code",
   "execution_count": 31,
   "id": "69566043",
   "metadata": {},
   "outputs": [
    {
     "data": {
      "text/plain": [
       "(0.23440857231616974, 0.30399277806282043, 2.149716377258301)"
      ]
     },
     "execution_count": 31,
     "metadata": {},
     "output_type": "execute_result"
    }
   ],
   "source": [
    "log_stats('gradnorm_strong')"
   ]
  },
  {
   "cell_type": "code",
   "execution_count": null,
   "id": "8323ee4d",
   "metadata": {},
   "outputs": [],
   "source": [
    "# results_dict['gradnorm_weak'] = launch_measure_curvature(model_path=f'outputs/gradnorm_swinb_orig/last.pth.tar')"
   ]
  },
  {
   "cell_type": "code",
   "execution_count": null,
   "id": "9abc8070",
   "metadata": {},
   "outputs": [
    {
     "data": {
      "text/plain": [
       "(0.20622465014457703, 0.29911452531814575, 2.0155746936798096)"
      ]
     },
     "execution_count": 33,
     "metadata": {},
     "output_type": "execute_result"
    }
   ],
   "source": [
    "# log_stats('gradnorm_weak')"
   ]
  },
  {
   "cell_type": "code",
   "execution_count": null,
   "id": "da1c1f06",
   "metadata": {},
   "outputs": [
    {
     "name": "stdout",
     "output_type": "stream",
     "text": [
      "swin_base_patch4_window7_224\n"
     ]
    },
    {
     "name": "stderr",
     "output_type": "stream",
     "text": [
      " 32%|███▏      | 99/313 [15:02<32:31,  9.12s/it]"
     ]
    },
    {
     "name": "stdout",
     "output_type": "stream",
     "text": [
      "Average Curvature: 17671.580078 +/- 96353.47 \n",
      "Average Hessian Spectral Norm: 1436146.500000 +/- 21787008.00 \n",
      "Average Gradient Norm: 28.674477 +/- 93.81\n",
      "Average Gradient L1 Norm: 4113.767090 +/- 9481.14\n"
     ]
    },
    {
     "name": "stderr",
     "output_type": "stream",
     "text": [
      "\n"
     ]
    }
   ],
   "source": [
    "# _ = launch_measure_curvature(model_name='swin_base_patch4_window7_224')"
   ]
  },
  {
   "cell_type": "code",
   "execution_count": 55,
   "id": "d12bb62d",
   "metadata": {},
   "outputs": [],
   "source": [
    "def plot_fn(name, fn, *, index=Ellipsis, split=None, **kwargs):\n",
    "    _at_linerrs = results_dict['advtrain'][0][index].detach().cpu()\n",
    "    _gn_strong_linerrs = results_dict['gradnorm_strong'][0][index].detach().cpu()\n",
    "    _nat_linerrs = results_dict['natural'][0][index].detach().cpu()\n",
    "    print(_at_linerrs.shape, _gn_strong_linerrs.shape, _nat_linerrs.shape)\n",
    "    print(_at_linerrs.min(), _gn_strong_linerrs.min(), _nat_linerrs.min())\n",
    "    if split is None:\n",
    "        split = _at_linerrs.shape[0]\n",
    "    at_fn_v = torch.cat([fn(_x) for _x in _at_linerrs.split(split, dim=0)], 0)\n",
    "    gns_fn_v = torch.cat([fn(_x) for _x in _gn_strong_linerrs.split(split, dim=0)], 0)\n",
    "    nat_fn_v = torch.cat([fn(_x) for _x in _nat_linerrs.split(split, dim=0)], 0)\n",
    "    ax = sns.displot(data=pd.DataFrame(\n",
    "        {\n",
    "            name: torch.cat([at_fn_v, gns_fn_v, nat_fn_v], 0),\n",
    "            \"Training\": (\n",
    "                ([f'Adversarial Training (PGD-3) (mean={at_fn_v.mean():.2e})'] * _at_linerrs.shape[0]) + \n",
    "                ([f'Gradient Norm Regularization (mean={gns_fn_v.mean():.2e})'] * _gn_strong_linerrs.shape[0]) +\n",
    "                ([f'Natural Training (mean={nat_fn_v.mean():.2e})'] * _nat_linerrs.shape[0])\n",
    "            ),\n",
    "        }), kde=True, x=name, hue='Training', \n",
    "        palette = {\n",
    "            f'Adversarial Training (PGD-3) (mean={at_fn_v.mean():.2e})':'red', \n",
    "            f'Gradient Norm Regularization (mean={gns_fn_v.mean():.2e})':'blue',\n",
    "            f'Natural Training (mean={nat_fn_v.mean():.2e})':'orange'\n",
    "        }, **kwargs)\n",
    "    plt.gca().set_ylabel(f'Count (n={_at_linerrs.shape[0]})')\n",
    "    return ax.fig"
   ]
  },
  {
   "cell_type": "code",
   "execution_count": 56,
   "id": "d9c7239a",
   "metadata": {},
   "outputs": [
    {
     "name": "stdout",
     "output_type": "stream",
     "text": [
      "torch.Size([3200]) torch.Size([3200]) torch.Size([3200])\n",
      "tensor(0.0005) tensor(0.0067) tensor(24.2312)\n"
     ]
    },
    {
     "data": {
      "image/png": "[encoded data removed]",
      "text/plain": [
       "<Figure size 891.75x500 with 1 Axes>"
      ]
     },
     "metadata": {},
     "output_type": "display_data"
    }
   ],
   "source": [
    "fig = plot_fn(r'Normalized curvature', lambda x: x + 1e-16, \n",
    "        index=torch.arange(3200), log_scale=(True, False), alpha=0.4)\n",
    "fig.savefig('./figures_suppmat/curvature.pdf', facecolor='white')"
   ]
  },
  {
   "cell_type": "code",
   "execution_count": 59,
   "id": "a2499abc",
   "metadata": {},
   "outputs": [],
   "source": [
    "def plot_fn(name, fn, *, index=Ellipsis, split=None, **kwargs):\n",
    "    _at_linerrs = results_dict['advtrain'][0][index].detach().cpu()\n",
    "    _gn_strong_linerrs = results_dict['gradnorm_strong'][0][index].detach().cpu()\n",
    "    print(_at_linerrs.shape, _gn_strong_linerrs.shape)\n",
    "    print(_at_linerrs.min(), _gn_strong_linerrs.min())\n",
    "    if split is None:\n",
    "        split = _at_linerrs.shape[0]\n",
    "    at_fn_v = torch.cat([fn(_x) for _x in _at_linerrs.split(split, dim=0)], 0)\n",
    "    gns_fn_v = torch.cat([fn(_x) for _x in _gn_strong_linerrs.split(split, dim=0)], 0)\n",
    "    ax = sns.displot(data=pd.DataFrame(\n",
    "        {\n",
    "            name: torch.cat([at_fn_v, gns_fn_v], 0),\n",
    "            \"Training\": (\n",
    "                ([f'Adversarial Training (PGD-3) (mean={at_fn_v.mean():.2e})'] * _at_linerrs.shape[0]) + \n",
    "                ([f'Gradient Norm Regularization (mean={gns_fn_v.mean():.2e})'] * _gn_strong_linerrs.shape[0])\n",
    "            ),\n",
    "        }), kde=True, x=name, hue='Training', \n",
    "        palette = {\n",
    "            f'Adversarial Training (PGD-3) (mean={at_fn_v.mean():.2e})':'red', \n",
    "            f'Gradient Norm Regularization (mean={gns_fn_v.mean():.2e})':'blue',\n",
    "        }, **kwargs)\n",
    "    plt.gca().set_ylabel(f'Count (n={_at_linerrs.shape[0]})')\n",
    "    return ax.fig"
   ]
  },
  {
   "cell_type": "code",
   "execution_count": 60,
   "id": "4078ff5e",
   "metadata": {},
   "outputs": [
    {
     "name": "stdout",
     "output_type": "stream",
     "text": [
      "torch.Size([3200]) torch.Size([3200])\n",
      "tensor(0.0005) tensor(0.0067)\n"
     ]
    },
    {
     "data": {
      "image/png": "[encoded data removed]",
      "text/plain": [
       "<Figure size 891.75x500 with 1 Axes>"
      ]
     },
     "metadata": {},
     "output_type": "display_data"
    }
   ],
   "source": [
    "fig = plot_fn(r'Normalized curvature', lambda x: x + 1e-16, \n",
    "        index=torch.arange(3200), log_scale=(True, False), alpha=0.4)\n",
    "fig.savefig('./figures_suppmat/curvature_nonat.pdf', facecolor='white')"
   ]
  }
 ],
 "metadata": {
  "kernelspec": {
   "display_name": "Python 3.10.12 64-bit",
   "language": "python",
   "name": "python3"
  },
  "language_info": {
   "codemirror_mode": {
    "name": "ipython",
    "version": 3
   },
   "file_extension": ".py",
   "mimetype": "text/x-python",
   "name": "python",
   "nbconvert_exporter": "python",
   "pygments_lexer": "ipython3",
   "version": "3.10.12"
  },
  "vscode": {
   "interpreter": {
    "hash": "767d51c1340bd893661ea55ea3124f6de3c7a262a8b4abca0554b478b1e2ff90"
   }
  }
 },
 "nbformat": 4,
 "nbformat_minor": 5
}
