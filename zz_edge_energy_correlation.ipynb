{
 "cells": [
  {
   "cell_type": "code",
   "execution_count": 1,
   "id": "65a5dc59-663b-4a6e-b272-297e25490f5e",
   "metadata": {},
   "outputs": [],
   "source": [
    "%matplotlib inline"
   ]
  },
  {
   "cell_type": "code",
   "execution_count": 2,
   "id": "8c949049-a5a2-49cd-840e-3b4177655a29",
   "metadata": {},
   "outputs": [
    {
     "name": "stderr",
     "output_type": "stream",
     "text": [
      "/data/vision/torralba/naturally_robust_models/.local/lib/python3.10/site-packages/tqdm/auto.py:21: TqdmWarning: IProgress not found. Please update jupyter and ipywidgets. See https://ipywidgets.readthedocs.io/en/stable/user_install.html\n",
      "  from .autonotebook import tqdm as notebook_tqdm\n"
     ]
    }
   ],
   "source": [
    "import torch\n",
    "import torch.nn as nn\n",
    "import timm\n",
    "import numpy as np\n",
    "import torchvision\n",
    "import seaborn as sns\n",
    "import matplotlib.pyplot as plt\n",
    "import pandas as pd\n",
    "import robustbench\n",
    "\n",
    "device = torch.device('cuda', 3)"
   ]
  },
  {
   "cell_type": "code",
   "execution_count": 3,
   "id": "4e02b94d",
   "metadata": {},
   "outputs": [],
   "source": [
    "data = torch.load('analysis_data/240206_gen_imagenet_data_10k_noattack.pth', map_location='cpu')\n",
    "# xs = torch.load('/data/vision/torralba/naturally_robust_models/input_norm/outputs/inputs/train_png/inputs.pth')\n",
    "# ys = torch.load('/data/vision/torralba/naturally_robust_models/input_norm/outputs/inputs/train_png/targets.pth')\n",
    "# data = {'xs':xs, 'ys':ys}"
   ]
  },
  {
   "cell_type": "code",
   "execution_count": 4,
   "id": "47afd44f",
   "metadata": {},
   "outputs": [],
   "source": [
    "def abs_normalize(x, q=None, start_dim=-3):\n",
    "  s = torch.quantile(x.abs().flatten(start_dim=start_dim), q=max(q, 1-q), dim=-1, keepdim=False)\n",
    "  x = 0.5 + 0.5 * x/s[(..., ) + (None,)*(-start_dim)]\n",
    "\n",
    "  x = torch.clamp(x, 0., 1.)\n",
    "  return x\n",
    "  \n",
    "def plot_side_by_side_normalize(*images, normalize):\n",
    "  plt.figure(figsize=(20,20))\n",
    "  assert len(images) == len(normalize)\n",
    "  columns = len(images)\n",
    "  for i, image in enumerate(images):\n",
    "      plt.subplot(len(images) // columns + 1, columns, i + 1)\n",
    "      image = image.detach()\n",
    "      with torch.no_grad():\n",
    "        if image.shape[-1] > 3:\n",
    "          image = image.permute(1, 2, 0)\n",
    "        if normalize[i]:\n",
    "          image = abs_normalize(image, q=0.01)\n",
    "        plt.imshow(image, cmap='gray')"
   ]
  },
  {
   "cell_type": "code",
   "execution_count": 5,
   "id": "f29a5164-3b97-40ee-952d-e01c4fca3181",
   "metadata": {},
   "outputs": [],
   "source": [
    "def replace_layers(model, old, new):\n",
    "    for n, module in model.named_children():\n",
    "        if len(list(module.children())) > 0:\n",
    "            ## compound module, go inside it\n",
    "            replace_layers(module, old, new)\n",
    "            \n",
    "        if isinstance(module, old):\n",
    "            ## simple module\n",
    "            setattr(model, n, new)\n",
    "\n",
    "def load_model(path, ema=False):\n",
    "    model_kwargs=dict({\n",
    "            'num_classes': 1000,\n",
    "            'drop_rate': 0.0,\n",
    "            'drop_path_rate': 0.0,\n",
    "            'drop_block_rate': None,\n",
    "            'global_pool': None,\n",
    "            'bn_momentum': None,\n",
    "            'bn_eps': None,\n",
    "    })\n",
    "    if '_resnet_' in path:\n",
    "      model = timm.models.create_model('resnet50', pretrained=False, **model_kwargs)\n",
    "      if '_gelu' in path:\n",
    "        replace_layers(model, nn.ReLU, nn.GELU())\n",
    "    elif '_swinb' in path:\n",
    "      model = timm.models.create_model('swin_base_patch4_window7_224', pretrained=False, **model_kwargs)\n",
    "    elif '_swins' in path:\n",
    "      model = timm.models.create_model('swin_small_patch4_window7_224', pretrained=False, **model_kwargs)\n",
    "    ckpt = torch.load(path)\n",
    "    if ema:\n",
    "      if 'state_dict_ema' in ckpt:\n",
    "        model.load_state_dict(ckpt['state_dict_ema'])\n",
    "      else:\n",
    "        return None\n",
    "    else:\n",
    "      model.load_state_dict(ckpt['state_dict'])\n",
    "    return model.eval()\n",
    "\n",
    "def load_public_model(model_name):\n",
    "  if model_name[0].isupper():\n",
    "    return robustbench.utils.load_model(model_name, dataset='imagenet', threat_model='Linf').cuda()\n",
    "  else:\n",
    "    if 'random' in model_name:\n",
    "      return timm.create_model(model_name[:-len('_random')], pretrained=False).cuda()\n",
    "    else:\n",
    "      return timm.create_model(model_name, pretrained=True).cuda()"
   ]
  },
  {
   "cell_type": "code",
   "execution_count": 121,
   "id": "78217eaa-b99d-4952-ab5c-7f19a1c42e79",
   "metadata": {},
   "outputs": [],
   "source": [
    "model_path = f'outputs/advtrain_swinb_orig/last.pth.tar'\n",
    "model = load_model(model_path).to(device)\n",
    "\n",
    "# model_path = f'outputs/gradnorm_swinb_variant/2024-02-14_11-30-41/last.pth.tar'\n",
    "# model = load_model(model_path).to(device)\n",
    "\n",
    "#model_path = f'outputs/logitsobel_swinb/checkpoint-138.pth.tar'\n",
    "#model = load_model(model_path).to(device)\n",
    "\n",
    "# model = load_public_model('swin_base_patch4_window7_224').to(device)\n",
    "# model = load_public_model('Liu2023Comprehensive_Swin-B').to(device)"
   ]
  },
  {
   "cell_type": "code",
   "execution_count": 122,
   "id": "af6bc5f0-8be9-441c-a8bc-975f910ebeb1",
   "metadata": {},
   "outputs": [],
   "source": [
    "from timm.data import resolve_data_config\n",
    "from timm.data.transforms_factory import create_transform\n",
    "\n",
    "val_transform = create_transform(\n",
    "    **resolve_data_config(model.pretrained_cfg, model=model),\n",
    "    is_training=False,\n",
    ")"
   ]
  },
  {
   "cell_type": "code",
   "execution_count": 123,
   "id": "f922abf8-2b1c-4aed-a2b3-e46eee7e10d1",
   "metadata": {},
   "outputs": [],
   "source": [
    "normalize_transform = val_transform.transforms[-1]"
   ]
  },
  {
   "cell_type": "code",
   "execution_count": 124,
   "id": "1839a7c4",
   "metadata": {},
   "outputs": [],
   "source": [
    "model = nn.Sequential(normalize_transform, model)"
   ]
  },
  {
   "cell_type": "code",
   "execution_count": 125,
   "id": "ec3dfe71-ee73-42ea-91a3-cf4e4a995f74",
   "metadata": {},
   "outputs": [],
   "source": [
    "# ds = torchvision.datasets.ImageNet(\n",
    "#     '/data/vision/torralba/datasets/imagenet_pytorch_new',\n",
    "#     'val',\n",
    "#     transform=val_transform,\n",
    "# )"
   ]
  },
  {
   "cell_type": "code",
   "execution_count": 126,
   "id": "a110dd38-d448-44e6-85a2-bb32dc7ab88b",
   "metadata": {},
   "outputs": [],
   "source": [
    "xs = data['xs']\n",
    "ys = data['ys']"
   ]
  },
  {
   "cell_type": "code",
   "execution_count": 127,
   "id": "e44125ec",
   "metadata": {},
   "outputs": [],
   "source": [
    "if xs.min() < 0:\n",
    "  xs = xs*normalize_transform.std[None, :, None, None] + normalize_transform.mean[None, :, None, None]"
   ]
  },
  {
   "cell_type": "code",
   "execution_count": 128,
   "id": "eb50cfcc",
   "metadata": {},
   "outputs": [],
   "source": [
    "N = xs.size(0)\n",
    "xs = xs[:N]\n",
    "ys = ys[:N]\n",
    "sampler_indices = range(N)\n",
    "ds = torch.utils.data.TensorDataset(xs, ys)"
   ]
  },
  {
   "cell_type": "code",
   "execution_count": 129,
   "id": "29976e19",
   "metadata": {},
   "outputs": [
    {
     "name": "stdout",
     "output_type": "stream",
     "text": [
      "10000\n"
     ]
    }
   ],
   "source": [
    "print(len(sampler_indices))"
   ]
  },
  {
   "cell_type": "code",
   "execution_count": 130,
   "id": "1190e5ec-5c27-4e22-b1f0-4d92b0bb9943",
   "metadata": {},
   "outputs": [],
   "source": [
    "from tqdm.auto import tqdm\n",
    "\n",
    "dataloader = torch.utils.data.DataLoader(\n",
    "    ds,\n",
    "    batch_size=32,\n",
    "    sampler=sampler_indices,\n",
    ")"
   ]
  },
  {
   "cell_type": "code",
   "execution_count": 131,
   "id": "b59f2cb2",
   "metadata": {},
   "outputs": [],
   "source": [
    "out = None\n",
    "logit = None\n",
    "grad_x = None"
   ]
  },
  {
   "cell_type": "code",
   "execution_count": 132,
   "id": "d22797d1-aa22-4ab1-8d3e-981e717a6e41",
   "metadata": {},
   "outputs": [
    {
     "name": "stderr",
     "output_type": "stream",
     "text": [
      "100%|██████████| 313/313 [01:04<00:00,  4.86it/s]\n"
     ]
    }
   ],
   "source": [
    "outs = []\n",
    "grads = []\n",
    "\n",
    "for ii, (x, y) in enumerate(tqdm(dataloader)):\n",
    "    x, y = x.to(device), y.to(device)\n",
    "    x.requires_grad_(True)\n",
    "\n",
    "    # Clean at\n",
    "    out = model(x)#.cpu()\n",
    "    loss = torch.nn.functional.cross_entropy(out, y)\n",
    "    grad_x = torch.autograd.grad(loss, x, create_graph=False, retain_graph=False)[0].detach().cpu().abs().sum(1, keepdim=True)\n",
    "    #logit = out[torch.arange(out.size(0)), y].sum()\n",
    "    #grad_x = torch.autograd.grad(logit, x, create_graph=False, retain_graph=False)[0].detach().cpu().abs().max(1, keepdim=True).values\n",
    "\n",
    "    outs.append(out)\n",
    "    grads.append(grad_x)\n",
    "    # if ii == 2:\n",
    "    #     break"
   ]
  },
  {
   "cell_type": "code",
   "execution_count": 133,
   "id": "635c0480-00c9-401a-946a-91600ffa45f4",
   "metadata": {},
   "outputs": [],
   "source": [
    "outs = torch.cat(outs, 0)\n",
    "grads = torch.cat(grads, 0)"
   ]
  },
  {
   "cell_type": "code",
   "execution_count": 134,
   "id": "30dfdef7",
   "metadata": {},
   "outputs": [],
   "source": [
    "from gradient_teachers import ContourEnergy\n",
    "import torch.nn.functional as F\n",
    "\n",
    "sobel = ContourEnergy(1., 3)\n",
    "\n",
    "def laplacian(x):\n",
    "\n",
    "  h = [[0., -1., 0.],\n",
    "       [-1., 4, -1.],\n",
    "       [0., -1., 0.]]\n",
    "  h = torch.Tensor(h)\n",
    "  \n",
    "  N, C, H, W = x.shape\n",
    "  p2d = tuple([(h.size(0)-1)//2] * 4)\n",
    "  x = F.pad(x, p2d, \"reflect\")\n",
    "  x = F.conv2d(x, h[None, None, :, :].expand((C, -1, -1, -1)), padding='valid', groups=C)\n",
    "  x = x.abs().mean(1, keepdim=True).expand((-1, C, -1, -1))\n",
    "  return x"
   ]
  },
  {
   "cell_type": "code",
   "execution_count": 135,
   "id": "98e01ab4",
   "metadata": {},
   "outputs": [
    {
     "data": {
      "text/plain": [
       "torch.Size([10000, 3, 224, 224])"
      ]
     },
     "execution_count": 135,
     "metadata": {},
     "output_type": "execute_result"
    }
   ],
   "source": [
    "edges_xs = sobel(xs[:grads.size(0)])\n",
    "# edges_xs = laplacian(xs[:grads.size(0)])\n",
    "edges_xs.shape"
   ]
  },
  {
   "cell_type": "code",
   "execution_count": 136,
   "id": "66242e39",
   "metadata": {},
   "outputs": [
    {
     "data": {
      "text/plain": [
       "torch.Size([10000, 1, 224, 224])"
      ]
     },
     "execution_count": 136,
     "metadata": {},
     "output_type": "execute_result"
    }
   ],
   "source": [
    "grads.shape"
   ]
  },
  {
   "cell_type": "code",
   "execution_count": 145,
   "id": "8e4fe0b5",
   "metadata": {},
   "outputs": [
    {
     "name": "stdout",
     "output_type": "stream",
     "text": [
      "torch.Size([10000, 50176]) torch.Size([10000, 50176])\n"
     ]
    }
   ],
   "source": [
    "u = edges_xs.mean(1, keepdim=True).expand((-1, 1, -1, -1)).flatten(1).clamp(min=1e-3).log()\n",
    "v = grads.flatten(1).log()\n",
    "print(u.shape, v.shape)"
   ]
  },
  {
   "cell_type": "code",
   "execution_count": 146,
   "id": "203d081a",
   "metadata": {},
   "outputs": [
    {
     "data": {
      "text/plain": [
       "array([0.6910233, 0.6488463, 0.5819105, ..., 0.8243225, 0.771029 ,\n",
       "       0.6496512], dtype=float32)"
      ]
     },
     "execution_count": 146,
     "metadata": {},
     "output_type": "execute_result"
    }
   ],
   "source": [
    "corrs = []\n",
    "for ii, (ui, vi) in enumerate(zip(u, v)):\n",
    "  corrs.append(torch.corrcoef(torch.stack([ui, vi]))[0, 1])\n",
    "  # if ii >= 2:\n",
    "  #   break\n",
    "corrs = np.array(corrs)\n",
    "corrs"
   ]
  },
  {
   "cell_type": "code",
   "execution_count": 147,
   "id": "eedc0d4b",
   "metadata": {},
   "outputs": [
    {
     "data": {
      "text/plain": [
       "((10000,), 0.56919587, 0.15685329, -0.1884277, 0.9261033)"
      ]
     },
     "execution_count": 147,
     "metadata": {},
     "output_type": "execute_result"
    }
   ],
   "source": [
    "corrs.shape, corrs.mean(), corrs.std(), corrs.min(), corrs.max()"
   ]
  },
  {
   "cell_type": "code",
   "execution_count": 148,
   "id": "b1c34356",
   "metadata": {},
   "outputs": [
    {
     "ename": "AssertionError",
     "evalue": "",
     "output_type": "error",
     "traceback": [
      "\u001b[0;31m---------------------------------------------------------------------------\u001b[0m",
      "\u001b[0;31mAssertionError\u001b[0m                            Traceback (most recent call last)",
      "Cell \u001b[0;32mIn[148], line 2\u001b[0m\n\u001b[1;32m      1\u001b[0m \u001b[39mif\u001b[39;00m xs\u001b[39m.\u001b[39msize(\u001b[39m0\u001b[39m) \u001b[39m>\u001b[39m \u001b[39m100\u001b[39m:\n\u001b[0;32m----> 2\u001b[0m   \u001b[39massert\u001b[39;00m \u001b[39mFalse\u001b[39;00m\n",
      "\u001b[0;31mAssertionError\u001b[0m: "
     ]
    }
   ],
   "source": [
    "if xs.size(0) > 100:\n",
    "  assert False"
   ]
  },
  {
   "cell_type": "code",
   "execution_count": null,
   "id": "761853dc",
   "metadata": {},
   "outputs": [],
   "source": [
    "idx = 0\n",
    "plot_side_by_side_normalize(xs[idx], edges_xs[idx], grads[idx].abs().mean(0, keepdim=True), normalize=(False, True, True))"
   ]
  },
  {
   "cell_type": "code",
   "execution_count": null,
   "id": "6caba09a",
   "metadata": {},
   "outputs": [],
   "source": [
    "u = edges_xs[idx].flatten().log()\n",
    "v = grads[idx].abs().mean(0, keepdim=True).expand((3, -1, -1)).flatten().log()\n",
    "print(u.shape, v.shape)\n",
    "\n",
    "ax = sns.scatterplot(x=u, y=v)\n",
    "corr = torch.corrcoef(torch.stack([u, v]))[0, 1]\n",
    "print(corr)\n",
    "ax.set(xlabel=r'$\\log(|g_x * x|^2 + |g_y * x|^2)$', ylabel=r'$log(|\\nabla_xf(x;\\theta)_y|)$')\n",
    "\n",
    "x = np.linspace(-6, 0, num=100)\n",
    "m, b = np.polyfit(u, v, 1)\n",
    "plt.plot(x, m*x + b, color='blue')"
   ]
  },
  {
   "cell_type": "code",
   "execution_count": null,
   "id": "b7e74d12",
   "metadata": {},
   "outputs": [],
   "source": [
    "import numpy as np\n",
    "import matplotlib.pyplot as plt\n",
    "\n",
    "from flexitext import flexitext\n",
    "\n",
    "from matplotlib import lines\n",
    "from matplotlib import patches\n",
    "from matplotlib.patheffects import withStroke\n",
    "\n",
    "BROWN = \"#AD8C97\"\n",
    "BROWN_DARKER = \"#7d3a46\"\n",
    "GREEN = \"#2FC1D3\"\n",
    "BLUE = \"#076FA1\"\n",
    "GREY = \"#C7C9CB\"\n",
    "GREY_DARKER = \"#5C5B5D\"\n",
    "RED = \"#E3120B\"\n",
    "BLACK = \"#000000\"\n",
    "\n",
    "COLORS = [RED, BLUE]\n",
    "\n",
    "# Initialize plot ------------------------------------------\n",
    "fig, ax = plt.subplots(figsize=(6, 6))\n",
    "\n",
    "# Customize axis -------------------------------------------\n",
    "# Customize y-axis ticks\n",
    "#ax.yaxis.set_ticks([i for i in np.linspace(0, 1, 11)])\n",
    "#ax.yaxis.set_ticklabels([str(round(i,1)) for i in np.linspace(0, 1, 11)])\n",
    "# ax.yaxis.set_tick_params(labelleft=False, length=0)\n",
    "\n",
    "# Customize y-axis ticks\n",
    "#ax.xaxis.set_ticks([2008, 2012, 2016, 2020])\n",
    "#ax.xaxis.set_ticklabels([2008, 12, 16, 20], fontsize=16, fontfamily=\"Econ Sans Cnd\", fontweight=100)\n",
    "#ax.xaxis.set_tick_params(length=6, width=1.2)\n",
    "\n",
    "# Make gridlines be below most artists.\n",
    "ax.set_axisbelow(True)\n",
    "\n",
    "# Remove all spines but the one in the bottom\n",
    "ax.spines[\"right\"].set_visible(True)\n",
    "ax.spines[\"top\"].set_visible(True)\n",
    "ax.spines[\"left\"].set_visible(True)\n",
    "ax.spines[\"bottom\"].set_visible(True)\n",
    "\n",
    "# Customize bottom spine\n",
    "ax.spines[\"bottom\"].set_lw(1.2)\n",
    "ax.spines[\"bottom\"].set_capstyle(\"butt\")\n",
    "\n",
    "\n",
    "x_axis_title = r'$\\log(|g_x * x|^2 + |g_y * x|^2)$'\n",
    "fig.text(\n",
    "    0.4, 0.04, x_axis_title, color=BLACK, \n",
    "    fontsize=12, fontfamily=\"sans serif\"\n",
    ")\n",
    "\n",
    "y_axis_title=r'$log(|\\nabla_xf(x;\\theta)_y|)$'\n",
    "fig.text(\n",
    "    0.02, 0.4, y_axis_title, color=BLACK, \n",
    "    fontsize=12, fontfamily=\"sans serif\", rotation=90,\n",
    ")\n",
    "\n",
    "x = np.linspace(-6, 0, num=100)\n",
    "m, b = np.polyfit(u, v, 1)\n",
    "ax.plot(x, m*x + b, color='black', zorder=1)\n",
    "\n",
    "# Add lines with dots\n",
    "# Note the zorder to have dots be on top of the lines\n",
    "ax.scatter(u, v, fc=RED, s=0.001, lw=1.5, ec=\"red\", marker='o', zorder=0)\n",
    "\n",
    "ax.set_title(rf'R={corr}')"
   ]
  },
  {
   "cell_type": "code",
   "execution_count": null,
   "id": "dde9d858",
   "metadata": {},
   "outputs": [],
   "source": [
    "import numpy as np\n",
    "import matplotlib.pyplot as plt\n",
    "\n",
    "from flexitext import flexitext\n",
    "\n",
    "from matplotlib import lines\n",
    "from matplotlib import patches\n",
    "from matplotlib.patheffects import withStroke\n",
    "\n",
    "def save_plot(gradient, input, path):\n",
    "    \n",
    "    edges_input = sobel(input[None])[0]\n",
    "    u = edges_input.flatten().log()\n",
    "    v = gradient.abs().mean(0, keepdim=True).expand((3, -1, -1)).flatten().log()\n",
    "\n",
    "    BROWN = \"#AD8C97\"\n",
    "    BROWN_DARKER = \"#7d3a46\"\n",
    "    GREEN = \"#2FC1D3\"\n",
    "    BLUE = \"#076FA1\"\n",
    "    GREY = \"#C7C9CB\"\n",
    "    GREY_DARKER = \"#5C5B5D\"\n",
    "    RED = \"#E3120B\"\n",
    "    BLACK = \"#000000\"\n",
    "\n",
    "    COLORS = [RED, BLUE]\n",
    "\n",
    "    # Initialize plot ------------------------------------------\n",
    "    fig, ax = plt.subplots(figsize=(6, 6))\n",
    "\n",
    "    # Customize axis -------------------------------------------\n",
    "    # Customize y-axis ticks\n",
    "    #ax.yaxis.set_ticks([i for i in np.linspace(0, 1, 11)])\n",
    "    #ax.yaxis.set_ticklabels([str(round(i,1)) for i in np.linspace(0, 1, 11)])\n",
    "    # ax.yaxis.set_tick_params(labelleft=False, length=0)\n",
    "\n",
    "    # Customize y-axis ticks\n",
    "    #ax.xaxis.set_ticks([2008, 2012, 2016, 2020])\n",
    "    #ax.xaxis.set_ticklabels([2008, 12, 16, 20], fontsize=16, fontfamily=\"Econ Sans Cnd\", fontweight=100)\n",
    "    #ax.xaxis.set_tick_params(length=6, width=1.2)\n",
    "\n",
    "    # Make gridlines be below most artists.\n",
    "    ax.set_axisbelow(True)\n",
    "\n",
    "    # Remove all spines but the one in the bottom\n",
    "    ax.spines[\"right\"].set_visible(True)\n",
    "    ax.spines[\"top\"].set_visible(True)\n",
    "    ax.spines[\"left\"].set_visible(True)\n",
    "    ax.spines[\"bottom\"].set_visible(True)\n",
    "\n",
    "    # Customize bottom spine\n",
    "    ax.spines[\"bottom\"].set_lw(1.2)\n",
    "    ax.spines[\"bottom\"].set_capstyle(\"butt\")\n",
    "\n",
    "\n",
    "    x_axis_title = r'$\\log(|g_x * x|^2 + |g_y * x|^2)$'\n",
    "    fig.text(\n",
    "        0.4, 0.04, x_axis_title, color=BLACK, \n",
    "        fontsize=12, fontfamily=\"sans serif\"\n",
    "    )\n",
    "\n",
    "    y_axis_title=r'$log(|\\nabla_xf(x;\\theta)_y|)$'\n",
    "    fig.text(\n",
    "        0.02, 0.4, y_axis_title, color=BLACK, \n",
    "        fontsize=12, fontfamily=\"sans serif\", rotation=90,\n",
    "    )\n",
    "\n",
    "    x = np.linspace(round(u.min().item() - 0.5), round(u.max().item()), num=100)\n",
    "    m, b = np.polyfit(u, v, 1)\n",
    "    ax.plot(x, m*x + b, color='black', zorder=1)\n",
    "\n",
    "    # Add lines with dots\n",
    "    # Note the zorder to have dots be on top of the lines\n",
    "    ax.scatter(u, v, fc=RED, s=0.001, lw=1.5, ec=\"red\", marker='o', zorder=0)\n",
    "\n",
    "    ax.set_title(rf'R={corr}')\n",
    "\n",
    "    fig.savefig(path)"
   ]
  },
  {
   "cell_type": "code",
   "execution_count": null,
   "id": "2d0e4277",
   "metadata": {},
   "outputs": [],
   "source": [
    "for i in range(xs.size(0)):\n",
    "  save_plot(grads[i], xs[i], 'test.png')"
   ]
  }
 ],
 "metadata": {
  "kernelspec": {
   "display_name": "Python 3.10.12 64-bit",
   "language": "python",
   "name": "python3"
  },
  "language_info": {
   "codemirror_mode": {
    "name": "ipython",
    "version": 3
   },
   "file_extension": ".py",
   "mimetype": "text/x-python",
   "name": "python",
   "nbconvert_exporter": "python",
   "pygments_lexer": "ipython3",
   "version": "3.10.12"
  },
  "vscode": {
   "interpreter": {
    "hash": "e7370f93d1d0cde622a1f8e1c04877d8463912d04d973331ad4851f04de6915a"
   }
  }
 },
 "nbformat": 4,
 "nbformat_minor": 5
}
